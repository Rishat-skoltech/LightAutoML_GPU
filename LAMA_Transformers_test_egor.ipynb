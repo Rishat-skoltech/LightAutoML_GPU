{
 "cells": [
  {
   "cell_type": "code",
   "execution_count": null,
   "id": "70fb315b",
   "metadata": {},
   "outputs": [],
   "source": [
    "import os\n",
    "import pickle\n",
    "import time\n",
    "\n",
    "from lightautoml.dataset.np_pd_dataset_cupy import *\n",
    "from lightautoml.dataset.roles import *\n",
    "from lightautoml.dataset.utils import roles_parser\n",
    "\n",
    "from lightautoml.tasks import Task"
   ]
  },
  {
   "cell_type": "code",
   "execution_count": null,
   "id": "506b1517",
   "metadata": {},
   "outputs": [],
   "source": [
    "from lightautoml.transformers import numeric_gpu, categorical_gpu, datetime_gpu"
   ]
  },
  {
   "cell_type": "markdown",
   "id": "b124875b",
   "metadata": {},
   "source": [
    "# Initial data load"
   ]
  },
  {
   "cell_type": "code",
   "execution_count": null,
   "id": "1a1ce2b6",
   "metadata": {},
   "outputs": [],
   "source": [
    "data = pd.read_csv('./example_data/test_data_files/sampled_app_train.csv',\n",
    "                       usecols=['TARGET', 'NAME_CONTRACT_TYPE', 'AMT_CREDIT',\n",
    "                                'NAME_TYPE_SUITE', 'AMT_GOODS_PRICE',\n",
    "                                'DAYS_BIRTH', 'DAYS_EMPLOYED'])\n",
    "\n",
    "# Fix dates and convert to date type\n",
    "\n",
    "data['BIRTH_DATE'] = np.datetime64('2018-01-01') + data['DAYS_BIRTH'].astype(np.dtype('timedelta64[D]'))\n",
    "data['EMP_DATE'] = np.datetime64('2018-01-01') + np.clip(data['DAYS_EMPLOYED'], None, 0).astype(np.dtype('timedelta64[D]'))\n",
    "data.drop(['DAYS_BIRTH', 'DAYS_EMPLOYED'], axis=1, inplace=True)\n",
    "\n",
    "# Create folds\n",
    "data['__fold__'] = np.random.randint(0, 5, len(data))\n",
    "\n",
    "# Print data head\n",
    "print(data.head())\n",
    "\n",
    "# # Set roles for columns\n",
    "\n",
    "check_roles = {\n",
    "    TargetRole(): 'TARGET',\n",
    "    CategoryRole(dtype=str): ['NAME_CONTRACT_TYPE', 'NAME_TYPE_SUITE'],\n",
    "    NumericRole(np.float32): ['AMT_CREDIT', 'AMT_GOODS_PRICE'],\n",
    "    DatetimeRole(seasonality=['y', 'm', 'wd']): ['BIRTH_DATE', 'EMP_DATE'],\n",
    "    FoldsRole(): '__fold__'\n",
    "}\n",
    "\n",
    "# create Task\n",
    "task = Task('binary')\n",
    "\n",
    "# # Creating PandasDataSet\n",
    "pd_dataset = PandasDataset(data, roles_parser(check_roles), task=task)\n",
    "\n",
    "cudf_dataset = pd_dataset.to_cudf()"
   ]
  },
  {
   "cell_type": "code",
   "execution_count": null,
   "id": "e51a65d8",
   "metadata": {},
   "outputs": [],
   "source": [
    "np.isnan(data.NAME_TYPE_SUITE.iloc[180])"
   ]
  },
  {
   "cell_type": "code",
   "execution_count": null,
   "id": "f31dd0e5",
   "metadata": {
    "scrolled": true
   },
   "outputs": [],
   "source": [
    "# check for cudf to cupy values conversion\n",
    "print(cudf_dataset.data['AMT_GOODS_PRICE'].values)\n",
    "\n",
    "# check for nan correct representation\n",
    "print(cudf_dataset.data['AMT_GOODS_PRICE'].values.sum())"
   ]
  },
  {
   "cell_type": "markdown",
   "id": "5a2633f4",
   "metadata": {},
   "source": [
    "# Numeric dataset creation & numerical transformers test"
   ]
  },
  {
   "cell_type": "code",
   "execution_count": null,
   "id": "b9375032",
   "metadata": {},
   "outputs": [],
   "source": [
    "check_roles = {\n",
    "    NumericRole(np.float32): ['AMT_CREDIT', 'AMT_GOODS_PRICE'],\n",
    "}\n",
    "\n",
    "numeric_dataset = CudfDataset(data=cudf_dataset.data[['AMT_CREDIT',\\\n",
    "                                                      'AMT_GOODS_PRICE']].copy(),\n",
    "                        roles=roles_parser(check_roles),\n",
    "                        task=task)"
   ]
  },
  {
   "cell_type": "code",
   "execution_count": null,
   "id": "447b3bb1",
   "metadata": {},
   "outputs": [],
   "source": [
    "numeric_dataset.folds"
   ]
  },
  {
   "cell_type": "markdown",
   "id": "a9cf214d",
   "metadata": {},
   "source": [
    "## FillNA transformer"
   ]
  },
  {
   "cell_type": "code",
   "execution_count": null,
   "id": "1247de9a",
   "metadata": {},
   "outputs": [],
   "source": [
    "filler = numeric_gpu.FillnaMedian()"
   ]
  },
  {
   "cell_type": "code",
   "execution_count": null,
   "id": "72ea78a3",
   "metadata": {},
   "outputs": [],
   "source": [
    "filled_dataset = filler.fit_transform(numeric_dataset)\n",
    "print(filled_dataset)"
   ]
  },
  {
   "cell_type": "markdown",
   "id": "a313c84b",
   "metadata": {},
   "source": [
    "## Standard scaler transformer"
   ]
  },
  {
   "cell_type": "code",
   "execution_count": null,
   "id": "2386562d",
   "metadata": {},
   "outputs": [],
   "source": [
    "scaler = numeric_gpu.StandardScaler()"
   ]
  },
  {
   "cell_type": "code",
   "execution_count": null,
   "id": "8f489dfe",
   "metadata": {},
   "outputs": [],
   "source": [
    "scaler.fit_transform(filled_dataset)"
   ]
  },
  {
   "cell_type": "markdown",
   "id": "81b05b75",
   "metadata": {},
   "source": [
    "## NANRate"
   ]
  },
  {
   "cell_type": "code",
   "execution_count": null,
   "id": "d0933b54",
   "metadata": {},
   "outputs": [],
   "source": [
    "nan_rate = numeric_gpu.NaNFlags()"
   ]
  },
  {
   "cell_type": "code",
   "execution_count": null,
   "id": "32863cc9",
   "metadata": {},
   "outputs": [],
   "source": [
    "nan_rate.fit_transform(numeric_dataset)"
   ]
  },
  {
   "cell_type": "markdown",
   "id": "4bd42395",
   "metadata": {},
   "source": [
    "## FillInf transformer"
   ]
  },
  {
   "cell_type": "code",
   "execution_count": null,
   "id": "f3621487",
   "metadata": {},
   "outputs": [],
   "source": [
    "fill_inf = numeric_gpu.FillInf()"
   ]
  },
  {
   "cell_type": "code",
   "execution_count": null,
   "id": "5d767b02",
   "metadata": {},
   "outputs": [],
   "source": [
    "test_dataset = numeric_dataset.to_numpy().to_cupy()"
   ]
  },
  {
   "cell_type": "code",
   "execution_count": null,
   "id": "d76bb4c3",
   "metadata": {},
   "outputs": [],
   "source": [
    "test_dataset.data[-1,0] = cp.inf"
   ]
  },
  {
   "cell_type": "code",
   "execution_count": null,
   "id": "cb24f4bd",
   "metadata": {},
   "outputs": [],
   "source": [
    "fill_inf.fit_transform(test_dataset)"
   ]
  },
  {
   "cell_type": "code",
   "execution_count": null,
   "id": "bd2d4b06",
   "metadata": {},
   "outputs": [],
   "source": [
    "test_dataset"
   ]
  },
  {
   "cell_type": "markdown",
   "id": "e1d75464",
   "metadata": {},
   "source": [
    "## QuantileBinning transformer"
   ]
  },
  {
   "cell_type": "code",
   "execution_count": null,
   "id": "a0d3fa8b",
   "metadata": {},
   "outputs": [],
   "source": [
    "qb = numeric_gpu.QuantileBinning()"
   ]
  },
  {
   "cell_type": "code",
   "execution_count": null,
   "id": "26df4a87",
   "metadata": {},
   "outputs": [],
   "source": [
    "qb.fit_transform(filled_dataset)"
   ]
  },
  {
   "cell_type": "code",
   "execution_count": null,
   "id": "001769cd",
   "metadata": {},
   "outputs": [],
   "source": [
    "filled_dataset"
   ]
  },
  {
   "cell_type": "markdown",
   "id": "d0436592",
   "metadata": {},
   "source": [
    "# Categorical dataset creation & categorical transformers test"
   ]
  },
  {
   "cell_type": "code",
   "execution_count": null,
   "id": "692fa1e9",
   "metadata": {},
   "outputs": [],
   "source": [
    "check_roles = {\n",
    "    CategoryRole(dtype=str): ['NAME_CONTRACT_TYPE', 'NAME_TYPE_SUITE'],\n",
    "}"
   ]
  },
  {
   "cell_type": "code",
   "execution_count": null,
   "id": "1767c4d0",
   "metadata": {},
   "outputs": [],
   "source": [
    "categorical_dataset = CudfDataset(data=cudf_dataset.data[['NAME_CONTRACT_TYPE',\\\n",
    "                                                      'NAME_TYPE_SUITE']].copy(),\n",
    "                        roles=roles_parser(check_roles),\n",
    "                        task=task)"
   ]
  },
  {
   "cell_type": "code",
   "execution_count": null,
   "id": "e9b87ab9",
   "metadata": {},
   "outputs": [],
   "source": [
    "categorical_dataset.data.NAME_TYPE_SUITE.isna().sum()"
   ]
  },
  {
   "cell_type": "code",
   "execution_count": null,
   "id": "c4feb236",
   "metadata": {},
   "outputs": [],
   "source": []
  },
  {
   "cell_type": "markdown",
   "id": "67f3e214",
   "metadata": {},
   "source": [
    "## Label Encoder transformer"
   ]
  },
  {
   "cell_type": "code",
   "execution_count": null,
   "id": "e510444f",
   "metadata": {},
   "outputs": [],
   "source": [
    "le = categorical_gpu.LabelEncoder()"
   ]
  },
  {
   "cell_type": "code",
   "execution_count": null,
   "id": "cbcbd3ba",
   "metadata": {},
   "outputs": [],
   "source": [
    "type(categorical_dataset) == CudfDataset"
   ]
  },
  {
   "cell_type": "code",
   "execution_count": null,
   "id": "310ccec0",
   "metadata": {},
   "outputs": [],
   "source": [
    "a = le.fit_transform(categorical_dataset).data"
   ]
  },
  {
   "cell_type": "code",
   "execution_count": null,
   "id": "f560b884",
   "metadata": {},
   "outputs": [],
   "source": [
    "encoded_dataset = le.transform(categorical_dataset)"
   ]
  },
  {
   "cell_type": "code",
   "execution_count": null,
   "id": "4695b87a",
   "metadata": {},
   "outputs": [],
   "source": [
    "from lightautoml.transformers.categorical import LabelEncoder as LE"
   ]
  },
  {
   "cell_type": "code",
   "execution_count": null,
   "id": "6e26f7f4",
   "metadata": {},
   "outputs": [],
   "source": [
    "label = LE()\n",
    "b = label.fit_transform(encoded_dataset.to_cudf().to_pandas()).data"
   ]
  },
  {
   "cell_type": "code",
   "execution_count": null,
   "id": "7bc6f555",
   "metadata": {},
   "outputs": [],
   "source": [
    "(b == cp.asnumpy(a)).all()"
   ]
  },
  {
   "cell_type": "markdown",
   "id": "bfee184c",
   "metadata": {},
   "source": [
    "## OneHot Encoder transformer"
   ]
  },
  {
   "cell_type": "code",
   "execution_count": null,
   "id": "64982906",
   "metadata": {},
   "outputs": [],
   "source": [
    "ohe = categorical_gpu.OHEEncoder()"
   ]
  },
  {
   "cell_type": "code",
   "execution_count": null,
   "id": "122bd518",
   "metadata": {},
   "outputs": [],
   "source": [
    "ohe.fit_transform(encoded_dataset)"
   ]
  },
  {
   "cell_type": "code",
   "execution_count": null,
   "id": "3bf6d545",
   "metadata": {},
   "outputs": [],
   "source": [
    "from cuml.preprocessing import OneHotEncoder"
   ]
  },
  {
   "cell_type": "code",
   "execution_count": null,
   "id": "eda7a5e7",
   "metadata": {},
   "outputs": [],
   "source": [
    "ohe_ = OneHotEncoder(categories='auto',\n",
    "                                 dtype=cp.float32, sparse=False,\n",
    "                                 handle_unknown='ignore')"
   ]
  },
  {
   "cell_type": "code",
   "execution_count": null,
   "id": "45e7b651",
   "metadata": {},
   "outputs": [],
   "source": [
    "a = ohe_.fit_transform(encoded_dataset.data)"
   ]
  },
  {
   "cell_type": "code",
   "execution_count": null,
   "id": "22f0e31e",
   "metadata": {},
   "outputs": [],
   "source": [
    "b = ohe.fit_transform(encoded_dataset)"
   ]
  },
  {
   "cell_type": "code",
   "execution_count": null,
   "id": "0b5a3910",
   "metadata": {},
   "outputs": [],
   "source": [
    "(a == b.data).all()"
   ]
  },
  {
   "cell_type": "code",
   "execution_count": null,
   "id": "a182ae74",
   "metadata": {},
   "outputs": [],
   "source": [
    "b.data"
   ]
  },
  {
   "cell_type": "markdown",
   "id": "38f0d0b2",
   "metadata": {},
   "source": [
    "## FreqEncoder transformer"
   ]
  },
  {
   "cell_type": "code",
   "execution_count": null,
   "id": "51a77764",
   "metadata": {},
   "outputs": [],
   "source": [
    "freq_enc = categorical_gpu.FreqEncoder()"
   ]
  },
  {
   "cell_type": "code",
   "execution_count": null,
   "id": "04d957e3",
   "metadata": {},
   "outputs": [],
   "source": [
    "freq_enc.fit_transform(encoded_dataset)"
   ]
  },
  {
   "cell_type": "code",
   "execution_count": null,
   "id": "97d4a1e1",
   "metadata": {},
   "outputs": [],
   "source": [
    "from lightautoml.transformers.categorical import FreqEncoder as fe"
   ]
  },
  {
   "cell_type": "code",
   "execution_count": null,
   "id": "76737227",
   "metadata": {},
   "outputs": [],
   "source": [
    "fe_ = fe()"
   ]
  },
  {
   "cell_type": "code",
   "execution_count": null,
   "id": "456a1725",
   "metadata": {},
   "outputs": [],
   "source": [
    "fe_.fit_transform(encoded_dataset.to_cudf().to_pandas())"
   ]
  },
  {
   "cell_type": "code",
   "execution_count": null,
   "id": "da33e23e",
   "metadata": {},
   "outputs": [],
   "source": [
    "(freq_enc.fit_transform(encoded_dataset).to_numpy().data ==\\\n",
    "fe_.fit_transform(encoded_dataset.to_cudf().to_pandas()).data).all()"
   ]
  },
  {
   "cell_type": "markdown",
   "id": "f8a3755d",
   "metadata": {},
   "source": [
    "## TargetEncoder transformer"
   ]
  },
  {
   "cell_type": "code",
   "execution_count": null,
   "id": "1289af8b",
   "metadata": {},
   "outputs": [],
   "source": [
    "encoded_dataset.folds = cudf_dataset.folds\n",
    "encoded_dataset.target = cudf_dataset.target"
   ]
  },
  {
   "cell_type": "code",
   "execution_count": null,
   "id": "66fb0f23",
   "metadata": {},
   "outputs": [],
   "source": [
    "target_enc = categorical_gpu.TargetEncoder()"
   ]
  },
  {
   "cell_type": "code",
   "execution_count": null,
   "id": "cb295bba",
   "metadata": {},
   "outputs": [],
   "source": [
    "a = target_enc.fit_transform(encoded_dataset)"
   ]
  },
  {
   "cell_type": "code",
   "execution_count": null,
   "id": "d7f5d2c7",
   "metadata": {},
   "outputs": [],
   "source": [
    "from lightautoml.transformers.categorical import TargetEncoder as te"
   ]
  },
  {
   "cell_type": "code",
   "execution_count": null,
   "id": "cbe1208a",
   "metadata": {},
   "outputs": [],
   "source": [
    "target_cpu = te()\n",
    "\n",
    "encoded_cpu = encoded_dataset.to_cudf().to_pandas().to_numpy()\n",
    "encoded_cpu.folds = cp.asnumpy(encoded_dataset.folds)\n",
    "encoded_cpu.target = cp.asnumpy(encoded_dataset.target)\n",
    "b = target_cpu.fit_transform(encoded_cpu)"
   ]
  },
  {
   "cell_type": "code",
   "execution_count": null,
   "id": "b6ede795",
   "metadata": {},
   "outputs": [],
   "source": [
    "np.allclose(cp.asnumpy(a.data), b.data)"
   ]
  },
  {
   "cell_type": "markdown",
   "id": "f45bbe51",
   "metadata": {},
   "source": [
    "## Multiclass TargetEncoder transformer"
   ]
  },
  {
   "cell_type": "code",
   "execution_count": null,
   "id": "1b8d99c0",
   "metadata": {},
   "outputs": [],
   "source": [
    "task = Task('multiclass')\n",
    "check_roles = {\n",
    "    CategoryRole(dtype=int): ['le__NAME_CONTRACT_TYPE', 'le__NAME_TYPE_SUITE'],\n",
    "}\n",
    "\n",
    "encoded_multiclass = CupyDataset(data=encoded_dataset.data.copy(),\n",
    "                        features=['le__NAME_CONTRACT_TYPE', 'le__NAME_TYPE_SUITE'],\n",
    "                        roles=roles_parser(check_roles),\n",
    "                        task=task)\n",
    "\n",
    "encoded_multiclass.target = cudf.Series(cp.random.randint(0,5,10000))"
   ]
  },
  {
   "cell_type": "code",
   "execution_count": null,
   "id": "2ec7371c",
   "metadata": {},
   "outputs": [],
   "source": [
    "le = categorical_gpu.LabelEncoder()\n",
    "multi_te = categorical_gpu.MultiClassTargetEncoder()"
   ]
  },
  {
   "cell_type": "code",
   "execution_count": null,
   "id": "754c82b7",
   "metadata": {},
   "outputs": [],
   "source": [
    "encoded_le = le.fit_transform(encoded_multiclass)\n",
    "encoded_le.target = encoded_multiclass.target\n",
    "encoded_le.folds = encoded_dataset.folds\n",
    "a = multi_te.fit_transform(encoded_le).data"
   ]
  },
  {
   "cell_type": "code",
   "execution_count": null,
   "id": "57882ed7",
   "metadata": {},
   "outputs": [],
   "source": [
    "encoded_cpu = encoded_le.to_cudf().to_pandas().to_numpy()\n",
    "encoded_cpu.target = encoded_multiclass.target.to_pandas().values\n",
    "encoded_cpu.folds = encoded_dataset.folds.to_pandas().values"
   ]
  },
  {
   "cell_type": "code",
   "execution_count": null,
   "id": "34d3ed9e",
   "metadata": {},
   "outputs": [],
   "source": [
    "from lightautoml.transformers.categorical import MultiClassTargetEncoder as MCTE"
   ]
  },
  {
   "cell_type": "code",
   "execution_count": null,
   "id": "6386bbc8",
   "metadata": {},
   "outputs": [],
   "source": [
    "mlc = MCTE()"
   ]
  },
  {
   "cell_type": "code",
   "execution_count": null,
   "id": "9740ff0b",
   "metadata": {},
   "outputs": [],
   "source": [
    "b = mlc.fit_transform(encoded_cpu).data"
   ]
  },
  {
   "cell_type": "code",
   "execution_count": null,
   "id": "3692a5a3",
   "metadata": {},
   "outputs": [],
   "source": [
    "np.allclose(a, cp.asarray(b))"
   ]
  },
  {
   "cell_type": "code",
   "execution_count": null,
   "id": "2faf9428",
   "metadata": {},
   "outputs": [],
   "source": [
    "(np.abs(cp.asnumpy(a)-b).max()/np.abs(b)).max()"
   ]
  },
  {
   "cell_type": "markdown",
   "id": "c2ce3e5e",
   "metadata": {},
   "source": [
    "## CatIntersections transformer"
   ]
  },
  {
   "cell_type": "code",
   "execution_count": null,
   "id": "6149196a",
   "metadata": {},
   "outputs": [],
   "source": [
    "cat_intersect_transformer = categorical_gpu.CatIntersectstions()\n",
    "a = cat_intersect_transformer.fit_transform(encoded_dataset.to_cudf()).data"
   ]
  },
  {
   "cell_type": "code",
   "execution_count": null,
   "id": "969675a6",
   "metadata": {},
   "outputs": [],
   "source": [
    "from lightautoml.transformers.categorical import CatIntersectstions as CI\n",
    "cat_int = CI()\n",
    "b = cat_int.fit_transform(encoded_dataset.to_cudf().to_pandas()).data"
   ]
  },
  {
   "cell_type": "code",
   "execution_count": null,
   "id": "6b4d1fa9",
   "metadata": {},
   "outputs": [],
   "source": [
    "print((cp.asnumpy(a)==b).mean())"
   ]
  },
  {
   "cell_type": "markdown",
   "id": "36fbb4fa",
   "metadata": {},
   "source": [
    "## Ordinal Encoder transformer"
   ]
  },
  {
   "cell_type": "code",
   "execution_count": null,
   "id": "540283f0",
   "metadata": {},
   "outputs": [],
   "source": [
    "ordinal_encoder = categorical_gpu.OrdinalEncoder()"
   ]
  },
  {
   "cell_type": "code",
   "execution_count": null,
   "id": "fe40e504",
   "metadata": {},
   "outputs": [],
   "source": [
    "a = ordinal_encoder.fit_transform(categorical_dataset).data"
   ]
  },
  {
   "cell_type": "code",
   "execution_count": null,
   "id": "1f218b48",
   "metadata": {},
   "outputs": [],
   "source": [
    "from lightautoml.transformers.categorical import OrdinalEncoder as OE"
   ]
  },
  {
   "cell_type": "code",
   "execution_count": null,
   "id": "9e057ba6",
   "metadata": {},
   "outputs": [],
   "source": [
    "ordinal = OE()\n",
    "b = ordinal.fit_transform(categorical_dataset.to_cudf().to_pandas()).data"
   ]
  },
  {
   "cell_type": "code",
   "execution_count": null,
   "id": "66b723d3",
   "metadata": {},
   "outputs": [],
   "source": [
    "(cp.asnumpy(a) == b).all()"
   ]
  },
  {
   "cell_type": "markdown",
   "id": "2208f4b6",
   "metadata": {},
   "source": [
    "# Datetime transformers"
   ]
  },
  {
   "cell_type": "code",
   "execution_count": null,
   "id": "b3123714",
   "metadata": {},
   "outputs": [],
   "source": [
    "check_roles = {\n",
    "    DatetimeRole(seasonality=['y', 'm', 'wd']): ['BIRTH_DATE', 'EMP_DATE'],\n",
    "}\n",
    "\n",
    "datetime_dataset = CudfDataset(data=cudf_dataset.data[['BIRTH_DATE',\\\n",
    "                                                      'EMP_DATE']].copy(),\n",
    "                        roles=roles_parser(check_roles),\n",
    "                        task=task)"
   ]
  },
  {
   "cell_type": "code",
   "execution_count": null,
   "id": "46d38a3c",
   "metadata": {},
   "outputs": [],
   "source": [
    "datetime_dataset.data"
   ]
  },
  {
   "cell_type": "markdown",
   "id": "1cf43fae",
   "metadata": {},
   "source": [
    "## TimeToNum transformer"
   ]
  },
  {
   "cell_type": "code",
   "execution_count": null,
   "id": "6e29948f",
   "metadata": {},
   "outputs": [],
   "source": [
    "time_to_num = datetime_gpu.TimeToNum()"
   ]
  },
  {
   "cell_type": "code",
   "execution_count": null,
   "id": "0086fe01",
   "metadata": {},
   "outputs": [],
   "source": [
    "time_to_num.fit_transform(datetime_dataset)"
   ]
  },
  {
   "cell_type": "markdown",
   "id": "038e1dfd",
   "metadata": {},
   "source": [
    "## BaseDiff transformer"
   ]
  },
  {
   "cell_type": "code",
   "execution_count": null,
   "id": "1b558f69",
   "metadata": {},
   "outputs": [],
   "source": [
    "basediff = datetime_gpu.BaseDiff(base_names=['EMP_DATE'], diff_names=['BIRTH_DATE'])"
   ]
  },
  {
   "cell_type": "code",
   "execution_count": null,
   "id": "fcb12176",
   "metadata": {},
   "outputs": [],
   "source": [
    "basediff.fit_transform(datetime_dataset)"
   ]
  },
  {
   "cell_type": "markdown",
   "id": "cbe6dab7",
   "metadata": {},
   "source": [
    "## DateSeasons transformer"
   ]
  },
  {
   "cell_type": "code",
   "execution_count": null,
   "id": "2e1d617e",
   "metadata": {},
   "outputs": [],
   "source": [
    "date_seasons = datetime_gpu.DateSeasons()\n",
    "\n",
    "date_dataset = date_seasons.fit_transform(datetime_dataset)"
   ]
  },
  {
   "cell_type": "code",
   "execution_count": null,
   "id": "d6b49b06",
   "metadata": {},
   "outputs": [],
   "source": [
    "type(numeric_dataset)"
   ]
  },
  {
   "cell_type": "code",
   "execution_count": null,
   "id": "477dfa60",
   "metadata": {},
   "outputs": [],
   "source": [
    "date_dataset.to_cudf()"
   ]
  },
  {
   "cell_type": "code",
   "execution_count": null,
   "id": "e0ff7bdb",
   "metadata": {},
   "outputs": [],
   "source": []
  },
  {
   "cell_type": "markdown",
   "id": "5d689803",
   "metadata": {},
   "source": [
    "# ML Algos test"
   ]
  },
  {
   "cell_type": "code",
   "execution_count": null,
   "id": "32520735",
   "metadata": {},
   "outputs": [],
   "source": [
    "from lightautoml.ml_algo import linear_gpu, linear_sklearn"
   ]
  },
  {
   "cell_type": "code",
   "execution_count": null,
   "id": "a257d35c",
   "metadata": {},
   "outputs": [],
   "source": [
    "check_roles = {\n",
    "    TargetRole(): 'TARGET',\n",
    "}\n",
    "\n",
    "# create Task\n",
    "task = Task('binary')\n",
    "\n",
    "# # Creating PandasDataSet\n",
    "target_dataset = CudfDataset(data[['TARGET']], roles_parser(check_roles), task=task)"
   ]
  },
  {
   "cell_type": "code",
   "execution_count": null,
   "id": "ffd8ab5e",
   "metadata": {},
   "outputs": [],
   "source": [
    "filled_dataset = filled_dataset.to_cudf()\n",
    "filled_dataset = filled_dataset.concat([filled_dataset, date_dataset.to_cudf(), target_dataset])\n",
    "full_dataset = filled_dataset"
   ]
  },
  {
   "cell_type": "code",
   "execution_count": null,
   "id": "8f6f4512",
   "metadata": {},
   "outputs": [],
   "source": [
    "check_roles = {\n",
    "    TargetRole(cp.float32): 'TARGET',\n",
    "    NumericRole(cp.float32): ['fillnamed__AMT_CREDIT', 'fillnamed__AMT_GOODS_PRICE',\n",
    "       'season_y__BIRTH_DATE', 'season_m__BIRTH_DATE', 'season_wd__BIRTH_DATE',\n",
    "       'season_y__EMP_DATE', 'season_m__EMP_DATE', 'season_wd__EMP_DATE'],\n",
    "}"
   ]
  },
  {
   "cell_type": "code",
   "execution_count": null,
   "id": "87027962",
   "metadata": {},
   "outputs": [],
   "source": [
    "task = Task('binary', device='gpu')"
   ]
  },
  {
   "cell_type": "code",
   "execution_count": null,
   "id": "3f3b2dea",
   "metadata": {},
   "outputs": [],
   "source": [
    "full_dataset = CupyDataset(filled_dataset.data.values,\n",
    "                            features=filled_dataset.data.columns.to_list(),\n",
    "                              roles=roles_parser(check_roles),\n",
    "                              task=task,\n",
    "                              **{'target': filled_dataset.data['TARGET']})"
   ]
  },
  {
   "cell_type": "code",
   "execution_count": null,
   "id": "96c50146",
   "metadata": {},
   "outputs": [],
   "source": []
  },
  {
   "cell_type": "code",
   "execution_count": null,
   "id": "38447c0c",
   "metadata": {},
   "outputs": [],
   "source": [
    "from lightautoml.validation.utils import create_validation_iterator"
   ]
  },
  {
   "cell_type": "code",
   "execution_count": null,
   "id": "8961d445",
   "metadata": {},
   "outputs": [],
   "source": [
    "train_valid = create_validation_iterator(full_dataset[:9000], full_dataset[9000:], n_folds=10)"
   ]
  },
  {
   "cell_type": "code",
   "execution_count": null,
   "id": "aac6f183",
   "metadata": {},
   "outputs": [],
   "source": [
    "linear_one = linear_gpu.LinearLBFGS()"
   ]
  },
  {
   "cell_type": "code",
   "execution_count": null,
   "id": "854a1ddf",
   "metadata": {
    "scrolled": false
   },
   "outputs": [],
   "source": [
    "preds = linear_one.fit_predict(train_valid)"
   ]
  },
  {
   "cell_type": "code",
   "execution_count": null,
   "id": "26f2d7a7",
   "metadata": {},
   "outputs": [],
   "source": [
    "y_true = full_dataset[9000:].target\n",
    "y_pred = preds"
   ]
  },
  {
   "cell_type": "code",
   "execution_count": null,
   "id": "b41226ea",
   "metadata": {},
   "outputs": [],
   "source": [
    "linear_cuml = linear_gpu.LinearL1CD()"
   ]
  },
  {
   "cell_type": "code",
   "execution_count": null,
   "id": "d3fed7f2",
   "metadata": {},
   "outputs": [],
   "source": [
    "_=linear_cuml.fit_predict(train_valid)"
   ]
  },
  {
   "cell_type": "code",
   "execution_count": null,
   "id": "89bdefc8",
   "metadata": {},
   "outputs": [],
   "source": [
    "from cupyx.scipy.sparse import csr_matrix, hstack, coo_matrix"
   ]
  },
  {
   "cell_type": "code",
   "execution_count": null,
   "id": "d8e38c3c",
   "metadata": {},
   "outputs": [],
   "source": [
    "a = csr_matrix(cp.eye(5))"
   ]
  },
  {
   "cell_type": "code",
   "execution_count": null,
   "id": "0e513ccf",
   "metadata": {},
   "outputs": [],
   "source": [
    "type(csr_matrix(a).toarray())"
   ]
  },
  {
   "cell_type": "code",
   "execution_count": null,
   "id": "50ce6029",
   "metadata": {},
   "outputs": [],
   "source": [
    "a.shape"
   ]
  },
  {
   "cell_type": "code",
   "execution_count": null,
   "id": "b832dd01",
   "metadata": {},
   "outputs": [],
   "source": [
    "numeric_dataset.to_numpy().to_sparse_gpu().data"
   ]
  },
  {
   "cell_type": "code",
   "execution_count": null,
   "id": "9032bdf5",
   "metadata": {},
   "outputs": [],
   "source": [
    "matrix = coo_matrix(a, dtype=cp.float32)"
   ]
  },
  {
   "cell_type": "code",
   "execution_count": null,
   "id": "950a2093",
   "metadata": {},
   "outputs": [],
   "source": [
    "matrix.data"
   ]
  },
  {
   "cell_type": "code",
   "execution_count": null,
   "id": "ab2d3076",
   "metadata": {},
   "outputs": [],
   "source": [
    "import torch"
   ]
  },
  {
   "cell_type": "code",
   "execution_count": null,
   "id": "0863c868",
   "metadata": {},
   "outputs": [],
   "source": [
    "b = torch.as_tensor(matrix.data, device='cuda')"
   ]
  },
  {
   "cell_type": "code",
   "execution_count": null,
   "id": "746f1c40",
   "metadata": {},
   "outputs": [],
   "source": [
    "matrix.data[0] = 0"
   ]
  },
  {
   "cell_type": "code",
   "execution_count": null,
   "id": "1bbbf966",
   "metadata": {},
   "outputs": [],
   "source": [
    "b"
   ]
  },
  {
   "cell_type": "code",
   "execution_count": null,
   "id": "cc0c4d76",
   "metadata": {},
   "outputs": [],
   "source": [
    "matrix.data"
   ]
  },
  {
   "cell_type": "code",
   "execution_count": null,
   "id": "687e1879",
   "metadata": {},
   "outputs": [],
   "source": [
    "a = [np.mean, np.sqrt]"
   ]
  },
  {
   "cell_type": "code",
   "execution_count": null,
   "id": "c0a3525a",
   "metadata": {},
   "outputs": [],
   "source": [
    "for f in a:\n",
    "    print(f(np.array([2])))"
   ]
  },
  {
   "cell_type": "code",
   "execution_count": null,
   "id": "27c01318",
   "metadata": {},
   "outputs": [],
   "source": [
    "categorical_dataset.data.sample(100000, replace=True).reset_index().drop(['index'],axis=1)"
   ]
  },
  {
   "cell_type": "code",
   "execution_count": null,
   "id": "a8124fbd",
   "metadata": {},
   "outputs": [],
   "source": [
    "cudf_dataset.data.head()"
   ]
  },
  {
   "cell_type": "code",
   "execution_count": null,
   "id": "aa96106b",
   "metadata": {},
   "outputs": [],
   "source": []
  }
 ],
 "metadata": {
  "kernelspec": {
   "display_name": "Python 3",
   "language": "python",
   "name": "python3"
  },
  "language_info": {
   "codemirror_mode": {
    "name": "ipython",
    "version": 3
   },
   "file_extension": ".py",
   "mimetype": "text/x-python",
   "name": "python",
   "nbconvert_exporter": "python",
   "pygments_lexer": "ipython3",
   "version": "3.8.10"
  }
 },
 "nbformat": 4,
 "nbformat_minor": 5
}
