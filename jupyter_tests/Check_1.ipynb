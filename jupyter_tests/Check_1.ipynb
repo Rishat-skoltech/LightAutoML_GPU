{
 "cells": [
  {
   "cell_type": "code",
   "execution_count": 1,
   "metadata": {},
   "outputs": [
    {
     "data": {
      "text/plain": [
       "'/home/user/miniconda3/bin/python'"
      ]
     },
     "execution_count": 1,
     "metadata": {},
     "output_type": "execute_result"
    }
   ],
   "source": [
    "import sys\n",
    "sys.executable"
   ]
  },
  {
   "cell_type": "code",
   "execution_count": 2,
   "metadata": {},
   "outputs": [],
   "source": [
    "import pandas as pd\n",
    "from pandas import Series, DataFrame\n",
    "import numpy as np\n",
    "from scipy import sparse\n",
    "\n",
    "from lightautoml.reader.cudf_reader import CudfReader\n",
    "from lightautoml.reader.daskcudf_reader import DaskCudfReader\n",
    "from lightautoml.reader.base import PandasToPandasReader\n",
    "from lightautoml.tasks import Task\n",
    "\n",
    "import cudf\n",
    "import dask_cudf\n",
    "\n",
    "from numba import cuda\n",
    "import cupy as cp\n",
    "\n",
    "from lightautoml.transformers.base import SequentialTransformer, UnionTransformer\n",
    "\n",
    "\n",
    "from lightautoml.transformers import numeric_gpu, categorical_gpu, datetime_gpu\n",
    "from lightautoml.transformers import numeric, categorical, datetime\n",
    "\n",
    "from lightautoml.pipelines.utils import get_columns_by_role\n",
    "\n",
    "from dask.distributed import Client\n",
    "from dask_cuda import LocalCUDACluster\n",
    "\n",
    "import os"
   ]
  },
  {
   "cell_type": "code",
   "execution_count": 3,
   "metadata": {},
   "outputs": [
    {
     "data": {
      "text/plain": [
       "{'ucx://127.0.0.1:34115': 10653, 'ucx://127.0.0.1:54567': 10656}"
      ]
     },
     "execution_count": 3,
     "metadata": {},
     "output_type": "execute_result"
    }
   ],
   "source": [
    "cluster = LocalCUDACluster(rmm_managed_memory=True, CUDA_VISIBLE_DEVICES=\"0, 1\",\n",
    "                           protocol=\"ucx\", enable_nvlink=True,\n",
    "                           memory_limit=\"8GB\")\n",
    "\n",
    "client = Client(cluster)\n",
    "# client.run(cudf.set_allocator, \"managed\")\n",
    "client.run(os.getpid)"
   ]
  },
  {
   "cell_type": "code",
   "execution_count": 4,
   "metadata": {},
   "outputs": [],
   "source": [
    "?client.run"
   ]
  },
  {
   "cell_type": "code",
   "execution_count": 5,
   "metadata": {},
   "outputs": [],
   "source": [
    "data = pd.read_csv('../PyCharmProj/lightautoml/application_train.csv')\n",
    "# data = cudf.read_csv('../PyCharmProj/lightautoml/application_train.csv')\n"
   ]
  },
  {
   "cell_type": "code",
   "execution_count": 6,
   "metadata": {},
   "outputs": [],
   "source": [
    "data['BIRTH_DATE'] = (np.datetime64('2018-01-01') + data['DAYS_BIRTH'].astype(np.dtype('timedelta64[D]'))).astype(str)\n",
    "data['EMP_DATE'] = (np.datetime64('2018-01-01') + np.clip(data['DAYS_EMPLOYED'], None, 0).astype(np.dtype('timedelta64[D]'))\n",
    "                   ).astype(str)\n",
    "\n",
    "data['constant'] = 1\n",
    "data['allnan'] = np.nan\n",
    "\n",
    "data.drop(['DAYS_BIRTH',  'DAYS_EMPLOYED'], axis = 1, inplace = True)\n"
   ]
  },
  {
   "cell_type": "code",
   "execution_count": 7,
   "metadata": {},
   "outputs": [],
   "source": [
    "gpu_data = cudf.DataFrame(data)\n",
    "dd_data = dask_cudf.from_cudf(gpu_data, npartitions=2)"
   ]
  },
  {
   "cell_type": "code",
   "execution_count": null,
   "metadata": {},
   "outputs": [],
   "source": []
  },
  {
   "cell_type": "code",
   "execution_count": 8,
   "metadata": {},
   "outputs": [],
   "source": [
    "# время работы DaskCudf\n",
    "# advanced с обоими\n",
    "# низкая утилизация"
   ]
  },
  {
   "cell_type": "code",
   "execution_count": 9,
   "metadata": {},
   "outputs": [],
   "source": [
    "task = task = Task('binary',)\n",
    "adv_roles = False\n",
    "reader = PandasToPandasReader(task, advanced_roles=adv_roles)\n",
    "gpu_reader = CudfReader(task, advanced_roles=adv_roles)\n",
    "dd_reader = DaskCudfReader(task, advanced_roles=adv_roles)\n"
   ]
  },
  {
   "cell_type": "code",
   "execution_count": 10,
   "metadata": {},
   "outputs": [
    {
     "name": "stdout",
     "output_type": "stream",
     "text": [
      "CPU times: user 1.25 s, sys: 261 ms, total: 1.51 s\n",
      "Wall time: 1.49 s\n"
     ]
    }
   ],
   "source": [
    "%%time\n",
    "ds = reader.fit_read(data, roles = {'target': 'TARGET'})"
   ]
  },
  {
   "cell_type": "code",
   "execution_count": 11,
   "metadata": {},
   "outputs": [
    {
     "name": "stdout",
     "output_type": "stream",
     "text": [
      "CPU times: user 1.29 s, sys: 118 ms, total: 1.41 s\n",
      "Wall time: 1.36 s\n"
     ]
    }
   ],
   "source": [
    "%%time\n",
    "gpu_ds = gpu_reader.fit_read(gpu_data, roles = {'target': 'TARGET'})"
   ]
  },
  {
   "cell_type": "code",
   "execution_count": 31,
   "metadata": {},
   "outputs": [
    {
     "name": "stdout",
     "output_type": "stream",
     "text": [
      "CPU times: user 16.1 s, sys: 3.6 s, total: 19.7 s\n",
      "Wall time: 20.3 s\n"
     ]
    }
   ],
   "source": [
    "%%time\n",
    "dd_ds = dd_reader.fit_read(dd_data, roles = {'target': 'TARGET'})"
   ]
  },
  {
   "cell_type": "code",
   "execution_count": 13,
   "metadata": {},
   "outputs": [
    {
     "data": {
      "text/plain": [
       "{'SK_ID_CURR': Numeric role, dtype <class 'numpy.float32'>. Additional params: [('force_input', False), ('prob', False), ('discretization', False)],\n",
       " 'NAME_CONTRACT_TYPE': Category role, dtype <class 'object'>. Additional params: [('encoding_type', 'auto'), ('unknown', 5), ('force_input', False), ('label_encoded', False), ('ordinal', False)],\n",
       " 'CODE_GENDER': Category role, dtype <class 'object'>. Additional params: [('encoding_type', 'auto'), ('unknown', 5), ('force_input', False), ('label_encoded', False), ('ordinal', False)],\n",
       " 'FLAG_OWN_CAR': Category role, dtype <class 'object'>. Additional params: [('encoding_type', 'auto'), ('unknown', 5), ('force_input', False), ('label_encoded', False), ('ordinal', False)],\n",
       " 'FLAG_OWN_REALTY': Category role, dtype <class 'object'>. Additional params: [('encoding_type', 'auto'), ('unknown', 5), ('force_input', False), ('label_encoded', False), ('ordinal', False)],\n",
       " 'CNT_CHILDREN': Numeric role, dtype <class 'numpy.float32'>. Additional params: [('force_input', False), ('prob', False), ('discretization', False)],\n",
       " 'AMT_INCOME_TOTAL': Numeric role, dtype <class 'numpy.float32'>. Additional params: [('force_input', False), ('prob', False), ('discretization', False)],\n",
       " 'AMT_CREDIT': Numeric role, dtype <class 'numpy.float32'>. Additional params: [('force_input', False), ('prob', False), ('discretization', False)],\n",
       " 'AMT_ANNUITY': Numeric role, dtype <class 'numpy.float32'>. Additional params: [('force_input', False), ('prob', False), ('discretization', False)],\n",
       " 'AMT_GOODS_PRICE': Numeric role, dtype <class 'numpy.float32'>. Additional params: [('force_input', False), ('prob', False), ('discretization', False)],\n",
       " 'NAME_TYPE_SUITE': Category role, dtype <class 'object'>. Additional params: [('encoding_type', 'auto'), ('unknown', 5), ('force_input', False), ('label_encoded', False), ('ordinal', False)],\n",
       " 'NAME_INCOME_TYPE': Category role, dtype <class 'object'>. Additional params: [('encoding_type', 'auto'), ('unknown', 5), ('force_input', False), ('label_encoded', False), ('ordinal', False)],\n",
       " 'NAME_EDUCATION_TYPE': Category role, dtype <class 'object'>. Additional params: [('encoding_type', 'auto'), ('unknown', 5), ('force_input', False), ('label_encoded', False), ('ordinal', False)],\n",
       " 'NAME_FAMILY_STATUS': Category role, dtype <class 'object'>. Additional params: [('encoding_type', 'auto'), ('unknown', 5), ('force_input', False), ('label_encoded', False), ('ordinal', False)],\n",
       " 'NAME_HOUSING_TYPE': Category role, dtype <class 'object'>. Additional params: [('encoding_type', 'auto'), ('unknown', 5), ('force_input', False), ('label_encoded', False), ('ordinal', False)],\n",
       " 'REGION_POPULATION_RELATIVE': Numeric role, dtype <class 'numpy.float32'>. Additional params: [('force_input', False), ('prob', False), ('discretization', False)],\n",
       " 'DAYS_REGISTRATION': Numeric role, dtype <class 'numpy.float32'>. Additional params: [('force_input', False), ('prob', False), ('discretization', False)],\n",
       " 'DAYS_ID_PUBLISH': Numeric role, dtype <class 'numpy.float32'>. Additional params: [('force_input', False), ('prob', False), ('discretization', False)],\n",
       " 'OWN_CAR_AGE': Numeric role, dtype <class 'numpy.float32'>. Additional params: [('force_input', False), ('prob', False), ('discretization', False)],\n",
       " 'FLAG_EMP_PHONE': Numeric role, dtype <class 'numpy.float32'>. Additional params: [('force_input', False), ('prob', False), ('discretization', False)],\n",
       " 'FLAG_WORK_PHONE': Numeric role, dtype <class 'numpy.float32'>. Additional params: [('force_input', False), ('prob', False), ('discretization', False)],\n",
       " 'FLAG_CONT_MOBILE': Numeric role, dtype <class 'numpy.float32'>. Additional params: [('force_input', False), ('prob', False), ('discretization', False)],\n",
       " 'FLAG_PHONE': Numeric role, dtype <class 'numpy.float32'>. Additional params: [('force_input', False), ('prob', False), ('discretization', False)],\n",
       " 'FLAG_EMAIL': Numeric role, dtype <class 'numpy.float32'>. Additional params: [('force_input', False), ('prob', False), ('discretization', False)],\n",
       " 'OCCUPATION_TYPE': Category role, dtype <class 'object'>. Additional params: [('encoding_type', 'auto'), ('unknown', 5), ('force_input', False), ('label_encoded', False), ('ordinal', False)],\n",
       " 'CNT_FAM_MEMBERS': Numeric role, dtype <class 'numpy.float32'>. Additional params: [('force_input', False), ('prob', False), ('discretization', False)],\n",
       " 'REGION_RATING_CLIENT': Numeric role, dtype <class 'numpy.float32'>. Additional params: [('force_input', False), ('prob', False), ('discretization', False)],\n",
       " 'REGION_RATING_CLIENT_W_CITY': Numeric role, dtype <class 'numpy.float32'>. Additional params: [('force_input', False), ('prob', False), ('discretization', False)],\n",
       " 'WEEKDAY_APPR_PROCESS_START': Category role, dtype <class 'object'>. Additional params: [('encoding_type', 'auto'), ('unknown', 5), ('force_input', False), ('label_encoded', False), ('ordinal', False)],\n",
       " 'HOUR_APPR_PROCESS_START': Numeric role, dtype <class 'numpy.float32'>. Additional params: [('force_input', False), ('prob', False), ('discretization', False)],\n",
       " 'REG_REGION_NOT_LIVE_REGION': Numeric role, dtype <class 'numpy.float32'>. Additional params: [('force_input', False), ('prob', False), ('discretization', False)],\n",
       " 'REG_REGION_NOT_WORK_REGION': Numeric role, dtype <class 'numpy.float32'>. Additional params: [('force_input', False), ('prob', False), ('discretization', False)],\n",
       " 'LIVE_REGION_NOT_WORK_REGION': Numeric role, dtype <class 'numpy.float32'>. Additional params: [('force_input', False), ('prob', False), ('discretization', False)],\n",
       " 'REG_CITY_NOT_LIVE_CITY': Numeric role, dtype <class 'numpy.float32'>. Additional params: [('force_input', False), ('prob', False), ('discretization', False)],\n",
       " 'REG_CITY_NOT_WORK_CITY': Numeric role, dtype <class 'numpy.float32'>. Additional params: [('force_input', False), ('prob', False), ('discretization', False)],\n",
       " 'LIVE_CITY_NOT_WORK_CITY': Numeric role, dtype <class 'numpy.float32'>. Additional params: [('force_input', False), ('prob', False), ('discretization', False)],\n",
       " 'ORGANIZATION_TYPE': Category role, dtype <class 'object'>. Additional params: [('encoding_type', 'auto'), ('unknown', 5), ('force_input', False), ('label_encoded', False), ('ordinal', False)],\n",
       " 'EXT_SOURCE_1': Numeric role, dtype <class 'numpy.float32'>. Additional params: [('force_input', False), ('prob', False), ('discretization', False)],\n",
       " 'EXT_SOURCE_2': Numeric role, dtype <class 'numpy.float32'>. Additional params: [('force_input', False), ('prob', False), ('discretization', False)],\n",
       " 'EXT_SOURCE_3': Numeric role, dtype <class 'numpy.float32'>. Additional params: [('force_input', False), ('prob', False), ('discretization', False)],\n",
       " 'APARTMENTS_AVG': Numeric role, dtype <class 'numpy.float32'>. Additional params: [('force_input', False), ('prob', False), ('discretization', False)],\n",
       " 'BASEMENTAREA_AVG': Numeric role, dtype <class 'numpy.float32'>. Additional params: [('force_input', False), ('prob', False), ('discretization', False)],\n",
       " 'YEARS_BEGINEXPLUATATION_AVG': Numeric role, dtype <class 'numpy.float32'>. Additional params: [('force_input', False), ('prob', False), ('discretization', False)],\n",
       " 'YEARS_BUILD_AVG': Numeric role, dtype <class 'numpy.float32'>. Additional params: [('force_input', False), ('prob', False), ('discretization', False)],\n",
       " 'COMMONAREA_AVG': Numeric role, dtype <class 'numpy.float32'>. Additional params: [('force_input', False), ('prob', False), ('discretization', False)],\n",
       " 'ELEVATORS_AVG': Numeric role, dtype <class 'numpy.float32'>. Additional params: [('force_input', False), ('prob', False), ('discretization', False)],\n",
       " 'ENTRANCES_AVG': Numeric role, dtype <class 'numpy.float32'>. Additional params: [('force_input', False), ('prob', False), ('discretization', False)],\n",
       " 'FLOORSMAX_AVG': Numeric role, dtype <class 'numpy.float32'>. Additional params: [('force_input', False), ('prob', False), ('discretization', False)],\n",
       " 'FLOORSMIN_AVG': Numeric role, dtype <class 'numpy.float32'>. Additional params: [('force_input', False), ('prob', False), ('discretization', False)],\n",
       " 'LANDAREA_AVG': Numeric role, dtype <class 'numpy.float32'>. Additional params: [('force_input', False), ('prob', False), ('discretization', False)],\n",
       " 'LIVINGAPARTMENTS_AVG': Numeric role, dtype <class 'numpy.float32'>. Additional params: [('force_input', False), ('prob', False), ('discretization', False)],\n",
       " 'LIVINGAREA_AVG': Numeric role, dtype <class 'numpy.float32'>. Additional params: [('force_input', False), ('prob', False), ('discretization', False)],\n",
       " 'NONLIVINGAPARTMENTS_AVG': Numeric role, dtype <class 'numpy.float32'>. Additional params: [('force_input', False), ('prob', False), ('discretization', False)],\n",
       " 'NONLIVINGAREA_AVG': Numeric role, dtype <class 'numpy.float32'>. Additional params: [('force_input', False), ('prob', False), ('discretization', False)],\n",
       " 'APARTMENTS_MODE': Numeric role, dtype <class 'numpy.float32'>. Additional params: [('force_input', False), ('prob', False), ('discretization', False)],\n",
       " 'BASEMENTAREA_MODE': Numeric role, dtype <class 'numpy.float32'>. Additional params: [('force_input', False), ('prob', False), ('discretization', False)],\n",
       " 'YEARS_BEGINEXPLUATATION_MODE': Numeric role, dtype <class 'numpy.float32'>. Additional params: [('force_input', False), ('prob', False), ('discretization', False)],\n",
       " 'YEARS_BUILD_MODE': Numeric role, dtype <class 'numpy.float32'>. Additional params: [('force_input', False), ('prob', False), ('discretization', False)],\n",
       " 'COMMONAREA_MODE': Numeric role, dtype <class 'numpy.float32'>. Additional params: [('force_input', False), ('prob', False), ('discretization', False)],\n",
       " 'ELEVATORS_MODE': Numeric role, dtype <class 'numpy.float32'>. Additional params: [('force_input', False), ('prob', False), ('discretization', False)],\n",
       " 'ENTRANCES_MODE': Numeric role, dtype <class 'numpy.float32'>. Additional params: [('force_input', False), ('prob', False), ('discretization', False)],\n",
       " 'FLOORSMAX_MODE': Numeric role, dtype <class 'numpy.float32'>. Additional params: [('force_input', False), ('prob', False), ('discretization', False)],\n",
       " 'FLOORSMIN_MODE': Numeric role, dtype <class 'numpy.float32'>. Additional params: [('force_input', False), ('prob', False), ('discretization', False)],\n",
       " 'LANDAREA_MODE': Numeric role, dtype <class 'numpy.float32'>. Additional params: [('force_input', False), ('prob', False), ('discretization', False)],\n",
       " 'LIVINGAPARTMENTS_MODE': Numeric role, dtype <class 'numpy.float32'>. Additional params: [('force_input', False), ('prob', False), ('discretization', False)],\n",
       " 'LIVINGAREA_MODE': Numeric role, dtype <class 'numpy.float32'>. Additional params: [('force_input', False), ('prob', False), ('discretization', False)],\n",
       " 'NONLIVINGAPARTMENTS_MODE': Numeric role, dtype <class 'numpy.float32'>. Additional params: [('force_input', False), ('prob', False), ('discretization', False)],\n",
       " 'NONLIVINGAREA_MODE': Numeric role, dtype <class 'numpy.float32'>. Additional params: [('force_input', False), ('prob', False), ('discretization', False)],\n",
       " 'APARTMENTS_MEDI': Numeric role, dtype <class 'numpy.float32'>. Additional params: [('force_input', False), ('prob', False), ('discretization', False)],\n",
       " 'BASEMENTAREA_MEDI': Numeric role, dtype <class 'numpy.float32'>. Additional params: [('force_input', False), ('prob', False), ('discretization', False)],\n",
       " 'YEARS_BEGINEXPLUATATION_MEDI': Numeric role, dtype <class 'numpy.float32'>. Additional params: [('force_input', False), ('prob', False), ('discretization', False)],\n",
       " 'YEARS_BUILD_MEDI': Numeric role, dtype <class 'numpy.float32'>. Additional params: [('force_input', False), ('prob', False), ('discretization', False)],\n",
       " 'COMMONAREA_MEDI': Numeric role, dtype <class 'numpy.float32'>. Additional params: [('force_input', False), ('prob', False), ('discretization', False)],\n",
       " 'ELEVATORS_MEDI': Numeric role, dtype <class 'numpy.float32'>. Additional params: [('force_input', False), ('prob', False), ('discretization', False)],\n",
       " 'ENTRANCES_MEDI': Numeric role, dtype <class 'numpy.float32'>. Additional params: [('force_input', False), ('prob', False), ('discretization', False)],\n",
       " 'FLOORSMAX_MEDI': Numeric role, dtype <class 'numpy.float32'>. Additional params: [('force_input', False), ('prob', False), ('discretization', False)],\n",
       " 'FLOORSMIN_MEDI': Numeric role, dtype <class 'numpy.float32'>. Additional params: [('force_input', False), ('prob', False), ('discretization', False)],\n",
       " 'LANDAREA_MEDI': Numeric role, dtype <class 'numpy.float32'>. Additional params: [('force_input', False), ('prob', False), ('discretization', False)],\n",
       " 'LIVINGAPARTMENTS_MEDI': Numeric role, dtype <class 'numpy.float32'>. Additional params: [('force_input', False), ('prob', False), ('discretization', False)],\n",
       " 'LIVINGAREA_MEDI': Numeric role, dtype <class 'numpy.float32'>. Additional params: [('force_input', False), ('prob', False), ('discretization', False)],\n",
       " 'NONLIVINGAPARTMENTS_MEDI': Numeric role, dtype <class 'numpy.float32'>. Additional params: [('force_input', False), ('prob', False), ('discretization', False)],\n",
       " 'NONLIVINGAREA_MEDI': Numeric role, dtype <class 'numpy.float32'>. Additional params: [('force_input', False), ('prob', False), ('discretization', False)],\n",
       " 'FONDKAPREMONT_MODE': Category role, dtype <class 'object'>. Additional params: [('encoding_type', 'auto'), ('unknown', 5), ('force_input', False), ('label_encoded', False), ('ordinal', False)],\n",
       " 'HOUSETYPE_MODE': Category role, dtype <class 'object'>. Additional params: [('encoding_type', 'auto'), ('unknown', 5), ('force_input', False), ('label_encoded', False), ('ordinal', False)],\n",
       " 'TOTALAREA_MODE': Numeric role, dtype <class 'numpy.float32'>. Additional params: [('force_input', False), ('prob', False), ('discretization', False)],\n",
       " 'WALLSMATERIAL_MODE': Category role, dtype <class 'object'>. Additional params: [('encoding_type', 'auto'), ('unknown', 5), ('force_input', False), ('label_encoded', False), ('ordinal', False)],\n",
       " 'EMERGENCYSTATE_MODE': Category role, dtype <class 'object'>. Additional params: [('encoding_type', 'auto'), ('unknown', 5), ('force_input', False), ('label_encoded', False), ('ordinal', False)],\n",
       " 'OBS_30_CNT_SOCIAL_CIRCLE': Numeric role, dtype <class 'numpy.float32'>. Additional params: [('force_input', False), ('prob', False), ('discretization', False)],\n",
       " 'DEF_30_CNT_SOCIAL_CIRCLE': Numeric role, dtype <class 'numpy.float32'>. Additional params: [('force_input', False), ('prob', False), ('discretization', False)],\n",
       " 'OBS_60_CNT_SOCIAL_CIRCLE': Numeric role, dtype <class 'numpy.float32'>. Additional params: [('force_input', False), ('prob', False), ('discretization', False)],\n",
       " 'DEF_60_CNT_SOCIAL_CIRCLE': Numeric role, dtype <class 'numpy.float32'>. Additional params: [('force_input', False), ('prob', False), ('discretization', False)],\n",
       " 'DAYS_LAST_PHONE_CHANGE': Numeric role, dtype <class 'numpy.float32'>. Additional params: [('force_input', False), ('prob', False), ('discretization', False)],\n",
       " 'FLAG_DOCUMENT_3': Numeric role, dtype <class 'numpy.float32'>. Additional params: [('force_input', False), ('prob', False), ('discretization', False)],\n",
       " 'FLAG_DOCUMENT_5': Numeric role, dtype <class 'numpy.float32'>. Additional params: [('force_input', False), ('prob', False), ('discretization', False)],\n",
       " 'FLAG_DOCUMENT_6': Numeric role, dtype <class 'numpy.float32'>. Additional params: [('force_input', False), ('prob', False), ('discretization', False)],\n",
       " 'FLAG_DOCUMENT_8': Numeric role, dtype <class 'numpy.float32'>. Additional params: [('force_input', False), ('prob', False), ('discretization', False)],\n",
       " 'FLAG_DOCUMENT_9': Numeric role, dtype <class 'numpy.float32'>. Additional params: [('force_input', False), ('prob', False), ('discretization', False)],\n",
       " 'FLAG_DOCUMENT_11': Numeric role, dtype <class 'numpy.float32'>. Additional params: [('force_input', False), ('prob', False), ('discretization', False)],\n",
       " 'FLAG_DOCUMENT_13': Numeric role, dtype <class 'numpy.float32'>. Additional params: [('force_input', False), ('prob', False), ('discretization', False)],\n",
       " 'FLAG_DOCUMENT_14': Numeric role, dtype <class 'numpy.float32'>. Additional params: [('force_input', False), ('prob', False), ('discretization', False)],\n",
       " 'FLAG_DOCUMENT_15': Numeric role, dtype <class 'numpy.float32'>. Additional params: [('force_input', False), ('prob', False), ('discretization', False)],\n",
       " 'FLAG_DOCUMENT_16': Numeric role, dtype <class 'numpy.float32'>. Additional params: [('force_input', False), ('prob', False), ('discretization', False)],\n",
       " 'FLAG_DOCUMENT_18': Numeric role, dtype <class 'numpy.float32'>. Additional params: [('force_input', False), ('prob', False), ('discretization', False)],\n",
       " 'AMT_REQ_CREDIT_BUREAU_HOUR': Numeric role, dtype <class 'numpy.float32'>. Additional params: [('force_input', False), ('prob', False), ('discretization', False)],\n",
       " 'AMT_REQ_CREDIT_BUREAU_DAY': Numeric role, dtype <class 'numpy.float32'>. Additional params: [('force_input', False), ('prob', False), ('discretization', False)],\n",
       " 'AMT_REQ_CREDIT_BUREAU_WEEK': Numeric role, dtype <class 'numpy.float32'>. Additional params: [('force_input', False), ('prob', False), ('discretization', False)],\n",
       " 'AMT_REQ_CREDIT_BUREAU_MON': Numeric role, dtype <class 'numpy.float32'>. Additional params: [('force_input', False), ('prob', False), ('discretization', False)],\n",
       " 'AMT_REQ_CREDIT_BUREAU_QRT': Numeric role, dtype <class 'numpy.float32'>. Additional params: [('force_input', False), ('prob', False), ('discretization', False)],\n",
       " 'AMT_REQ_CREDIT_BUREAU_YEAR': Numeric role, dtype <class 'numpy.float32'>. Additional params: [('force_input', False), ('prob', False), ('discretization', False)],\n",
       " 'BIRTH_DATE': Datetime role, dtype <class 'numpy.datetime64'>. Additional params: [('seasonality', ('y', 'm', 'wd')), ('base_date', False), ('format', None), ('unit', None), ('origin', 'unix'), ('force_input', False), ('base_feats', True), ('country', None), ('prov', None), ('state', None)],\n",
       " 'EMP_DATE': Datetime role, dtype <class 'numpy.datetime64'>. Additional params: [('seasonality', ('y', 'm', 'wd')), ('base_date', False), ('format', None), ('unit', None), ('origin', 'unix'), ('force_input', False), ('base_feats', True), ('country', None), ('prov', None), ('state', None)]}"
      ]
     },
     "execution_count": 13,
     "metadata": {},
     "output_type": "execute_result"
    }
   ],
   "source": [
    "ds.roles "
   ]
  },
  {
   "cell_type": "code",
   "execution_count": 12,
   "metadata": {},
   "outputs": [],
   "source": [
    "trf = categorical.LabelEncoder()\n",
    "gpu_trf = categorical_gpu.LabelEncoder_gpu()\n",
    "dd_trf = categorical_gpu.LabelEncoder_gpu()"
   ]
  },
  {
   "cell_type": "code",
   "execution_count": 14,
   "metadata": {},
   "outputs": [],
   "source": [
    "cats = ds[:, get_columns_by_role(ds, 'Category')]\n",
    "gpu_cats = gpu_ds[:, get_columns_by_role(ds, 'Category')]\n",
    "# dd_cats = dd_ds[:, get_columns_by_role(ds, 'Category')]"
   ]
  },
  {
   "cell_type": "code",
   "execution_count": 15,
   "metadata": {},
   "outputs": [
    {
     "data": {
      "text/plain": [
       "['CODE_GENDER',\n",
       " 'EMERGENCYSTATE_MODE',\n",
       " 'FLAG_OWN_CAR',\n",
       " 'FLAG_OWN_REALTY',\n",
       " 'FONDKAPREMONT_MODE',\n",
       " 'HOUSETYPE_MODE',\n",
       " 'NAME_CONTRACT_TYPE',\n",
       " 'NAME_EDUCATION_TYPE',\n",
       " 'NAME_FAMILY_STATUS',\n",
       " 'NAME_HOUSING_TYPE',\n",
       " 'NAME_INCOME_TYPE',\n",
       " 'NAME_TYPE_SUITE',\n",
       " 'OCCUPATION_TYPE',\n",
       " 'ORGANIZATION_TYPE',\n",
       " 'WALLSMATERIAL_MODE',\n",
       " 'WEEKDAY_APPR_PROCESS_START']"
      ]
     },
     "execution_count": 15,
     "metadata": {},
     "output_type": "execute_result"
    }
   ],
   "source": [
    "get_columns_by_role(ds, 'Category')"
   ]
  },
  {
   "cell_type": "code",
   "execution_count": 16,
   "metadata": {},
   "outputs": [
    {
     "data": {
      "text/plain": [
       "{'CODE_GENDER': Category role, dtype <class 'object'>. Additional params: [('encoding_type', 'auto'), ('unknown', 5), ('force_input', False), ('label_encoded', False), ('ordinal', False)],\n",
       " 'EMERGENCYSTATE_MODE': Category role, dtype <class 'object'>. Additional params: [('encoding_type', 'auto'), ('unknown', 5), ('force_input', False), ('label_encoded', False), ('ordinal', False)],\n",
       " 'FLAG_OWN_CAR': Category role, dtype <class 'object'>. Additional params: [('encoding_type', 'auto'), ('unknown', 5), ('force_input', False), ('label_encoded', False), ('ordinal', False)],\n",
       " 'FLAG_OWN_REALTY': Category role, dtype <class 'object'>. Additional params: [('encoding_type', 'auto'), ('unknown', 5), ('force_input', False), ('label_encoded', False), ('ordinal', False)],\n",
       " 'FONDKAPREMONT_MODE': Category role, dtype <class 'object'>. Additional params: [('encoding_type', 'auto'), ('unknown', 5), ('force_input', False), ('label_encoded', False), ('ordinal', False)],\n",
       " 'HOUSETYPE_MODE': Category role, dtype <class 'object'>. Additional params: [('encoding_type', 'auto'), ('unknown', 5), ('force_input', False), ('label_encoded', False), ('ordinal', False)],\n",
       " 'NAME_CONTRACT_TYPE': Category role, dtype <class 'object'>. Additional params: [('encoding_type', 'auto'), ('unknown', 5), ('force_input', False), ('label_encoded', False), ('ordinal', False)],\n",
       " 'NAME_EDUCATION_TYPE': Category role, dtype <class 'object'>. Additional params: [('encoding_type', 'auto'), ('unknown', 5), ('force_input', False), ('label_encoded', False), ('ordinal', False)],\n",
       " 'NAME_FAMILY_STATUS': Category role, dtype <class 'object'>. Additional params: [('encoding_type', 'auto'), ('unknown', 5), ('force_input', False), ('label_encoded', False), ('ordinal', False)],\n",
       " 'NAME_HOUSING_TYPE': Category role, dtype <class 'object'>. Additional params: [('encoding_type', 'auto'), ('unknown', 5), ('force_input', False), ('label_encoded', False), ('ordinal', False)],\n",
       " 'NAME_INCOME_TYPE': Category role, dtype <class 'object'>. Additional params: [('encoding_type', 'auto'), ('unknown', 5), ('force_input', False), ('label_encoded', False), ('ordinal', False)],\n",
       " 'NAME_TYPE_SUITE': Category role, dtype <class 'object'>. Additional params: [('encoding_type', 'auto'), ('unknown', 5), ('force_input', False), ('label_encoded', False), ('ordinal', False)],\n",
       " 'OCCUPATION_TYPE': Category role, dtype <class 'object'>. Additional params: [('encoding_type', 'auto'), ('unknown', 5), ('force_input', False), ('label_encoded', False), ('ordinal', False)],\n",
       " 'ORGANIZATION_TYPE': Category role, dtype <class 'object'>. Additional params: [('encoding_type', 'auto'), ('unknown', 5), ('force_input', False), ('label_encoded', False), ('ordinal', False)],\n",
       " 'WALLSMATERIAL_MODE': Category role, dtype <class 'object'>. Additional params: [('encoding_type', 'auto'), ('unknown', 5), ('force_input', False), ('label_encoded', False), ('ordinal', False)],\n",
       " 'WEEKDAY_APPR_PROCESS_START': Category role, dtype <class 'object'>. Additional params: [('encoding_type', 'auto'), ('unknown', 5), ('force_input', False), ('label_encoded', False), ('ordinal', False)]}"
      ]
     },
     "execution_count": 16,
     "metadata": {},
     "output_type": "execute_result"
    }
   ],
   "source": [
    "gpu_cats.roles"
   ]
  },
  {
   "cell_type": "code",
   "execution_count": 17,
   "metadata": {},
   "outputs": [
    {
     "name": "stdout",
     "output_type": "stream",
     "text": [
      "782 ms ± 5.44 ms per loop (mean ± std. dev. of 7 runs, 1 loop each)\n"
     ]
    }
   ],
   "source": [
    "%%timeit\n",
    "enc = trf.fit_transform(cats)"
   ]
  },
  {
   "cell_type": "code",
   "execution_count": 18,
   "metadata": {},
   "outputs": [
    {
     "data": {
      "text/plain": [
       "       CODE_GENDER EMERGENCYSTATE_MODE FLAG_OWN_CAR FLAG_OWN_REALTY  \\\n",
       "0                M                  No            N               Y   \n",
       "1                F                  No            N               N   \n",
       "2                M                <NA>            Y               Y   \n",
       "3                F                <NA>            N               Y   \n",
       "4                M                <NA>            N               Y   \n",
       "...            ...                 ...          ...             ...   \n",
       "307506           M                  No            N               N   \n",
       "307507           F                  No            N               Y   \n",
       "307508           F                  No            N               Y   \n",
       "307509           F                  No            N               Y   \n",
       "307510           F                  No            N               N   \n",
       "\n",
       "       FONDKAPREMONT_MODE  HOUSETYPE_MODE NAME_CONTRACT_TYPE  \\\n",
       "0        reg oper account  block of flats         Cash loans   \n",
       "1        reg oper account  block of flats         Cash loans   \n",
       "2                    <NA>            <NA>    Revolving loans   \n",
       "3                    <NA>            <NA>         Cash loans   \n",
       "4                    <NA>            <NA>         Cash loans   \n",
       "...                   ...             ...                ...   \n",
       "307506   reg oper account  block of flats         Cash loans   \n",
       "307507   reg oper account  block of flats         Cash loans   \n",
       "307508   reg oper account  block of flats         Cash loans   \n",
       "307509               <NA>  block of flats         Cash loans   \n",
       "307510               <NA>  block of flats         Cash loans   \n",
       "\n",
       "                  NAME_EDUCATION_TYPE    NAME_FAMILY_STATUS  \\\n",
       "0       Secondary / secondary special  Single / not married   \n",
       "1                    Higher education               Married   \n",
       "2       Secondary / secondary special  Single / not married   \n",
       "3       Secondary / secondary special        Civil marriage   \n",
       "4       Secondary / secondary special  Single / not married   \n",
       "...                               ...                   ...   \n",
       "307506  Secondary / secondary special             Separated   \n",
       "307507  Secondary / secondary special                 Widow   \n",
       "307508               Higher education             Separated   \n",
       "307509  Secondary / secondary special               Married   \n",
       "307510               Higher education               Married   \n",
       "\n",
       "        NAME_HOUSING_TYPE      NAME_INCOME_TYPE NAME_TYPE_SUITE  \\\n",
       "0       House / apartment               Working   Unaccompanied   \n",
       "1       House / apartment         State servant          Family   \n",
       "2       House / apartment               Working   Unaccompanied   \n",
       "3       House / apartment               Working   Unaccompanied   \n",
       "4       House / apartment               Working   Unaccompanied   \n",
       "...                   ...                   ...             ...   \n",
       "307506       With parents               Working   Unaccompanied   \n",
       "307507  House / apartment             Pensioner   Unaccompanied   \n",
       "307508  House / apartment               Working   Unaccompanied   \n",
       "307509  House / apartment  Commercial associate   Unaccompanied   \n",
       "307510  House / apartment  Commercial associate   Unaccompanied   \n",
       "\n",
       "       OCCUPATION_TYPE       ORGANIZATION_TYPE WALLSMATERIAL_MODE  \\\n",
       "0             Laborers  Business Entity Type 3       Stone, brick   \n",
       "1           Core staff                  School              Block   \n",
       "2             Laborers              Government               <NA>   \n",
       "3             Laborers  Business Entity Type 3               <NA>   \n",
       "4           Core staff                Religion               <NA>   \n",
       "...                ...                     ...                ...   \n",
       "307506     Sales staff                Services       Stone, brick   \n",
       "307507            <NA>                     XNA       Stone, brick   \n",
       "307508        Managers                  School              Panel   \n",
       "307509        Laborers  Business Entity Type 1       Stone, brick   \n",
       "307510        Laborers  Business Entity Type 3              Panel   \n",
       "\n",
       "       WEEKDAY_APPR_PROCESS_START  \n",
       "0                       WEDNESDAY  \n",
       "1                          MONDAY  \n",
       "2                          MONDAY  \n",
       "3                       WEDNESDAY  \n",
       "4                        THURSDAY  \n",
       "...                           ...  \n",
       "307506                   THURSDAY  \n",
       "307507                     MONDAY  \n",
       "307508                   THURSDAY  \n",
       "307509                  WEDNESDAY  \n",
       "307510                   THURSDAY  \n",
       "\n",
       "[307511 rows x 16 columns]"
      ]
     },
     "execution_count": 18,
     "metadata": {},
     "output_type": "execute_result"
    }
   ],
   "source": [
    "gpu_cats"
   ]
  },
  {
   "cell_type": "code",
   "execution_count": 19,
   "metadata": {},
   "outputs": [
    {
     "name": "stdout",
     "output_type": "stream",
     "text": [
      "563 ms ± 9.31 ms per loop (mean ± std. dev. of 7 runs, 1 loop each)\n"
     ]
    }
   ],
   "source": [
    "%%timeit\n",
    "enc = gpu_trf.fit_transform(gpu_cats)\n",
    "cuda.synchronize()"
   ]
  },
  {
   "cell_type": "code",
   "execution_count": 18,
   "metadata": {},
   "outputs": [
    {
     "name": "stdout",
     "output_type": "stream",
     "text": [
      "1.18 s ± 36.5 ms per loop (mean ± std. dev. of 7 runs, 1 loop each)\n"
     ]
    }
   ],
   "source": [
    "%%timeit\n",
    "enc = dd_trf.fit_transform(dd_cats)\n",
    "cuda.synchronize()"
   ]
  },
  {
   "cell_type": "code",
   "execution_count": 20,
   "metadata": {},
   "outputs": [
    {
     "data": {
      "text/plain": [
       "['CODE_GENDER',\n",
       " 'EMERGENCYSTATE_MODE',\n",
       " 'FLAG_OWN_CAR',\n",
       " 'FLAG_OWN_REALTY',\n",
       " 'FONDKAPREMONT_MODE',\n",
       " 'HOUSETYPE_MODE',\n",
       " 'NAME_CONTRACT_TYPE',\n",
       " 'NAME_EDUCATION_TYPE',\n",
       " 'NAME_FAMILY_STATUS',\n",
       " 'NAME_HOUSING_TYPE',\n",
       " 'NAME_INCOME_TYPE',\n",
       " 'NAME_TYPE_SUITE',\n",
       " 'OCCUPATION_TYPE',\n",
       " 'ORGANIZATION_TYPE',\n",
       " 'WALLSMATERIAL_MODE',\n",
       " 'WEEKDAY_APPR_PROCESS_START']"
      ]
     },
     "execution_count": 20,
     "metadata": {},
     "output_type": "execute_result"
    }
   ],
   "source": [
    "get_columns_by_role(ds, 'Category')"
   ]
  },
  {
   "cell_type": "code",
   "execution_count": 21,
   "metadata": {},
   "outputs": [],
   "source": [
    "trf = SequentialTransformer(\n",
    "    [categorical.LabelEncoder(), categorical.TargetEncoder()]\n",
    ")\n",
    "\n",
    "gpu_trf = SequentialTransformer(\n",
    "    [categorical_gpu.LabelEncoder_gpu(), categorical_gpu.TargetEncoder_gpu()]\n",
    ")\n",
    "\n",
    "dd_trf = SequentialTransformer(\n",
    "    [categorical_gpu.LabelEncoder_gpu(), categorical_gpu.TargetEncoder_gpu()]\n",
    ")\n"
   ]
  },
  {
   "cell_type": "code",
   "execution_count": 22,
   "metadata": {},
   "outputs": [
    {
     "name": "stdout",
     "output_type": "stream",
     "text": [
      "3 s ± 18.5 ms per loop (mean ± std. dev. of 7 runs, 1 loop each)\n"
     ]
    }
   ],
   "source": [
    "%%timeit\n",
    "enc = trf.fit_transform(cats)"
   ]
  },
  {
   "cell_type": "code",
   "execution_count": 32,
   "metadata": {},
   "outputs": [
    {
     "name": "stdout",
     "output_type": "stream",
     "text": [
      "860 ms ± 7.39 ms per loop (mean ± std. dev. of 7 runs, 1 loop each)\n"
     ]
    }
   ],
   "source": [
    "%%timeit\n",
    "enc = gpu_trf.fit_transform(gpu_cats)\n",
    "cuda.synchronize()"
   ]
  },
  {
   "cell_type": "code",
   "execution_count": 24,
   "metadata": {},
   "outputs": [
    {
     "name": "stdout",
     "output_type": "stream",
     "text": [
      "21.4 s ± 276 ms per loop (mean ± std. dev. of 7 runs, 1 loop each)\n"
     ]
    }
   ],
   "source": [
    "%%timeit\n",
    "enc = dd_trf.fit_transform(dd_cats)\n",
    "cuda.synchronize()"
   ]
  },
  {
   "cell_type": "code",
   "execution_count": 29,
   "metadata": {},
   "outputs": [
    {
     "data": {
      "text/plain": [
       "(307511, 124)"
      ]
     },
     "execution_count": 29,
     "metadata": {},
     "output_type": "execute_result"
    }
   ],
   "source": [
    "data.shape"
   ]
  },
  {
   "cell_type": "code",
   "execution_count": null,
   "metadata": {},
   "outputs": [],
   "source": []
  }
 ],
 "metadata": {
  "kernelspec": {
   "display_name": "Anaconda_py38",
   "language": "python",
   "name": "anaconda_py38"
  },
  "language_info": {
   "codemirror_mode": {
    "name": "ipython",
    "version": 3
   },
   "file_extension": ".py",
   "mimetype": "text/x-python",
   "name": "python",
   "nbconvert_exporter": "python",
   "pygments_lexer": "ipython3",
   "version": "3.8.5"
  }
 },
 "nbformat": 4,
 "nbformat_minor": 2
}
