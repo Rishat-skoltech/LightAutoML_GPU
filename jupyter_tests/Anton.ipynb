{
 "cells": [
  {
   "cell_type": "markdown",
   "id": "ca5783f4",
   "metadata": {},
   "source": [
    "# LIBRARY LOADS"
   ]
  },
  {
   "cell_type": "code",
   "execution_count": 1,
   "id": "52d2d1f1",
   "metadata": {},
   "outputs": [
    {
     "data": {
      "text/plain": [
       "'/beegfs/home/r.zagidullin/RAPIDS_VERSIONS/LightAutoML_GPU/lama_venv/bin/python3'"
      ]
     },
     "execution_count": 1,
     "metadata": {},
     "output_type": "execute_result"
    }
   ],
   "source": [
    "import sys\n",
    "sys.executable"
   ]
  },
  {
   "cell_type": "code",
   "execution_count": 2,
   "id": "87f9db35",
   "metadata": {},
   "outputs": [],
   "source": [
    "import pandas as pd\n",
    "from pandas import Series, DataFrame\n",
    "import numpy as np\n",
    "from scipy import sparse\n",
    "\n",
    "from lightautoml.reader.cudf_reader import CudfReader\n",
    "from lightautoml.reader.hybrid_reader import HybridReader\n",
    "from lightautoml.reader.base import PandasToPandasReader\n",
    "from lightautoml.tasks import Task\n",
    "\n",
    "import cudf\n",
    "import dask_cudf\n",
    "\n",
    "from numba import cuda\n",
    "import cupy as cp\n",
    "\n",
    "from lightautoml.transformers.base import SequentialTransformer, UnionTransformer\n",
    "\n",
    "\n",
    "from lightautoml.transformers import numeric_gpu, categorical_gpu, datetime_gpu\n",
    "from lightautoml.transformers import numeric, categorical, datetime\n",
    "\n",
    "from lightautoml.pipelines.utils import get_columns_by_role\n",
    "\n",
    "from dask.distributed import Client\n",
    "from dask_cuda import LocalCUDACluster\n",
    "\n",
    "import os"
   ]
  },
  {
   "cell_type": "code",
   "execution_count": 3,
   "id": "8cfe6c01",
   "metadata": {},
   "outputs": [],
   "source": [
    "from lightautoml.reader.daskcudf_reader import DaskCudfReader"
   ]
  },
  {
   "cell_type": "code",
   "execution_count": 4,
   "id": "0cba49b2",
   "metadata": {},
   "outputs": [
    {
     "name": "stderr",
     "output_type": "stream",
     "text": [
      "distributed.preloading - INFO - Import preload module: dask_cuda.initialize\n"
     ]
    },
    {
     "data": {
      "text/plain": [
       "{'ucx://127.0.0.1:45491': None}"
      ]
     },
     "execution_count": 4,
     "metadata": {},
     "output_type": "execute_result"
    }
   ],
   "source": [
    "cluster = LocalCUDACluster(rmm_managed_memory=True,\n",
    "                           CUDA_VISIBLE_DEVICES=\"0\",\n",
    "                           protocol=\"ucx\", enable_nvlink=True,\n",
    "                           memory_limit=\"8GB\")\n",
    "\n",
    "client = Client(cluster)\n",
    "client.run(cudf.set_allocator, \"managed\")\n",
    "#client.run(os.getpid)"
   ]
  },
  {
   "cell_type": "markdown",
   "id": "f04a8192",
   "metadata": {},
   "source": [
    "# DATA AND READERS PREPARATION"
   ]
  },
  {
   "cell_type": "code",
   "execution_count": 5,
   "id": "0085db1b",
   "metadata": {},
   "outputs": [],
   "source": [
    "data = pd.read_csv('./application_train.csv')"
   ]
  },
  {
   "cell_type": "code",
   "execution_count": 6,
   "id": "94946dde",
   "metadata": {},
   "outputs": [],
   "source": [
    "data['BIRTH_DATE'] = (np.datetime64('2018-01-01') + data['DAYS_BIRTH'].astype(np.dtype('timedelta64[D]'))).astype(str)\n",
    "data['EMP_DATE'] = (np.datetime64('2018-01-01') + np.clip(data['DAYS_EMPLOYED'], None, 0).astype(np.dtype('timedelta64[D]'))\n",
    "                   ).astype(str)\n",
    "\n",
    "data['constant'] = 1\n",
    "data['allnan'] = np.nan\n",
    "\n",
    "data.drop(['DAYS_BIRTH',  'DAYS_EMPLOYED'], axis = 1, inplace = True)\n"
   ]
  },
  {
   "cell_type": "code",
   "execution_count": 7,
   "id": "eb25e240",
   "metadata": {},
   "outputs": [],
   "source": [
    "task = task = Task('binary')\n",
    "adv_roles = True\n",
    "parts = 1\n",
    "reader = PandasToPandasReader(task, advanced_roles=adv_roles,\n",
    "                              n_jobs=1)\n",
    "gpu_reader = CudfReader(task, advanced_roles=adv_roles, n_jobs=1)\n",
    "dd_reader = DaskCudfReader(task, advanced_roles=adv_roles, \n",
    "                           n_jobs=1, index_ok = True, compute=False, npartitions=parts)\n",
    "\n",
    "hy_reader = HybridReader(task, num_cpu_readers=1,\n",
    "                         num_gpu_readers=1, gpu_ratio=0.5,\n",
    "                         output='mgpu', advanced_roles=adv_roles, index_ok = True,\n",
    "                         compute = False,\n",
    "                         npartitions=parts, n_jobs=1)"
   ]
  },
  {
   "cell_type": "code",
   "execution_count": 8,
   "id": "43a3af63",
   "metadata": {},
   "outputs": [],
   "source": [
    "gpu_data = cudf.DataFrame.from_pandas(data, nan_as_null=False)\n",
    "dd_data = dask_cudf.from_cudf(gpu_data, npartitions=parts)"
   ]
  },
  {
   "cell_type": "markdown",
   "id": "8caea17f",
   "metadata": {},
   "source": [
    "# TIMING READERS"
   ]
  },
  {
   "cell_type": "code",
   "execution_count": 9,
   "id": "5d3c614f",
   "metadata": {},
   "outputs": [
    {
     "name": "stdout",
     "output_type": "stream",
     "text": [
      "CPU times: user 23.7 s, sys: 784 ms, total: 24.4 s\n",
      "Wall time: 23.9 s\n"
     ]
    }
   ],
   "source": [
    "%%time\n",
    "ds = reader.fit_read(data, roles = {'target': 'TARGET'})"
   ]
  },
  {
   "cell_type": "code",
   "execution_count": 10,
   "id": "da0d0ff9",
   "metadata": {},
   "outputs": [
    {
     "name": "stdout",
     "output_type": "stream",
     "text": [
      "CPU times: user 13 s, sys: 1.93 s, total: 14.9 s\n",
      "Wall time: 15.8 s\n"
     ]
    }
   ],
   "source": [
    "%%time\n",
    "gpu_ds = gpu_reader.fit_read(gpu_data, roles = {'target': 'TARGET'})"
   ]
  },
  {
   "cell_type": "code",
   "execution_count": 11,
   "id": "0a5bc8a5",
   "metadata": {},
   "outputs": [
    {
     "name": "stdout",
     "output_type": "stream",
     "text": [
      "8.649658411741257e-07 nothing\n",
      "0.00013847299851477146 valid_roels\n",
      "4.66126948595047e-07 index_ok\n",
      "2.2132182493805885e-05 initialize\n",
      "0.04904052382335067 set-data\n",
      "CPU times: user 19.3 s, sys: 4.08 s, total: 23.4 s\n",
      "Wall time: 41.3 s\n"
     ]
    }
   ],
   "source": [
    "%%time\n",
    "dd_ds = dd_reader.fit_read(dd_data, roles = {'target': 'TARGET'})"
   ]
  },
  {
   "cell_type": "code",
   "execution_count": 12,
   "id": "9b1bc6fc",
   "metadata": {},
   "outputs": [
    {
     "name": "stdout",
     "output_type": "stream",
     "text": [
      "35.64038692810573 hybrid finished like\n",
      "1.1099036782979965e-06 nothing\n",
      "0.0001772991381585598 valid_roels\n",
      "6.060581654310226e-07 index_ok\n",
      "4.237005487084389e-05 initialize\n",
      "0.05186896398663521 set-data\n",
      "6.368398246122524 final fit_read\n",
      "CPU times: user 6.47 s, sys: 2.39 s, total: 8.86 s\n",
      "Wall time: 42 s\n"
     ]
    }
   ],
   "source": [
    "%%time\n",
    "dd_ds = hy_reader.fit_read(data, roles={'target': 'TARGET'})"
   ]
  },
  {
   "cell_type": "markdown",
   "id": "059c15c1",
   "metadata": {},
   "source": [
    "# TIMING LABEL ENCODER"
   ]
  },
  {
   "cell_type": "code",
   "execution_count": null,
   "id": "914c1d0b",
   "metadata": {},
   "outputs": [],
   "source": [
    "trf = categorical.LabelEncoder()\n",
    "gpu_trf = categorical_gpu.LabelEncoder_gpu()\n",
    "dd_trf = categorical_gpu.LabelEncoder_gpu()\n",
    "\n",
    "cats = ds[:, get_columns_by_role(ds, 'Category')]\n",
    "gpu_cats = gpu_ds[:, get_columns_by_role(gpu_ds, 'Category')]\n",
    "dd_cats = dd_ds[:, get_columns_by_role(dd_ds, 'Category')]\n",
    "\n",
    "print(cats.shape, gpu_cats.shape, dd_cats.shape)"
   ]
  },
  {
   "cell_type": "code",
   "execution_count": null,
   "id": "900a7a0a",
   "metadata": {},
   "outputs": [],
   "source": [
    "%%timeit\n",
    "enc = trf.fit_transform(cats)"
   ]
  },
  {
   "cell_type": "code",
   "execution_count": null,
   "id": "9c05e901",
   "metadata": {},
   "outputs": [],
   "source": [
    "%%timeit\n",
    "enc = gpu_trf.fit_transform(gpu_cats)"
   ]
  },
  {
   "cell_type": "code",
   "execution_count": null,
   "id": "45e213b0",
   "metadata": {},
   "outputs": [],
   "source": [
    "%%timeit\n",
    "enc = dd_trf.fit_transform(dd_cats)"
   ]
  },
  {
   "cell_type": "markdown",
   "id": "2238b40f",
   "metadata": {},
   "source": [
    "# TIMING TARGET ENCODER"
   ]
  },
  {
   "cell_type": "code",
   "execution_count": null,
   "id": "bbbd28e4",
   "metadata": {},
   "outputs": [],
   "source": [
    "trf = SequentialTransformer(\n",
    "    [categorical.LabelEncoder(), categorical.TargetEncoder()]\n",
    ")\n",
    "gpu_trf = SequentialTransformer(\n",
    "    [categorical_gpu.LabelEncoder_gpu(), categorical_gpu.TargetEncoder_gpu()]\n",
    ")\n",
    "dd_trf = SequentialTransformer(\n",
    "    [categorical_gpu.LabelEncoder_gpu(), categorical_gpu.TargetEncoder_gpu()]\n",
    ")\n"
   ]
  },
  {
   "cell_type": "code",
   "execution_count": null,
   "id": "77c29807",
   "metadata": {},
   "outputs": [],
   "source": [
    "%%timeit\n",
    "enc = trf.fit_transform(cats)"
   ]
  },
  {
   "cell_type": "code",
   "execution_count": null,
   "id": "6d5cf3d9",
   "metadata": {},
   "outputs": [],
   "source": [
    "%%timeit\n",
    "enc = gpu_trf.fit_transform(gpu_cats)"
   ]
  },
  {
   "cell_type": "code",
   "execution_count": null,
   "id": "e6965f5f",
   "metadata": {},
   "outputs": [],
   "source": [
    "%%timeit\n",
    "enc = dd_trf.fit_transform(dd_cats)"
   ]
  },
  {
   "cell_type": "markdown",
   "id": "73ab7eca",
   "metadata": {},
   "source": [
    "# TIMING OTHER CATEGORICAL TRANSFORMERS"
   ]
  },
  {
   "cell_type": "markdown",
   "id": "5b401b5f",
   "metadata": {},
   "source": [
    "## FreqEncoder"
   ]
  },
  {
   "cell_type": "code",
   "execution_count": null,
   "id": "2d0a7dcb",
   "metadata": {},
   "outputs": [],
   "source": [
    "trf = categorical.FreqEncoder()\n",
    "gpu_trf = categorical_gpu.FreqEncoder_gpu()\n",
    "dd_trf = categorical_gpu.FreqEncoder_gpu()"
   ]
  },
  {
   "cell_type": "code",
   "execution_count": null,
   "id": "6e61e55e",
   "metadata": {},
   "outputs": [],
   "source": [
    "%%timeit\n",
    "enc = trf.fit_transform(cats)"
   ]
  },
  {
   "cell_type": "code",
   "execution_count": null,
   "id": "b11e4ae4",
   "metadata": {},
   "outputs": [],
   "source": [
    "%%timeit\n",
    "enc = gpu_trf.fit_transform(gpu_cats)"
   ]
  },
  {
   "cell_type": "code",
   "execution_count": null,
   "id": "c6a5fec7",
   "metadata": {},
   "outputs": [],
   "source": [
    "%%timeit\n",
    "enc = dd_trf.fit_transform(dd_cats)"
   ]
  },
  {
   "cell_type": "markdown",
   "id": "ec2000b1",
   "metadata": {},
   "source": [
    "## OrdinalEncoder"
   ]
  },
  {
   "cell_type": "code",
   "execution_count": null,
   "id": "3af3d3a6",
   "metadata": {},
   "outputs": [],
   "source": [
    "trf = categorical.OrdinalEncoder()\n",
    "gpu_trf = categorical_gpu.OrdinalEncoder_gpu()\n",
    "dd_trf = categorical_gpu.OrdinalEncoder_gpu()"
   ]
  },
  {
   "cell_type": "code",
   "execution_count": null,
   "id": "31c4dbd1",
   "metadata": {},
   "outputs": [],
   "source": [
    "%%timeit\n",
    "enc = trf.fit_transform(cats)"
   ]
  },
  {
   "cell_type": "code",
   "execution_count": null,
   "id": "5b4c8210",
   "metadata": {},
   "outputs": [],
   "source": [
    "%%timeit\n",
    "enc = gpu_trf.fit_transform(gpu_cats)"
   ]
  },
  {
   "cell_type": "code",
   "execution_count": null,
   "id": "eee5ef38",
   "metadata": {},
   "outputs": [],
   "source": [
    "%%timeit\n",
    "enc = dd_trf.fit_transform(dd_cats)"
   ]
  },
  {
   "cell_type": "markdown",
   "id": "4ff3c942",
   "metadata": {},
   "source": [
    "## OHEEncoder"
   ]
  },
  {
   "cell_type": "code",
   "execution_count": null,
   "id": "4c62139e",
   "metadata": {},
   "outputs": [],
   "source": [
    "trf = SequentialTransformer(\n",
    "    [categorical.LabelEncoder(), categorical.OHEEncoder(make_sparse=True)]\n",
    ")\n",
    "gpu_trf = SequentialTransformer(\n",
    "    [categorical_gpu.LabelEncoder_gpu(), categorical_gpu.OHEEncoder_gpu(make_sparse=False)]\n",
    ")\n",
    "dd_trf = SequentialTransformer(\n",
    "    [categorical_gpu.LabelEncoder_gpu(), categorical_gpu.OHEEncoder_gpu(make_sparse=False)]\n",
    ")"
   ]
  },
  {
   "cell_type": "code",
   "execution_count": null,
   "id": "1cb6c5c1",
   "metadata": {},
   "outputs": [],
   "source": [
    "%%timeit\n",
    "enc = trf.fit_transform(cats)"
   ]
  },
  {
   "cell_type": "code",
   "execution_count": null,
   "id": "cf915b12",
   "metadata": {},
   "outputs": [],
   "source": [
    "%%timeit\n",
    "enc = gpu_trf.fit_transform(gpu_cats)"
   ]
  },
  {
   "cell_type": "code",
   "execution_count": null,
   "id": "1799a40e",
   "metadata": {},
   "outputs": [],
   "source": [
    "%%timeit\n",
    "enc = dd_trf.fit_transform(dd_cats)"
   ]
  },
  {
   "cell_type": "markdown",
   "id": "ec603b0c",
   "metadata": {},
   "source": [
    "## CatIntersections"
   ]
  },
  {
   "cell_type": "code",
   "execution_count": null,
   "id": "541586e4",
   "metadata": {},
   "outputs": [],
   "source": [
    "trf = SequentialTransformer(\n",
    "    [categorical.LabelEncoder(), categorical.CatIntersectstions()]\n",
    ")\n",
    "gpu_trf = SequentialTransformer(\n",
    "    [categorical_gpu.LabelEncoder_gpu(), categorical_gpu.CatIntersections_gpu()]\n",
    ")\n",
    "dd_trf = SequentialTransformer(\n",
    "    [categorical_gpu.LabelEncoder_gpu(), categorical_gpu.CatIntersections_gpu()]\n",
    ")"
   ]
  },
  {
   "cell_type": "code",
   "execution_count": null,
   "id": "f7a432a7",
   "metadata": {},
   "outputs": [],
   "source": [
    "%%time\n",
    "enc = trf.fit_transform(cats)"
   ]
  },
  {
   "cell_type": "code",
   "execution_count": null,
   "id": "b0c7df85",
   "metadata": {},
   "outputs": [],
   "source": [
    "%%timeit\n",
    "enc = gpu_trf.fit_transform(gpu_cats)"
   ]
  },
  {
   "cell_type": "code",
   "execution_count": null,
   "id": "c0f188a1",
   "metadata": {},
   "outputs": [],
   "source": [
    "%%timeit\n",
    "enc = dd_trf.fit_transform(dd_cats)"
   ]
  },
  {
   "cell_type": "markdown",
   "id": "9d380425",
   "metadata": {},
   "source": [
    "# TIMING DATETIME TRANSFORMERS"
   ]
  },
  {
   "cell_type": "markdown",
   "id": "3aaea142",
   "metadata": {},
   "source": [
    "## TimeToNum"
   ]
  },
  {
   "cell_type": "code",
   "execution_count": null,
   "id": "f414d77b",
   "metadata": {},
   "outputs": [],
   "source": [
    "trf = datetime.TimeToNum()\n",
    "gpu_trf = datetime_gpu.TimeToNum_gpu()\n",
    "dd_trf = datetime_gpu.TimeToNum_gpu()\n",
    "\n",
    "dats = ds[:, get_columns_by_role(ds, 'Datetime')]\n",
    "gpu_dats = gpu_ds[:, get_columns_by_role(gpu_ds, 'Datetime')]\n",
    "dd_dats = dd_ds[:, get_columns_by_role(dd_ds, 'Datetime')]\n",
    "\n",
    "print(dats.shape, gpu_dats.shape, dd_dats.shape)"
   ]
  },
  {
   "cell_type": "code",
   "execution_count": null,
   "id": "d53145f8",
   "metadata": {},
   "outputs": [],
   "source": [
    "%%time\n",
    "enc = trf.fit_transform(dats)"
   ]
  },
  {
   "cell_type": "code",
   "execution_count": null,
   "id": "546fed42",
   "metadata": {},
   "outputs": [],
   "source": [
    "%%timeit\n",
    "enc = gpu_trf.fit_transform(gpu_dats)"
   ]
  },
  {
   "cell_type": "code",
   "execution_count": null,
   "id": "ae125af4",
   "metadata": {},
   "outputs": [],
   "source": [
    "%%timeit\n",
    "enc = dd_trf.fit_transform(dd_dats)"
   ]
  },
  {
   "cell_type": "markdown",
   "id": "d568ce5a",
   "metadata": {},
   "source": [
    "## BaseDiff"
   ]
  },
  {
   "cell_type": "code",
   "execution_count": null,
   "id": "5e4d6f4b",
   "metadata": {},
   "outputs": [],
   "source": [
    "trf = datetime.BaseDiff(base_names=[dats.features[0]], diff_names=[dats.features[1]])\n",
    "gpu_trf = datetime_gpu.BaseDiff_gpu(base_names=[dats.features[0]], diff_names=[dats.features[1]])\n",
    "dd_trf = datetime_gpu.BaseDiff_gpu(base_names=[dats.features[0]], diff_names=[dats.features[1]])"
   ]
  },
  {
   "cell_type": "code",
   "execution_count": null,
   "id": "ba469bb8",
   "metadata": {},
   "outputs": [],
   "source": [
    "%%time\n",
    "enc = trf.fit_transform(dats)"
   ]
  },
  {
   "cell_type": "code",
   "execution_count": null,
   "id": "f50e1e62",
   "metadata": {},
   "outputs": [],
   "source": [
    "%%timeit\n",
    "enc = gpu_trf.fit_transform(gpu_dats)"
   ]
  },
  {
   "cell_type": "code",
   "execution_count": null,
   "id": "7a54791b",
   "metadata": {
    "scrolled": false
   },
   "outputs": [],
   "source": [
    "%%timeit\n",
    "enc = dd_trf.fit_transform(dd_dats)"
   ]
  },
  {
   "cell_type": "markdown",
   "id": "c9d29435",
   "metadata": {},
   "source": [
    "## DateSeasons"
   ]
  },
  {
   "cell_type": "code",
   "execution_count": null,
   "id": "f706e616",
   "metadata": {},
   "outputs": [],
   "source": [
    "trf = datetime.DateSeasons()\n",
    "gpu_trf = datetime_gpu.DateSeasons_gpu()\n",
    "dd_trf = datetime_gpu.DateSeasons_gpu()"
   ]
  },
  {
   "cell_type": "code",
   "execution_count": null,
   "id": "c32645b0",
   "metadata": {},
   "outputs": [],
   "source": [
    "%%time\n",
    "enc = trf.fit_transform(dats)"
   ]
  },
  {
   "cell_type": "code",
   "execution_count": null,
   "id": "fdfa8f6a",
   "metadata": {},
   "outputs": [],
   "source": [
    "%%timeit\n",
    "enc = gpu_trf.fit_transform(gpu_dats)"
   ]
  },
  {
   "cell_type": "code",
   "execution_count": null,
   "id": "73323ba1",
   "metadata": {},
   "outputs": [],
   "source": [
    "%%timeit\n",
    "enc = dd_trf.fit_transform(dd_dats)"
   ]
  },
  {
   "cell_type": "markdown",
   "id": "4d2a0c56",
   "metadata": {},
   "source": [
    "# TIMING NUMERICAL TRANSFORMERS"
   ]
  },
  {
   "cell_type": "markdown",
   "id": "6d33eb1f",
   "metadata": {},
   "source": [
    "## NaNFlags"
   ]
  },
  {
   "cell_type": "code",
   "execution_count": null,
   "id": "d8c955ab",
   "metadata": {},
   "outputs": [],
   "source": [
    "trf = numeric.NaNFlags()\n",
    "gpu_trf = numeric_gpu.NaNFlags_gpu()\n",
    "dd_trf = numeric_gpu.NaNFlags_gpu()\n",
    "\n",
    "nums = ds[:, get_columns_by_role(ds, 'Numeric')]\n",
    "gpu_nums = gpu_ds[:, get_columns_by_role(gpu_ds, 'Numeric')]\n",
    "dd_nums = dd_ds[:, get_columns_by_role(dd_ds, 'Numeric')]\n",
    "\n",
    "print(nums.shape, gpu_nums.shape, dd_nums.shape)"
   ]
  },
  {
   "cell_type": "code",
   "execution_count": null,
   "id": "7cad3566",
   "metadata": {},
   "outputs": [],
   "source": [
    "%%time\n",
    "enc = trf.fit_transform(nums)"
   ]
  },
  {
   "cell_type": "code",
   "execution_count": null,
   "id": "09598a13",
   "metadata": {},
   "outputs": [],
   "source": [
    "%%timeit\n",
    "enc = gpu_trf.fit_transform(gpu_nums)"
   ]
  },
  {
   "cell_type": "code",
   "execution_count": null,
   "id": "0c2cec36",
   "metadata": {},
   "outputs": [],
   "source": [
    "%%timeit\n",
    "enc = dd_trf.fit_transform(dd_nums)"
   ]
  },
  {
   "cell_type": "markdown",
   "id": "a0eddfb5",
   "metadata": {},
   "source": [
    "## FillnaMedian"
   ]
  },
  {
   "cell_type": "code",
   "execution_count": null,
   "id": "4404dd20",
   "metadata": {},
   "outputs": [],
   "source": [
    "trf = numeric.FillnaMedian()\n",
    "gpu_trf = numeric_gpu.FillnaMedian_gpu()\n",
    "dd_trf = numeric_gpu.FillnaMedian_gpu()"
   ]
  },
  {
   "cell_type": "code",
   "execution_count": null,
   "id": "7e9934ba",
   "metadata": {},
   "outputs": [],
   "source": [
    "%%time\n",
    "enc = trf.fit_transform(nums)"
   ]
  },
  {
   "cell_type": "code",
   "execution_count": null,
   "id": "f4ae4e6a",
   "metadata": {},
   "outputs": [],
   "source": [
    "%%timeit\n",
    "enc = gpu_trf.fit_transform(gpu_nums)"
   ]
  },
  {
   "cell_type": "code",
   "execution_count": null,
   "id": "e3e53a00",
   "metadata": {},
   "outputs": [],
   "source": [
    "%%timeit\n",
    "enc = dd_trf.fit_transform(dd_nums)"
   ]
  },
  {
   "cell_type": "markdown",
   "id": "9c4f75da",
   "metadata": {},
   "source": [
    "## FillInf"
   ]
  },
  {
   "cell_type": "code",
   "execution_count": null,
   "id": "81c6785e",
   "metadata": {},
   "outputs": [],
   "source": [
    "trf = numeric.FillInf()\n",
    "gpu_trf = numeric_gpu.FillInf_gpu()\n",
    "dd_trf = numeric_gpu.FillInf_gpu()"
   ]
  },
  {
   "cell_type": "code",
   "execution_count": null,
   "id": "9977045c",
   "metadata": {},
   "outputs": [],
   "source": [
    "%%time\n",
    "enc = trf.fit_transform(nums)"
   ]
  },
  {
   "cell_type": "code",
   "execution_count": null,
   "id": "1a755d35",
   "metadata": {},
   "outputs": [],
   "source": [
    "%%timeit\n",
    "enc = gpu_trf.fit_transform(gpu_nums)"
   ]
  },
  {
   "cell_type": "code",
   "execution_count": null,
   "id": "6e61e5c4",
   "metadata": {},
   "outputs": [],
   "source": [
    "%%timeit\n",
    "enc = dd_trf.fit_transform(dd_nums)"
   ]
  },
  {
   "cell_type": "markdown",
   "id": "1f8379cb",
   "metadata": {},
   "source": [
    "## LogOdds"
   ]
  },
  {
   "cell_type": "code",
   "execution_count": null,
   "id": "87d78f34",
   "metadata": {},
   "outputs": [],
   "source": [
    "trf = numeric.LogOdds()\n",
    "gpu_trf = numeric_gpu.LogOdds_gpu()\n",
    "dd_trf = numeric_gpu.LogOdds_gpu()"
   ]
  },
  {
   "cell_type": "code",
   "execution_count": null,
   "id": "94170b48",
   "metadata": {},
   "outputs": [],
   "source": [
    "%%time\n",
    "enc = trf.fit_transform(nums)"
   ]
  },
  {
   "cell_type": "code",
   "execution_count": null,
   "id": "7694d955",
   "metadata": {},
   "outputs": [],
   "source": [
    "%%timeit\n",
    "enc = gpu_trf.fit_transform(gpu_nums)"
   ]
  },
  {
   "cell_type": "code",
   "execution_count": null,
   "id": "facce29f",
   "metadata": {},
   "outputs": [],
   "source": [
    "%%timeit\n",
    "enc = dd_trf.fit_transform(dd_nums)"
   ]
  },
  {
   "cell_type": "markdown",
   "id": "5c480c76",
   "metadata": {},
   "source": [
    "## StandardScaler"
   ]
  },
  {
   "cell_type": "code",
   "execution_count": null,
   "id": "3418bed8",
   "metadata": {},
   "outputs": [],
   "source": [
    "trf = numeric.StandardScaler()\n",
    "gpu_trf = numeric_gpu.StandardScaler_gpu()\n",
    "dd_trf = numeric_gpu.StandardScaler_gpu()"
   ]
  },
  {
   "cell_type": "code",
   "execution_count": null,
   "id": "29c0a02a",
   "metadata": {},
   "outputs": [],
   "source": [
    "%%time\n",
    "enc = trf.fit_transform(nums)"
   ]
  },
  {
   "cell_type": "code",
   "execution_count": null,
   "id": "76dcc8b7",
   "metadata": {},
   "outputs": [],
   "source": [
    "%%timeit\n",
    "enc = gpu_trf.fit_transform(gpu_nums)"
   ]
  },
  {
   "cell_type": "code",
   "execution_count": null,
   "id": "f65ac5b4",
   "metadata": {},
   "outputs": [],
   "source": [
    "%%timeit\n",
    "enc = dd_trf.fit_transform(dd_nums)"
   ]
  },
  {
   "cell_type": "markdown",
   "id": "6cb40fc8",
   "metadata": {},
   "source": [
    "## QuantileBinning"
   ]
  },
  {
   "cell_type": "code",
   "execution_count": null,
   "id": "3ab51cde",
   "metadata": {},
   "outputs": [],
   "source": [
    "trf = numeric.QuantileBinning()\n",
    "gpu_trf = numeric_gpu.QuantileBinning_gpu()\n",
    "dd_trf = numeric_gpu.QuantileBinning_gpu()"
   ]
  },
  {
   "cell_type": "code",
   "execution_count": null,
   "id": "11a6f3bc",
   "metadata": {},
   "outputs": [],
   "source": [
    "%%time\n",
    "enc = trf.fit_transform(nums)"
   ]
  },
  {
   "cell_type": "code",
   "execution_count": null,
   "id": "c8118a7a",
   "metadata": {},
   "outputs": [],
   "source": [
    "%%timeit\n",
    "enc = gpu_trf.fit_transform(gpu_nums)"
   ]
  },
  {
   "cell_type": "code",
   "execution_count": null,
   "id": "40594195",
   "metadata": {},
   "outputs": [],
   "source": [
    "%%time\n",
    "enc = dd_trf.fit(dd_nums)"
   ]
  },
  {
   "cell_type": "code",
   "execution_count": null,
   "id": "058bb321",
   "metadata": {},
   "outputs": [],
   "source": [
    "%%time\n",
    "enc = dd_trf.transform(dd_nums)"
   ]
  },
  {
   "cell_type": "code",
   "execution_count": null,
   "id": "f2a1ec2a",
   "metadata": {},
   "outputs": [],
   "source": [
    "# TIMING MULTICLASS TARGET ENCODER"
   ]
  },
  {
   "cell_type": "code",
   "execution_count": null,
   "id": "902cfcdb",
   "metadata": {},
   "outputs": [],
   "source": [
    "task = task = Task('multiclass')\n",
    "adv_roles = True\n",
    "parts = 1\n",
    "reader = PandasToPandasReader(task, advanced_roles=adv_roles,\n",
    "                              n_jobs=1)\n",
    "gpu_reader = CudfReader(task, advanced_roles=adv_roles, n_jobs=1)\n",
    "dd_reader = DaskCudfReader(task, advanced_roles=adv_roles, \n",
    "                           n_jobs=1, compute=False, npartitions=parts)\n",
    "\n",
    "hy_reader = HybridReader(task, num_cpu_readers=1,\n",
    "                         num_gpu_readers=2, gpu_ratio=0.6,\n",
    "                         output='mgpu', advanced_roles=adv_roles,\n",
    "                         npartitions=parts, n_jobs=1)"
   ]
  },
  {
   "cell_type": "code",
   "execution_count": null,
   "id": "71a130c5",
   "metadata": {},
   "outputs": [],
   "source": [
    "data_len = data.shape[0]\n",
    "data['TARGET'] = pd.Series(np.random.randint(0, 4, data_len)).astype('i')"
   ]
  },
  {
   "cell_type": "code",
   "execution_count": null,
   "id": "d5043a25",
   "metadata": {},
   "outputs": [],
   "source": [
    "gpu_data = cudf.DataFrame.from_pandas(data, nan_as_null=False)\n",
    "dd_data = dask_cudf.from_cudf(gpu_data, npartitions=parts)"
   ]
  },
  {
   "cell_type": "code",
   "execution_count": null,
   "id": "a0aaadf6",
   "metadata": {},
   "outputs": [],
   "source": [
    "%%time\n",
    "ds = reader.fit_read(data, roles = {'target': 'TARGET'})"
   ]
  },
  {
   "cell_type": "code",
   "execution_count": null,
   "id": "84fd0057",
   "metadata": {},
   "outputs": [],
   "source": [
    "%%time\n",
    "gpu_ds = gpu_reader.fit_read(gpu_data, roles = {'target': 'TARGET'})"
   ]
  },
  {
   "cell_type": "code",
   "execution_count": null,
   "id": "29bea052",
   "metadata": {},
   "outputs": [],
   "source": [
    "%%time\n",
    "dd_ds = dd_reader.fit_read(dd_data, roles = {'target': 'TARGET'})"
   ]
  },
  {
   "cell_type": "code",
   "execution_count": null,
   "id": "a6914840",
   "metadata": {},
   "outputs": [],
   "source": [
    "cats = ds[:, get_columns_by_role(ds, 'Category')]\n",
    "gpu_cats = gpu_ds[:, get_columns_by_role(gpu_ds, 'Category')]\n",
    "dd_cats = dd_ds[:, get_columns_by_role(dd_ds, 'Category')]\n",
    "\n",
    "#cpu cats have zero cat columns\n",
    "print(cats.shape, gpu_cats.shape, dd_cats.shape)"
   ]
  },
  {
   "cell_type": "code",
   "execution_count": null,
   "id": "31e65e7d",
   "metadata": {},
   "outputs": [],
   "source": [
    "trf = SequentialTransformer(\n",
    "    [categorical.LabelEncoder(), categorical.MultiClassTargetEncoder()]\n",
    ")\n",
    "gpu_trf = SequentialTransformer(\n",
    "    [categorical_gpu.LabelEncoder_gpu(), categorical_gpu.MultiClassTargetEncoder_gpu()]\n",
    ")\n",
    "dd_trf = SequentialTransformer(\n",
    "    [categorical_gpu.LabelEncoder_gpu(), categorical_gpu.MultiClassTargetEncoder_gpu()]\n",
    ")\n"
   ]
  },
  {
   "cell_type": "code",
   "execution_count": null,
   "id": "4f124e70",
   "metadata": {},
   "outputs": [],
   "source": [
    "%%timeit\n",
    "enc = gpu_trf.fit_transform(gpu_cats)"
   ]
  },
  {
   "cell_type": "code",
   "execution_count": null,
   "id": "af6ba618",
   "metadata": {},
   "outputs": [],
   "source": [
    "%%timeit\n",
    "enc = dd_trf.fit_transform(dd_cats)"
   ]
  },
  {
   "cell_type": "code",
   "execution_count": null,
   "id": "b8cc4370",
   "metadata": {},
   "outputs": [],
   "source": []
  }
 ],
 "metadata": {
  "kernelspec": {
   "display_name": "lama_rapids_python3",
   "language": "python",
   "name": "lama_rapids_python3"
  },
  "language_info": {
   "codemirror_mode": {
    "name": "ipython",
    "version": 3
   },
   "file_extension": ".py",
   "mimetype": "text/x-python",
   "name": "python",
   "nbconvert_exporter": "python",
   "pygments_lexer": "ipython3",
   "version": "3.8.10"
  }
 },
 "nbformat": 4,
 "nbformat_minor": 5
}
