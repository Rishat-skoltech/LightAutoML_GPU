{
 "cells": [
  {
   "cell_type": "markdown",
   "id": "221f3521",
   "metadata": {},
   "source": [
    "# Tutorial 1: Basics"
   ]
  },
  {
   "cell_type": "markdown",
   "id": "7193e7d9",
   "metadata": {},
   "source": [
    "\n",
    "In this tutorial you will learn how to:\n",
    "* run LightAutoML GPU version training on tabular data\n",
    "* obtain feature importances and reports\n",
    "* configure resource usage in LightAutoML\n"
   ]
  },
  {
   "cell_type": "markdown",
   "id": "5cad27ed",
   "metadata": {
    "papermill": {
     "duration": 0.066681,
     "end_time": "2021-06-22T20:10:53.090975",
     "exception": false,
     "start_time": "2021-06-22T20:10:53.024294",
     "status": "completed"
    },
    "tags": []
   },
   "source": [
    "### 0.1. Import libraries\n",
    "\n",
    "Here we will import the libraries we use in this kernel:\n",
    "- Standard python libraries for timing, working with OS etc.\n",
    "- Essential python DS libraries like numpy, pandas, scikit-learn and torch (the last we will use in the next cell)\n",
    "- LightAutoML modules: presets for AutoML, task and report generation module"
   ]
  },
  {
   "cell_type": "code",
   "execution_count": null,
   "id": "c92973c2",
   "metadata": {
    "execution": {
     "iopub.execute_input": "2021-06-22T20:10:53.233356Z",
     "iopub.status.busy": "2021-06-22T20:10:53.232675Z",
     "iopub.status.idle": "2021-06-22T20:11:01.486841Z",
     "shell.execute_reply": "2021-06-22T20:11:01.487566Z",
     "shell.execute_reply.started": "2021-06-22T19:06:43.597648Z"
    },
    "papermill": {
     "duration": 8.32949,
     "end_time": "2021-06-22T20:11:01.487788",
     "exception": false,
     "start_time": "2021-06-22T20:10:53.158298",
     "status": "completed"
    },
    "tags": []
   },
   "outputs": [],
   "source": [
    "# Standard python libraries\n",
    "import os\n",
    "import time\n",
    "\n",
    "# Essential DS libraries\n",
    "import numpy as np\n",
    "import pandas as pd\n",
    "from sklearn.metrics import roc_auc_score\n",
    "from sklearn.model_selection import train_test_split\n",
    "import torch\n",
    "\n",
    "# LightAutoML presets, task and report generation\n",
    "from lightautoml.automl.presets.gpu.tabular_gpu_presets import TabularAutoML_gpu\n",
    "from lightautoml.tasks import Task\n",
    "from lightautoml.report.gpu import ReportDeco"
   ]
  },
  {
   "cell_type": "markdown",
   "id": "3a1ab17e",
   "metadata": {
    "papermill": {
     "duration": 0.064234,
     "end_time": "2021-06-22T20:11:01.619010",
     "exception": false,
     "start_time": "2021-06-22T20:11:01.554776",
     "status": "completed"
    },
    "tags": []
   },
   "source": [
    "### 0.2. Constants\n",
    "\n",
    "Here we setup the constants to use in the kernel:\n",
    "- `N_THREADS` - number of vCPUs for LightAutoML model creation\n",
    "- `N_FOLDS` - number of folds in LightAutoML inner CV\n",
    "- `RANDOM_STATE` - random seed for better reproducibility\n",
    "- `TEST_SIZE` - houldout data part size \n",
    "- `TIMEOUT` - limit in seconds for model to train\n",
    "- `TARGET_NAME` - target column name in dataset"
   ]
  },
  {
   "cell_type": "code",
   "execution_count": null,
   "id": "fa454d70",
   "metadata": {
    "execution": {
     "iopub.execute_input": "2021-06-22T20:11:01.758476Z",
     "iopub.status.busy": "2021-06-22T20:11:01.757403Z",
     "iopub.status.idle": "2021-06-22T20:11:01.760870Z",
     "shell.execute_reply": "2021-06-22T20:11:01.760168Z",
     "shell.execute_reply.started": "2021-06-22T19:06:51.523697Z"
    },
    "papermill": {
     "duration": 0.077787,
     "end_time": "2021-06-22T20:11:01.761030",
     "exception": false,
     "start_time": "2021-06-22T20:11:01.683243",
     "status": "completed"
    },
    "tags": []
   },
   "outputs": [],
   "source": [
    "N_THREADS = 4\n",
    "N_FOLDS = 5\n",
    "RANDOM_STATE = 42\n",
    "TEST_SIZE = 0.2\n",
    "TIMEOUT = 300\n",
    "TARGET_NAME = 'TARGET'"
   ]
  },
  {
   "cell_type": "code",
   "execution_count": null,
   "id": "d3cab4f3",
   "metadata": {},
   "outputs": [],
   "source": []
  },
  {
   "cell_type": "code",
   "execution_count": null,
   "id": "91b8f5f8",
   "metadata": {},
   "outputs": [],
   "source": [
    "DATASET_DIR = './data/'\n",
    "DATASET_NAMES = ['higgs.csv', 'Fashion-MNIST.csv']\n",
    "DATASET_FULLNAME = [os.path.join(DATASET_DIR, name) for name in DATASET_NAMES]"
   ]
  },
  {
   "cell_type": "markdown",
   "id": "4542ef68",
   "metadata": {
    "papermill": {
     "duration": 0.086481,
     "end_time": "2021-06-22T20:11:01.927314",
     "exception": false,
     "start_time": "2021-06-22T20:11:01.840833",
     "status": "completed"
    },
    "tags": []
   },
   "source": [
    "### 0.3. Imported models setup\n",
    "\n",
    "For better reproducibility fix numpy random seed with max number of threads for Torch (which usually try to use all the threads on server):"
   ]
  },
  {
   "cell_type": "code",
   "execution_count": null,
   "id": "b7b8b843",
   "metadata": {
    "execution": {
     "iopub.execute_input": "2021-06-22T20:11:02.089551Z",
     "iopub.status.busy": "2021-06-22T20:11:02.088530Z",
     "iopub.status.idle": "2021-06-22T20:11:02.092262Z",
     "shell.execute_reply": "2021-06-22T20:11:02.091429Z",
     "shell.execute_reply.started": "2021-06-22T19:06:51.531710Z"
    },
    "papermill": {
     "duration": 0.087268,
     "end_time": "2021-06-22T20:11:02.092497",
     "exception": false,
     "start_time": "2021-06-22T20:11:02.005229",
     "status": "completed"
    },
    "tags": []
   },
   "outputs": [],
   "source": [
    "np.random.seed(RANDOM_STATE)\n",
    "torch.set_num_threads(N_THREADS)"
   ]
  },
  {
   "cell_type": "markdown",
   "id": "89e9f79b",
   "metadata": {
    "papermill": {
     "duration": 0.072033,
     "end_time": "2021-06-22T20:11:02.238196",
     "exception": false,
     "start_time": "2021-06-22T20:11:02.166163",
     "status": "completed"
    },
    "tags": []
   },
   "source": [
    "### 0.4. Data loading\n",
    "Let's check the data we have:"
   ]
  },
  {
   "cell_type": "code",
   "execution_count": null,
   "id": "521dfde7",
   "metadata": {
    "execution": {
     "iopub.execute_input": "2021-06-22T20:11:02.386568Z",
     "iopub.status.busy": "2021-06-22T20:11:02.385526Z",
     "iopub.status.idle": "2021-06-22T20:11:15.017602Z",
     "shell.execute_reply": "2021-06-22T20:11:15.018159Z",
     "shell.execute_reply.started": "2021-06-22T19:06:51.545269Z"
    },
    "papermill": {
     "duration": 12.710747,
     "end_time": "2021-06-22T20:11:15.018360",
     "exception": false,
     "start_time": "2021-06-22T20:11:02.307613",
     "status": "completed"
    },
    "scrolled": true,
    "tags": []
   },
   "outputs": [],
   "source": [
    "data = pd.read_csv('./data/higgs.csv')\n",
    "data.head()\n",
    "\n",
    "data_info_ = {\n",
    "                'path': 'openml/higgs.csv',\n",
    "                'target': 'class',\n",
    "                'task_type': 'binary',\n",
    "                'read_csv_params': {'na_values': '?'}\n",
    "}\n",
    "\n",
    "\n",
    "\n",
    "for col in data.columns:\n",
    "    if data[col].isin(['?']).any():\n",
    "        data[col] = data[col].replace('?', np.nan).astype(np.float32)"
   ]
  },
  {
   "cell_type": "markdown",
   "id": "29f24c04",
   "metadata": {
    "papermill": {
     "duration": 0.065323,
     "end_time": "2021-06-22T20:11:21.676311",
     "exception": false,
     "start_time": "2021-06-22T20:11:21.610988",
     "status": "completed"
    },
    "tags": []
   },
   "source": [
    "### 0.5. Data splitting for train-holdout\n",
    "As we have only one file with target values, we can split it into 80%-20% for holdout usage:"
   ]
  },
  {
   "cell_type": "code",
   "execution_count": null,
   "id": "1232b932",
   "metadata": {},
   "outputs": [],
   "source": []
  },
  {
   "cell_type": "code",
   "execution_count": null,
   "id": "51804a0c",
   "metadata": {
    "execution": {
     "iopub.execute_input": "2021-06-22T20:11:21.814622Z",
     "iopub.status.busy": "2021-06-22T20:11:21.813630Z",
     "iopub.status.idle": "2021-06-22T20:11:22.537639Z",
     "shell.execute_reply": "2021-06-22T20:11:22.537037Z",
     "shell.execute_reply.started": "2021-06-22T19:07:07.916060Z"
    },
    "papermill": {
     "duration": 0.793619,
     "end_time": "2021-06-22T20:11:22.537798",
     "exception": false,
     "start_time": "2021-06-22T20:11:21.744179",
     "status": "completed"
    },
    "tags": []
   },
   "outputs": [],
   "source": [
    "tr_data, te_data = train_test_split(\n",
    "    data, \n",
    "    test_size=TEST_SIZE, \n",
    "    stratify=data['class'], \n",
    "    random_state=RANDOM_STATE\n",
    ")\n",
    "\n",
    "print(f'Data splitted. Parts sizes: tr_data = {tr_data.shape}, te_data = {te_data.shape}')\n",
    "\n",
    "tr_data.head()"
   ]
  },
  {
   "cell_type": "markdown",
   "id": "6e27a629",
   "metadata": {
    "papermill": {
     "duration": 0.071526,
     "end_time": "2021-06-22T20:11:22.853156",
     "exception": false,
     "start_time": "2021-06-22T20:11:22.781630",
     "status": "completed"
    },
    "tags": []
   },
   "source": [
    "## 1. Task definition"
   ]
  },
  {
   "cell_type": "markdown",
   "id": "ad55686a",
   "metadata": {},
   "source": [
    "### 1.1. Task type"
   ]
  },
  {
   "cell_type": "markdown",
   "id": "554f220e",
   "metadata": {},
   "source": [
    "\n",
    "On the cell below we create Task object - the class to setup what task LightAutoML model should solve with specific loss and metric if necessary (more info can be found [here](https://lightautoml.readthedocs.io/en/latest/generated/lightautoml.tasks.base.Task.html#lightautoml.tasks.base.Task) in our documentation):"
   ]
  },
  {
   "cell_type": "code",
   "execution_count": null,
   "id": "3a15c3b6",
   "metadata": {
    "execution": {
     "iopub.execute_input": "2021-06-22T20:11:23.005952Z",
     "iopub.status.busy": "2021-06-22T20:11:23.002234Z",
     "iopub.status.idle": "2021-06-22T20:11:23.009732Z",
     "shell.execute_reply": "2021-06-22T20:11:23.010398Z",
     "shell.execute_reply.started": "2021-06-22T19:07:08.656347Z"
    },
    "papermill": {
     "duration": 0.086442,
     "end_time": "2021-06-22T20:11:23.010643",
     "exception": false,
     "start_time": "2021-06-22T20:11:22.924201",
     "status": "completed"
    },
    "tags": []
   },
   "outputs": [],
   "source": [
    "task = Task('binary', device='gpu')"
   ]
  },
  {
   "cell_type": "markdown",
   "id": "45ffed47",
   "metadata": {
    "papermill": {
     "duration": 0.070103,
     "end_time": "2021-06-22T20:11:23.150929",
     "exception": false,
     "start_time": "2021-06-22T20:11:23.080826",
     "status": "completed"
    },
    "tags": []
   },
   "source": [
    "### 1.2. Feature roles setup"
   ]
  },
  {
   "cell_type": "markdown",
   "id": "6dc6e4c4",
   "metadata": {
    "papermill": {
     "duration": 0.069372,
     "end_time": "2021-06-22T20:11:23.290153",
     "exception": false,
     "start_time": "2021-06-22T20:11:23.220781",
     "status": "completed"
    },
    "tags": []
   },
   "source": [
    "To solve the task, we need to setup columns roles. The **only role you must setup is target role**, everything else (drop, numeric, categorical, group, weights etc.) is up to user - LightAutoML models have automatic columns typization inside:"
   ]
  },
  {
   "cell_type": "code",
   "execution_count": null,
   "id": "d869099c",
   "metadata": {
    "execution": {
     "iopub.execute_input": "2021-06-22T20:11:23.434600Z",
     "iopub.status.busy": "2021-06-22T20:11:23.433707Z",
     "iopub.status.idle": "2021-06-22T20:11:23.438088Z",
     "shell.execute_reply": "2021-06-22T20:11:23.438653Z",
     "shell.execute_reply.started": "2021-06-22T19:07:08.673897Z"
    },
    "papermill": {
     "duration": 0.07715,
     "end_time": "2021-06-22T20:11:23.438830",
     "exception": false,
     "start_time": "2021-06-22T20:11:23.361680",
     "status": "completed"
    },
    "tags": []
   },
   "outputs": [],
   "source": [
    "roles = {\n",
    "    'target': 'class',\n",
    "}"
   ]
  },
  {
   "cell_type": "markdown",
   "id": "fa02df63",
   "metadata": {
    "papermill": {
     "duration": 0.074284,
     "end_time": "2021-06-22T20:11:23.582462",
     "exception": false,
     "start_time": "2021-06-22T20:11:23.508178",
     "status": "completed"
    },
    "tags": []
   },
   "source": [
    "### 1.3. LightAutoML model creation - TabularAutoML preset"
   ]
  },
  {
   "cell_type": "markdown",
   "id": "9b5f89df",
   "metadata": {
    "papermill": {
     "duration": 0.072649,
     "end_time": "2021-06-22T20:11:23.726154",
     "exception": false,
     "start_time": "2021-06-22T20:11:23.653505",
     "status": "completed"
    },
    "tags": []
   },
   "source": [
    "In next the cell we are going to create LightAutoML model with `TabularAutoML` class - preset with default model structure like in the image below:\n",
    "\n",
    "<img src=\"../../imgs/tutorial_blackbox_pipeline.png\" alt=\"TabularAutoML preset pipeline\" style=\"width:85%;\"/>\n",
    "\n",
    "in just several lines. Let's discuss the params we can setup:\n",
    "- `task` - the type of the ML task (the only **must have** parameter)\n",
    "- `timeout` - time limit in seconds for model to train\n",
    "- `cpu_limit` - vCPU count for model to use\n",
    "- `reader_params` - parameter change for Reader object inside preset, which works on the first step of data preparation: automatic feature typization, preliminary almost-constant features, correct CV setup etc. For example, we setup `n_jobs` threads for typization algo, `cv` folds and `random_state` as inside CV seed.\n",
    "\n",
    "**Important note**: `reader_params` key is one of the YAML config keys, which is used inside `TabularAutoML` preset. [More details](https://github.com/sberbank-ai-lab/LightAutoML/blob/master/lightautoml/automl/presets/tabular_config.yml) on its structure with explanation comments can be found on the link attached. Each key from this config can be modified with user settings during preset object initialization. To get more info about different parameters setting (for example, ML algos which can be used in `general_params->use_algos`) please take a look at our [article on TowardsDataScience](https://towardsdatascience.com/lightautoml-preset-usage-tutorial-2cce7da6f936).\n",
    "\n",
    "Moreover, to receive the automatic report for our model we will use `ReportDeco` decorator and work with the decorated version in the same way as we do with usual one. "
   ]
  },
  {
   "cell_type": "code",
   "execution_count": null,
   "id": "949a5dcf",
   "metadata": {},
   "outputs": [],
   "source": []
  },
  {
   "cell_type": "code",
   "execution_count": null,
   "id": "43698a5c",
   "metadata": {},
   "outputs": [],
   "source": [
    "automl = TabularAutoML_gpu(task=task,     \n",
    "    timeout=TIMEOUT)"
   ]
  },
  {
   "cell_type": "markdown",
   "id": "27e3bcb2",
   "metadata": {},
   "source": [
    "## 2. AutoML training"
   ]
  },
  {
   "cell_type": "markdown",
   "id": "6f54232d",
   "metadata": {},
   "source": [
    "To run autoML training use fit_predict method:\n",
    "\n",
    "- `train_data` - Dataset to train.\n",
    "- `roles` - Roles dict.\n",
    "- `verbose` - Controls the verbosity: the higher, the more messages.\n",
    "        <1  : messages are not displayed;\n",
    "        >=1 : the computation process for layers is displayed;\n",
    "        >=2 : the information about folds processing is also displayed;\n",
    "        >=3 : the hyperparameters optimization process is also displayed;\n",
    "        >=4 : the training process for every algorithm is displayed;\n",
    "\n",
    "Note: out-of-fold prediction is calculated during training and returned from the fit_predict method"
   ]
  },
  {
   "cell_type": "code",
   "execution_count": null,
   "id": "d3fde9db",
   "metadata": {
    "scrolled": false
   },
   "outputs": [],
   "source": [
    "%%time \n",
    "oof_pred = automl.fit_predict(tr_data, roles = roles, verbose = 1)"
   ]
  },
  {
   "cell_type": "markdown",
   "id": "c1c7ac4c",
   "metadata": {
    "papermill": {
     "duration": 0.145098,
     "end_time": "2021-06-22T20:34:32.530768",
     "exception": false,
     "start_time": "2021-06-22T20:34:32.385670",
     "status": "completed"
    },
    "tags": []
   },
   "source": [
    "## 3. Prediction on holdout and model evaluation"
   ]
  },
  {
   "cell_type": "code",
   "execution_count": null,
   "id": "744e6b03",
   "metadata": {},
   "outputs": [],
   "source": [
    "%%time\n",
    "\n",
    "te_pred = automl.predict(te_data)\n",
    "print(f'Prediction for te_data:\\n{te_pred}\\nShape = {te_pred.shape}')"
   ]
  },
  {
   "cell_type": "code",
   "execution_count": null,
   "id": "b1f43c15",
   "metadata": {},
   "outputs": [],
   "source": [
    "print(f'OOF score: {roc_auc_score(tr_data[TARGETS_DICT[DATASET_NAMES[0]]].values, oof_pred.data[:, 0])}')\n",
    "print(f'HOLDOUT score: {roc_auc_score(te_data[TARGETS_DICT[DATASET_NAMES[0]]].values, te_pred.data[:, 0])}')"
   ]
  },
  {
   "cell_type": "markdown",
   "id": "c0cf7999",
   "metadata": {},
   "source": [
    "## 4. Model analysis"
   ]
  },
  {
   "cell_type": "markdown",
   "id": "b6b1e140",
   "metadata": {},
   "source": [
    "### 4.1. Reports"
   ]
  },
  {
   "cell_type": "markdown",
   "id": "be7a0295",
   "metadata": {},
   "source": [
    "You can obtain the description of the resulting pipeline:"
   ]
  },
  {
   "cell_type": "code",
   "execution_count": null,
   "id": "83a9bc3a",
   "metadata": {},
   "outputs": [],
   "source": [
    "print(automl.create_model_str_desc())"
   ]
  },
  {
   "cell_type": "markdown",
   "id": "f2634d1e",
   "metadata": {},
   "source": [
    "Also for this purposes LightAutoML have ReportDeco, use it to build reports:"
   ]
  },
  {
   "cell_type": "code",
   "execution_count": null,
   "id": "c2343e61",
   "metadata": {
    "_kg_hide-output": true,
    "execution": {
     "iopub.execute_input": "2021-06-22T20:11:23.898451Z",
     "iopub.status.busy": "2021-06-22T20:11:23.882755Z",
     "iopub.status.idle": "2021-06-22T20:28:33.962394Z",
     "shell.execute_reply": "2021-06-22T20:28:33.962995Z",
     "shell.execute_reply.started": "2021-06-22T19:07:31.468238Z"
    },
    "papermill": {
     "duration": 1030.159528,
     "end_time": "2021-06-22T20:28:33.963476",
     "exception": false,
     "start_time": "2021-06-22T20:11:23.803948",
     "status": "completed"
    },
    "scrolled": true,
    "tags": []
   },
   "outputs": [],
   "source": [
    "RD = ReportDeco(output_path = 'tabularAutoML_model_report')\n",
    "\n",
    "automl_rd = RD(\n",
    "    TabularAutoML_gpu(\n",
    "        task = task, \n",
    "        timeout = TIMEOUT,\n",
    "        cpu_limit = N_THREADS,\n",
    "        reader_params = {'n_jobs': N_THREADS, 'cv': N_FOLDS, 'random_state': RANDOM_STATE}\n",
    "    )\n",
    ")"
   ]
  },
  {
   "cell_type": "code",
   "execution_count": null,
   "id": "badcfa78",
   "metadata": {},
   "outputs": [],
   "source": [
    "%%time\n",
    "oof_pred = automl_rd.fit_predict(tr_data, roles = roles, verbose = 1)"
   ]
  },
  {
   "cell_type": "markdown",
   "id": "5e759906",
   "metadata": {},
   "source": [
    "So the report is available in tabularAutoML_model_report folder"
   ]
  },
  {
   "cell_type": "code",
   "execution_count": null,
   "id": "c68f5010",
   "metadata": {},
   "outputs": [],
   "source": [
    "!ls tabularAutoML_model_report"
   ]
  },
  {
   "cell_type": "code",
   "execution_count": null,
   "id": "ebce5fd7",
   "metadata": {
    "execution": {
     "iopub.execute_input": "2021-06-22T20:34:32.909392Z",
     "iopub.status.busy": "2021-06-22T20:34:32.850821Z",
     "iopub.status.idle": "2021-06-22T20:34:55.170012Z",
     "shell.execute_reply": "2021-06-22T20:34:55.170702Z",
     "shell.execute_reply.started": "2021-06-22T19:36:39.413930Z"
    },
    "papermill": {
     "duration": 22.483603,
     "end_time": "2021-06-22T20:34:55.170931",
     "exception": false,
     "start_time": "2021-06-22T20:34:32.687328",
     "status": "completed"
    },
    "tags": []
   },
   "outputs": [],
   "source": [
    "%%time\n",
    "\n",
    "te_pred = automl_rd.predict(te_data)\n",
    "print(f'Prediction for te_data:\\n{te_pred}\\nShape = {te_pred.shape}')"
   ]
  },
  {
   "cell_type": "code",
   "execution_count": null,
   "id": "22633817",
   "metadata": {
    "execution": {
     "iopub.execute_input": "2021-06-22T20:34:55.470121Z",
     "iopub.status.busy": "2021-06-22T20:34:55.468938Z",
     "iopub.status.idle": "2021-06-22T20:34:55.629520Z",
     "shell.execute_reply": "2021-06-22T20:34:55.630295Z",
     "shell.execute_reply.started": "2021-06-22T19:37:24.055023Z"
    },
    "papermill": {
     "duration": 0.310292,
     "end_time": "2021-06-22T20:34:55.630539",
     "exception": false,
     "start_time": "2021-06-22T20:34:55.320247",
     "status": "completed"
    },
    "tags": []
   },
   "outputs": [],
   "source": [
    "print(f'OOF score: {roc_auc_score(tr_data[TARGET_NAME].values, oof_pred.data[:, 0])}')\n",
    "print(f'HOLDOUT score: {roc_auc_score(te_data[TARGET_NAME].values, te_pred.data[:, 0])}')"
   ]
  },
  {
   "cell_type": "markdown",
   "id": "c5e76c60",
   "metadata": {},
   "source": [
    "## 5. Multi-GPU results\n",
    "\n",
    "Here is an example of how to run Multi-GPU configuration."
   ]
  },
  {
   "cell_type": "code",
   "execution_count": null,
   "id": "3d544ea3",
   "metadata": {},
   "outputs": [],
   "source": [
    "import cudf\n",
    "from dask_cuda import LocalCUDACluster\n",
    "from dask.distributed import Client"
   ]
  },
  {
   "cell_type": "code",
   "execution_count": null,
   "id": "6a619f2d",
   "metadata": {},
   "outputs": [],
   "source": [
    "# set CUDA_VISIBLE_DEVICES to gpu ids which you want to use for training\n",
    "\n",
    "\n",
    "\n",
    "task = Task(task_types['higgs.csv'], device='mgpu')\n",
    "\n",
    "automl = TabularAutoML_gpu(task=task,     \n",
    "    timeout=TIMEOUT,\n",
    "    config_path='./data/pf.yml')\n",
    "\n",
    "%%time \n",
    "oof_pred = automl.fit_predict(tr_data, roles = roles, verbose = 1)"
   ]
  },
  {
   "cell_type": "markdown",
   "id": "7a746c47",
   "metadata": {
    "papermill": {
     "duration": 0.14221,
     "end_time": "2021-06-22T20:35:48.782561",
     "exception": false,
     "start_time": "2021-06-22T20:35:48.640351",
     "status": "completed"
    },
    "tags": []
   },
   "source": [
    "## Additional materials"
   ]
  },
  {
   "cell_type": "markdown",
   "id": "1e9ba27d",
   "metadata": {
    "papermill": {
     "duration": 0.147943,
     "end_time": "2021-06-22T20:35:49.074531",
     "exception": false,
     "start_time": "2021-06-22T20:35:48.926588",
     "status": "completed"
    },
    "tags": []
   },
   "source": [
    "- [Official LightAutoML github repo](https://github.com/sberbank-ai-lab/LightAutoML)\n",
    "- [LightAutoML documentation](https://lightautoml.readthedocs.io/en/latest)"
   ]
  }
 ],
 "metadata": {
  "kernelspec": {
   "display_name": "Python 3 (ipykernel)",
   "language": "python",
   "name": "python3"
  },
  "language_info": {
   "codemirror_mode": {
    "name": "ipython",
    "version": 3
   },
   "file_extension": ".py",
   "mimetype": "text/x-python",
   "name": "python",
   "nbconvert_exporter": "python",
   "pygments_lexer": "ipython3",
   "version": "3.8.12"
  },
  "papermill": {
   "default_parameters": {},
   "duration": 1531.539656,
   "end_time": "2021-06-22T20:35:52.076563",
   "environment_variables": {},
   "exception": null,
   "input_path": "__notebook__.ipynb",
   "output_path": "__notebook__.ipynb",
   "parameters": {},
   "start_time": "2021-06-22T20:10:20.536907",
   "version": "2.3.3"
  }
 },
 "nbformat": 4,
 "nbformat_minor": 5
}
