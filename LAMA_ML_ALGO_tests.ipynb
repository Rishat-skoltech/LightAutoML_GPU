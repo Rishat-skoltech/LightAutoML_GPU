{
 "cells": [
  {
   "cell_type": "code",
   "execution_count": 1,
   "id": "d6ef7338",
   "metadata": {},
   "outputs": [],
   "source": [
    "import os\n",
    "import pickle\n",
    "import time\n",
    "\n",
    "from lightautoml.dataset.np_pd_dataset_cupy import *\n",
    "from lightautoml.dataset.roles import *\n",
    "from lightautoml.dataset.utils import roles_parser\n",
    "\n",
    "from lightautoml.tasks import Task\n",
    "\n",
    "from lightautoml.ml_algo import linear_gpu"
   ]
  },
  {
   "cell_type": "markdown",
   "id": "241617d8",
   "metadata": {},
   "source": [
    "# Initial data loading"
   ]
  },
  {
   "cell_type": "code",
   "execution_count": 2,
   "id": "d6bfbdd0",
   "metadata": {},
   "outputs": [
    {
     "name": "stdout",
     "output_type": "stream",
     "text": [
      "   TARGET NAME_CONTRACT_TYPE  AMT_CREDIT  ...  BIRTH_DATE   EMP_DATE __fold__\n",
      "0       0         Cash loans    327024.0  ...  1967-02-08 2017-05-20        3\n",
      "1       0         Cash loans    675000.0  ...  1962-05-19 2007-07-16        4\n",
      "2       0    Revolving loans    270000.0  ...  1991-11-14 2015-01-21        2\n",
      "3       0         Cash loans    142200.0  ...  1986-09-25 2011-10-13        4\n",
      "4       0         Cash loans   1483231.5  ...  1981-11-08 2013-02-21        4\n",
      "\n",
      "[5 rows x 8 columns]\n"
     ]
    }
   ],
   "source": [
    "data = pd.read_csv('./example_data/test_data_files/sampled_app_train.csv',\n",
    "                       usecols=['TARGET', 'NAME_CONTRACT_TYPE', 'AMT_CREDIT',\n",
    "                                'NAME_TYPE_SUITE', 'AMT_GOODS_PRICE',\n",
    "                                'DAYS_BIRTH', 'DAYS_EMPLOYED'])\n",
    "\n",
    "# Fix dates and convert to date type\n",
    "\n",
    "data['BIRTH_DATE'] = np.datetime64('2018-01-01') + data['DAYS_BIRTH'].astype(np.dtype('timedelta64[D]'))\n",
    "data['EMP_DATE'] = np.datetime64('2018-01-01') + np.clip(data['DAYS_EMPLOYED'], None, 0).astype(np.dtype('timedelta64[D]'))\n",
    "data.drop(['DAYS_BIRTH', 'DAYS_EMPLOYED'], axis=1, inplace=True)\n",
    "\n",
    "# Create folds\n",
    "data['__fold__'] = np.random.randint(0, 5, len(data))\n",
    "\n",
    "# Print data head\n",
    "print(data.head())\n",
    "\n",
    "# # Set roles for columns\n",
    "\n",
    "check_roles = {\n",
    "    TargetRole(): 'TARGET',\n",
    "    CategoryRole(dtype=str): ['NAME_CONTRACT_TYPE', 'NAME_TYPE_SUITE'],\n",
    "    NumericRole(np.float32): ['AMT_CREDIT', 'AMT_GOODS_PRICE'],\n",
    "    DatetimeRole(seasonality=['y', 'm', 'wd']): ['BIRTH_DATE', 'EMP_DATE'],\n",
    "    FoldsRole(): '__fold__'\n",
    "}\n",
    "\n",
    "# create Task\n",
    "task = Task('binary')\n",
    "\n",
    "# # Creating PandasDataSet\n",
    "pd_dataset = PandasDataset(data, roles_parser(check_roles), task=task)\n",
    "\n",
    "cudf_dataset = pd_dataset.to_cudf()"
   ]
  },
  {
   "cell_type": "code",
   "execution_count": null,
   "id": "fbcd80ea",
   "metadata": {},
   "outputs": [],
   "source": []
  }
 ],
 "metadata": {
  "kernelspec": {
   "display_name": "Python 3",
   "language": "python",
   "name": "python3"
  },
  "language_info": {
   "codemirror_mode": {
    "name": "ipython",
    "version": 3
   },
   "file_extension": ".py",
   "mimetype": "text/x-python",
   "name": "python",
   "nbconvert_exporter": "python",
   "pygments_lexer": "ipython3",
   "version": "3.8.10"
  }
 },
 "nbformat": 4,
 "nbformat_minor": 5
}
