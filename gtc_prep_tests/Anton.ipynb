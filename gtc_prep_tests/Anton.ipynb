{
 "cells": [
  {
   "cell_type": "markdown",
   "id": "ca5783f4",
   "metadata": {},
   "source": [
    "# LIBRARY LOADS"
   ]
  },
  {
   "cell_type": "code",
   "execution_count": 1,
   "id": "52d2d1f1",
   "metadata": {},
   "outputs": [
    {
     "data": {
      "text/plain": [
       "'/beegfs/home/r.zagidullin/RAPIDS_VERSIONS/LightAutoML_GPU/lama_venv/bin/python3'"
      ]
     },
     "execution_count": 1,
     "metadata": {},
     "output_type": "execute_result"
    }
   ],
   "source": [
    "import sys\n",
    "sys.executable"
   ]
  },
  {
   "cell_type": "code",
   "execution_count": 2,
   "id": "87f9db35",
   "metadata": {},
   "outputs": [],
   "source": [
    "import pandas as pd\n",
    "from pandas import Series, DataFrame\n",
    "import numpy as np\n",
    "from scipy import sparse\n",
    "\n",
    "from lightautoml.reader.cudf_reader import CudfReader\n",
    "from lightautoml.reader.hybrid_reader import HybridReader\n",
    "from lightautoml.reader.base import PandasToPandasReader\n",
    "from lightautoml.tasks import Task\n",
    "\n",
    "import cudf\n",
    "import dask_cudf\n",
    "\n",
    "from numba import cuda\n",
    "import cupy as cp\n",
    "\n",
    "from lightautoml.transformers.base import SequentialTransformer, UnionTransformer\n",
    "\n",
    "\n",
    "from lightautoml.transformers import numeric_gpu, categorical_gpu, datetime_gpu\n",
    "from lightautoml.transformers import numeric, categorical, datetime\n",
    "\n",
    "from lightautoml.pipelines.utils import get_columns_by_role\n",
    "\n",
    "from dask.distributed import Client\n",
    "from dask_cuda import LocalCUDACluster\n",
    "\n",
    "import os"
   ]
  },
  {
   "cell_type": "code",
   "execution_count": 3,
   "id": "8cfe6c01",
   "metadata": {},
   "outputs": [],
   "source": [
    "from lightautoml.reader.daskcudf_reader import DaskCudfReader"
   ]
  },
  {
   "cell_type": "code",
   "execution_count": 4,
   "id": "0cba49b2",
   "metadata": {},
   "outputs": [
    {
     "name": "stderr",
     "output_type": "stream",
     "text": [
      "distributed.preloading - INFO - Import preload module: dask_cuda.initialize\n",
      "distributed.diskutils - INFO - Found stale lock file and directory '/beegfs/home/r.zagidullin/RAPIDS_VERSIONS/LightAutoML_GPU/jupyter_tests/dask-worker-space/worker-pqcn3kq_', purging\n",
      "distributed.diskutils - INFO - Found stale lock file and directory '/beegfs/home/r.zagidullin/RAPIDS_VERSIONS/LightAutoML_GPU/jupyter_tests/dask-worker-space/worker-0xire7eq', purging\n",
      "distributed.preloading - INFO - Import preload module: dask_cuda.initialize\n"
     ]
    },
    {
     "data": {
      "text/plain": [
       "{'ucx://127.0.0.1:42225': None, 'ucx://127.0.0.1:45935': None}"
      ]
     },
     "execution_count": 4,
     "metadata": {},
     "output_type": "execute_result"
    }
   ],
   "source": [
    "cluster = LocalCUDACluster(rmm_managed_memory=True,\n",
    "                           CUDA_VISIBLE_DEVICES=\"0, 1\",\n",
    "                           protocol=\"ucx\", enable_nvlink=True)\n",
    "\n",
    "client = Client(cluster)\n",
    "client.run(cudf.set_allocator, \"managed\")\n",
    "#client.run(os.getpid)"
   ]
  },
  {
   "cell_type": "markdown",
   "id": "f04a8192",
   "metadata": {},
   "source": [
    "# DATA AND READERS PREPARATION"
   ]
  },
  {
   "cell_type": "code",
   "execution_count": 5,
   "id": "0085db1b",
   "metadata": {},
   "outputs": [],
   "source": [
    "data = pd.read_csv('./application_train.csv')"
   ]
  },
  {
   "cell_type": "code",
   "execution_count": 6,
   "id": "94946dde",
   "metadata": {},
   "outputs": [],
   "source": [
    "data['BIRTH_DATE'] = (np.datetime64('2018-01-01') + data['DAYS_BIRTH'].astype(np.dtype('timedelta64[D]'))).astype(str)\n",
    "data['EMP_DATE'] = (np.datetime64('2018-01-01') + np.clip(data['DAYS_EMPLOYED'], None, 0).astype(np.dtype('timedelta64[D]'))\n",
    "                   ).astype(str)\n",
    "\n",
    "data['constant'] = 1\n",
    "data['allnan'] = np.nan\n",
    "\n",
    "data.drop(['DAYS_BIRTH',  'DAYS_EMPLOYED'], axis = 1, inplace = True)\n"
   ]
  },
  {
   "cell_type": "code",
   "execution_count": 14,
   "id": "eb25e240",
   "metadata": {},
   "outputs": [],
   "source": [
    "task = task = Task('binary')\n",
    "adv_roles = True\n",
    "parts = 2\n",
    "reader = PandasToPandasReader(task, advanced_roles=adv_roles,\n",
    "                              n_jobs=1)\n",
    "gpu_reader = CudfReader(task, advanced_roles=adv_roles, n_jobs=1)\n",
    "dd_reader = DaskCudfReader(task, advanced_roles=adv_roles, \n",
    "                           n_jobs=1, index_ok = True, compute=False, npartitions=parts)\n",
    "\n",
    "hy_reader = HybridReader(task, num_cpu_readers=1,\n",
    "                         num_gpu_readers=2, gpu_ratio=0.7,\n",
    "                         output='mgpu', advanced_roles=adv_roles, index_ok = True,\n",
    "                         compute = False,\n",
    "                         npartitions=parts, n_jobs=1)"
   ]
  },
  {
   "cell_type": "code",
   "execution_count": 8,
   "id": "43a3af63",
   "metadata": {},
   "outputs": [],
   "source": [
    "gpu_data = cudf.DataFrame.from_pandas(data, nan_as_null=False)\n",
    "dd_data = dask_cudf.from_cudf(gpu_data, npartitions=parts)"
   ]
  },
  {
   "cell_type": "markdown",
   "id": "8caea17f",
   "metadata": {},
   "source": [
    "# TIMING READERS"
   ]
  },
  {
   "cell_type": "code",
   "execution_count": 9,
   "id": "5d3c614f",
   "metadata": {},
   "outputs": [
    {
     "name": "stdout",
     "output_type": "stream",
     "text": [
      "CPU times: user 20.8 s, sys: 783 ms, total: 21.6 s\n",
      "Wall time: 22.2 s\n"
     ]
    }
   ],
   "source": [
    "%%time\n",
    "ds = reader.fit_read(data, roles = {'target': 'TARGET'})"
   ]
  },
  {
   "cell_type": "code",
   "execution_count": 15,
   "id": "da0d0ff9",
   "metadata": {},
   "outputs": [
    {
     "name": "stdout",
     "output_type": "stream",
     "text": [
      "CPU times: user 10.4 s, sys: 2.88 s, total: 13.3 s\n",
      "Wall time: 13.2 s\n"
     ]
    }
   ],
   "source": [
    "%%time\n",
    "gpu_ds = gpu_reader.fit_read(gpu_data, roles = {'target': 'TARGET'})"
   ]
  },
  {
   "cell_type": "code",
   "execution_count": 12,
   "id": "0a5bc8a5",
   "metadata": {},
   "outputs": [
    {
     "name": "stdout",
     "output_type": "stream",
     "text": [
      "CPU times: user 18.9 s, sys: 4.5 s, total: 23.4 s\n",
      "Wall time: 37.3 s\n"
     ]
    }
   ],
   "source": [
    "%%time\n",
    "dd_ds = dd_reader.fit_read(dd_data, roles = {'target': 'TARGET'})"
   ]
  },
  {
   "cell_type": "code",
   "execution_count": 16,
   "id": "9b1bc6fc",
   "metadata": {},
   "outputs": [
    {
     "name": "stdout",
     "output_type": "stream",
     "text": [
      "CPU times: user 6 s, sys: 2.05 s, total: 8.06 s\n",
      "Wall time: 15.9 s\n"
     ]
    }
   ],
   "source": [
    "%%time\n",
    "dd_ds = hy_reader.fit_read(data, roles={'target': 'TARGET'})"
   ]
  },
  {
   "cell_type": "markdown",
   "id": "059c15c1",
   "metadata": {},
   "source": [
    "# TIMING LABEL ENCODER"
   ]
  },
  {
   "cell_type": "code",
   "execution_count": 17,
   "id": "914c1d0b",
   "metadata": {},
   "outputs": [
    {
     "name": "stdout",
     "output_type": "stream",
     "text": [
      "(307511, 17) (307511, 17) (307511, 15)\n"
     ]
    }
   ],
   "source": [
    "trf = categorical.LabelEncoder()\n",
    "gpu_trf = categorical_gpu.LabelEncoder_gpu()\n",
    "dd_trf = categorical_gpu.LabelEncoder_gpu()\n",
    "\n",
    "cats = ds[:, get_columns_by_role(ds, 'Category')]\n",
    "gpu_cats = gpu_ds[:, get_columns_by_role(gpu_ds, 'Category')]\n",
    "dd_cats = dd_ds[:, get_columns_by_role(dd_ds, 'Category')]\n",
    "\n",
    "print(cats.shape, gpu_cats.shape, dd_cats.shape)"
   ]
  },
  {
   "cell_type": "code",
   "execution_count": 19,
   "id": "900a7a0a",
   "metadata": {},
   "outputs": [
    {
     "name": "stdout",
     "output_type": "stream",
     "text": [
      "CPU times: user 814 ms, sys: 8.08 ms, total: 822 ms\n",
      "Wall time: 807 ms\n"
     ]
    }
   ],
   "source": [
    "%%time\n",
    "enc = trf.fit_transform(cats)"
   ]
  },
  {
   "cell_type": "code",
   "execution_count": 20,
   "id": "9c05e901",
   "metadata": {},
   "outputs": [
    {
     "name": "stdout",
     "output_type": "stream",
     "text": [
      "CPU times: user 454 ms, sys: 229 ms, total: 684 ms\n",
      "Wall time: 672 ms\n"
     ]
    }
   ],
   "source": [
    "%%time\n",
    "enc = gpu_trf.fit_transform(gpu_cats)"
   ]
  },
  {
   "cell_type": "code",
   "execution_count": 21,
   "id": "45e213b0",
   "metadata": {},
   "outputs": [
    {
     "name": "stdout",
     "output_type": "stream",
     "text": [
      "CPU times: user 378 ms, sys: 36.5 ms, total: 414 ms\n",
      "Wall time: 884 ms\n"
     ]
    }
   ],
   "source": [
    "%%time\n",
    "enc = dd_trf.fit_transform(dd_cats)"
   ]
  },
  {
   "cell_type": "markdown",
   "id": "2238b40f",
   "metadata": {},
   "source": [
    "# TIMING TARGET ENCODER"
   ]
  },
  {
   "cell_type": "code",
   "execution_count": 22,
   "id": "bbbd28e4",
   "metadata": {},
   "outputs": [],
   "source": [
    "trf = SequentialTransformer(\n",
    "    [categorical.LabelEncoder(), categorical.TargetEncoder()]\n",
    ")\n",
    "gpu_trf = SequentialTransformer(\n",
    "    [categorical_gpu.LabelEncoder_gpu(), categorical_gpu.TargetEncoder_gpu()]\n",
    ")\n",
    "dd_trf = SequentialTransformer(\n",
    "    [categorical_gpu.LabelEncoder_gpu(), categorical_gpu.TargetEncoder_gpu()]\n",
    ")\n"
   ]
  },
  {
   "cell_type": "code",
   "execution_count": 23,
   "id": "77c29807",
   "metadata": {},
   "outputs": [
    {
     "name": "stdout",
     "output_type": "stream",
     "text": [
      "CPU times: user 3.44 s, sys: 35.3 ms, total: 3.48 s\n",
      "Wall time: 3.41 s\n"
     ]
    }
   ],
   "source": [
    "%%time\n",
    "enc = trf.fit_transform(cats)"
   ]
  },
  {
   "cell_type": "code",
   "execution_count": 24,
   "id": "6d5cf3d9",
   "metadata": {},
   "outputs": [
    {
     "name": "stdout",
     "output_type": "stream",
     "text": [
      "CPU times: user 692 ms, sys: 452 ms, total: 1.14 s\n",
      "Wall time: 1.14 s\n"
     ]
    }
   ],
   "source": [
    "%%time\n",
    "enc = gpu_trf.fit_transform(gpu_cats)"
   ]
  },
  {
   "cell_type": "code",
   "execution_count": 25,
   "id": "e6965f5f",
   "metadata": {},
   "outputs": [
    {
     "name": "stdout",
     "output_type": "stream",
     "text": [
      "0.00027377810329198837  superfit\n",
      "0.0004821261391043663 preps\n",
      "0.2752639423124492 prior\n",
      "0.01825645612552762 persisting\n",
      "0.17154101701453328 two map partitions with dask add\n",
      "0.0006037228740751743 folds_prior\n",
      "0.001797736156731844 before cycling\n",
      "5.003375689033419 after cycling\n",
      "5.06318174302578e-05 output\n",
      "0.03567400388419628 setting data\n",
      "CPU times: user 4.02 s, sys: 217 ms, total: 4.24 s\n",
      "Wall time: 6.58 s\n"
     ]
    }
   ],
   "source": [
    "%%time\n",
    "enc = dd_trf.fit_transform(dd_cats)"
   ]
  },
  {
   "cell_type": "markdown",
   "id": "73ab7eca",
   "metadata": {},
   "source": [
    "# TIMING OTHER CATEGORICAL TRANSFORMERS"
   ]
  },
  {
   "cell_type": "markdown",
   "id": "5b401b5f",
   "metadata": {},
   "source": [
    "## FreqEncoder"
   ]
  },
  {
   "cell_type": "code",
   "execution_count": 26,
   "id": "2d0a7dcb",
   "metadata": {},
   "outputs": [],
   "source": [
    "trf = categorical.FreqEncoder()\n",
    "gpu_trf = categorical_gpu.FreqEncoder_gpu()\n",
    "dd_trf = categorical_gpu.FreqEncoder_gpu()"
   ]
  },
  {
   "cell_type": "code",
   "execution_count": 27,
   "id": "6e61e55e",
   "metadata": {},
   "outputs": [
    {
     "name": "stdout",
     "output_type": "stream",
     "text": [
      "750 ms ± 3 ms per loop (mean ± std. dev. of 7 runs, 1 loop each)\n"
     ]
    }
   ],
   "source": [
    "%%timeit\n",
    "enc = trf.fit_transform(cats)"
   ]
  },
  {
   "cell_type": "code",
   "execution_count": 30,
   "id": "b11e4ae4",
   "metadata": {},
   "outputs": [
    {
     "name": "stdout",
     "output_type": "stream",
     "text": [
      "595 ms ± 5.59 ms per loop (mean ± std. dev. of 7 runs, 1 loop each)\n"
     ]
    }
   ],
   "source": [
    "%%timeit\n",
    "enc = gpu_trf.fit_transform(gpu_cats)"
   ]
  },
  {
   "cell_type": "code",
   "execution_count": 29,
   "id": "c6a5fec7",
   "metadata": {},
   "outputs": [
    {
     "name": "stdout",
     "output_type": "stream",
     "text": [
      "CPU times: user 366 ms, sys: 20.7 ms, total: 387 ms\n",
      "Wall time: 924 ms\n"
     ]
    }
   ],
   "source": [
    "%%time\n",
    "enc = dd_trf.fit_transform(dd_cats)"
   ]
  },
  {
   "cell_type": "markdown",
   "id": "ec2000b1",
   "metadata": {},
   "source": [
    "## OrdinalEncoder"
   ]
  },
  {
   "cell_type": "code",
   "execution_count": 31,
   "id": "3af3d3a6",
   "metadata": {},
   "outputs": [],
   "source": [
    "trf = categorical.OrdinalEncoder()\n",
    "gpu_trf = categorical_gpu.OrdinalEncoder_gpu()\n",
    "dd_trf = categorical_gpu.OrdinalEncoder_gpu()"
   ]
  },
  {
   "cell_type": "code",
   "execution_count": 33,
   "id": "31c4dbd1",
   "metadata": {},
   "outputs": [
    {
     "name": "stdout",
     "output_type": "stream",
     "text": [
      "CPU times: user 778 ms, sys: 5.76 ms, total: 784 ms\n",
      "Wall time: 771 ms\n"
     ]
    }
   ],
   "source": [
    "%%time\n",
    "enc = trf.fit_transform(cats)"
   ]
  },
  {
   "cell_type": "code",
   "execution_count": 34,
   "id": "5b4c8210",
   "metadata": {},
   "outputs": [
    {
     "name": "stdout",
     "output_type": "stream",
     "text": [
      "CPU times: user 451 ms, sys: 207 ms, total: 658 ms\n",
      "Wall time: 645 ms\n"
     ]
    }
   ],
   "source": [
    "%%time\n",
    "enc = gpu_trf.fit_transform(gpu_cats)"
   ]
  },
  {
   "cell_type": "code",
   "execution_count": 35,
   "id": "eee5ef38",
   "metadata": {},
   "outputs": [
    {
     "name": "stdout",
     "output_type": "stream",
     "text": [
      "CPU times: user 397 ms, sys: 22.2 ms, total: 419 ms\n",
      "Wall time: 902 ms\n"
     ]
    }
   ],
   "source": [
    "%%time\n",
    "enc = dd_trf.fit_transform(dd_cats)"
   ]
  },
  {
   "cell_type": "markdown",
   "id": "4ff3c942",
   "metadata": {},
   "source": [
    "## OHEEncoder"
   ]
  },
  {
   "cell_type": "code",
   "execution_count": 36,
   "id": "4c62139e",
   "metadata": {},
   "outputs": [],
   "source": [
    "trf = SequentialTransformer(\n",
    "    [categorical.LabelEncoder(), categorical.OHEEncoder(make_sparse=True)]\n",
    ")\n",
    "gpu_trf = SequentialTransformer(\n",
    "    [categorical_gpu.LabelEncoder_gpu(), categorical_gpu.OHEEncoder_gpu(make_sparse=False)]\n",
    ")\n",
    "dd_trf = SequentialTransformer(\n",
    "    [categorical_gpu.LabelEncoder_gpu(), categorical_gpu.OHEEncoder_gpu(make_sparse=False)]\n",
    ")"
   ]
  },
  {
   "cell_type": "code",
   "execution_count": 37,
   "id": "1cb6c5c1",
   "metadata": {},
   "outputs": [
    {
     "name": "stdout",
     "output_type": "stream",
     "text": [
      "CPU times: user 1.27 s, sys: 46.5 ms, total: 1.32 s\n",
      "Wall time: 1.29 s\n"
     ]
    }
   ],
   "source": [
    "%%time\n",
    "enc = trf.fit_transform(cats)"
   ]
  },
  {
   "cell_type": "code",
   "execution_count": 38,
   "id": "cf915b12",
   "metadata": {},
   "outputs": [
    {
     "ename": "MemoryError",
     "evalue": "std::bad_alloc: CUDA error at: /beegfs/home/r.zagidullin/RAPIDS_VERSIONS/LightAutoML_GPU/lama_venv/include/rmm/mr/device/cuda_memory_resource.hpp:69: cudaErrorMemoryAllocation out of memory",
     "output_type": "error",
     "traceback": [
      "\u001b[0;31m---------------------------------------------------------------------------\u001b[0m",
      "\u001b[0;31mMemoryError\u001b[0m                               Traceback (most recent call last)",
      "\u001b[0;32m<timed exec>\u001b[0m in \u001b[0;36m<module>\u001b[0;34m\u001b[0m\n",
      "\u001b[0;32m/beegfs/home/r.zagidullin/RAPIDS_VERSIONS/LightAutoML_GPU/lightautoml/transformers/base.py\u001b[0m in \u001b[0;36mfit_transform\u001b[0;34m(self, dataset)\u001b[0m\n\u001b[1;32m    147\u001b[0m         \"\"\"\n\u001b[1;32m    148\u001b[0m         \u001b[0;32mfor\u001b[0m \u001b[0mtrf\u001b[0m \u001b[0;32min\u001b[0m \u001b[0mself\u001b[0m\u001b[0;34m.\u001b[0m\u001b[0mtransformer_list\u001b[0m\u001b[0;34m:\u001b[0m\u001b[0;34m\u001b[0m\u001b[0;34m\u001b[0m\u001b[0m\n\u001b[0;32m--> 149\u001b[0;31m             \u001b[0mdataset\u001b[0m \u001b[0;34m=\u001b[0m \u001b[0mtrf\u001b[0m\u001b[0;34m.\u001b[0m\u001b[0mfit_transform\u001b[0m\u001b[0;34m(\u001b[0m\u001b[0mdataset\u001b[0m\u001b[0;34m)\u001b[0m\u001b[0;34m\u001b[0m\u001b[0;34m\u001b[0m\u001b[0m\n\u001b[0m\u001b[1;32m    150\u001b[0m \u001b[0;34m\u001b[0m\u001b[0m\n\u001b[1;32m    151\u001b[0m         \u001b[0mself\u001b[0m\u001b[0;34m.\u001b[0m\u001b[0mfeatures\u001b[0m \u001b[0;34m=\u001b[0m \u001b[0mself\u001b[0m\u001b[0;34m.\u001b[0m\u001b[0mtransformer_list\u001b[0m\u001b[0;34m[\u001b[0m\u001b[0;34m-\u001b[0m\u001b[0;36m1\u001b[0m\u001b[0;34m]\u001b[0m\u001b[0;34m.\u001b[0m\u001b[0mfeatures\u001b[0m\u001b[0;34m\u001b[0m\u001b[0;34m\u001b[0m\u001b[0m\n",
      "\u001b[0;32m/beegfs/home/r.zagidullin/RAPIDS_VERSIONS/LightAutoML_GPU/lightautoml/transformers/base.py\u001b[0m in \u001b[0;36mfit_transform\u001b[0;34m(self, dataset)\u001b[0m\n\u001b[1;32m     93\u001b[0m             \u001b[0mcheck_func\u001b[0m\u001b[0;34m(\u001b[0m\u001b[0mdataset\u001b[0m\u001b[0;34m)\u001b[0m\u001b[0;34m\u001b[0m\u001b[0;34m\u001b[0m\u001b[0m\n\u001b[1;32m     94\u001b[0m \u001b[0;34m\u001b[0m\u001b[0m\n\u001b[0;32m---> 95\u001b[0;31m         \u001b[0;32mreturn\u001b[0m \u001b[0mself\u001b[0m\u001b[0;34m.\u001b[0m\u001b[0mtransform\u001b[0m\u001b[0;34m(\u001b[0m\u001b[0mdataset\u001b[0m\u001b[0;34m)\u001b[0m\u001b[0;34m\u001b[0m\u001b[0;34m\u001b[0m\u001b[0m\n\u001b[0m\u001b[1;32m     96\u001b[0m \u001b[0;34m\u001b[0m\u001b[0m\n\u001b[1;32m     97\u001b[0m \u001b[0;34m\u001b[0m\u001b[0m\n",
      "\u001b[0;32m/beegfs/home/r.zagidullin/RAPIDS_VERSIONS/LightAutoML_GPU/lightautoml/transformers/categorical_gpu.py\u001b[0m in \u001b[0;36mtransform\u001b[0;34m(self, dataset)\u001b[0m\n\u001b[1;32m    446\u001b[0m             \u001b[0;32mreturn\u001b[0m \u001b[0mself\u001b[0m\u001b[0;34m.\u001b[0m\u001b[0mtransform_daskcudf\u001b[0m\u001b[0;34m(\u001b[0m\u001b[0mdataset\u001b[0m\u001b[0;34m)\u001b[0m\u001b[0;34m\u001b[0m\u001b[0;34m\u001b[0m\u001b[0m\n\u001b[1;32m    447\u001b[0m         \u001b[0;32melse\u001b[0m\u001b[0;34m:\u001b[0m\u001b[0;34m\u001b[0m\u001b[0;34m\u001b[0m\u001b[0m\n\u001b[0;32m--> 448\u001b[0;31m             \u001b[0;32mreturn\u001b[0m \u001b[0mself\u001b[0m\u001b[0;34m.\u001b[0m\u001b[0mtransform_cupy\u001b[0m\u001b[0;34m(\u001b[0m\u001b[0mdataset\u001b[0m\u001b[0;34m)\u001b[0m\u001b[0;34m\u001b[0m\u001b[0;34m\u001b[0m\u001b[0m\n\u001b[0m\u001b[1;32m    449\u001b[0m \u001b[0;34m\u001b[0m\u001b[0m\n\u001b[1;32m    450\u001b[0m \u001b[0;34m\u001b[0m\u001b[0m\n",
      "\u001b[0;32m/beegfs/home/r.zagidullin/RAPIDS_VERSIONS/LightAutoML_GPU/lightautoml/transformers/categorical_gpu.py\u001b[0m in \u001b[0;36mtransform_cupy\u001b[0;34m(self, dataset)\u001b[0m\n\u001b[1;32m    371\u001b[0m \u001b[0;34m\u001b[0m\u001b[0m\n\u001b[1;32m    372\u001b[0m         \u001b[0;31m# transform\u001b[0m\u001b[0;34m\u001b[0m\u001b[0;34m\u001b[0m\u001b[0;34m\u001b[0m\u001b[0m\n\u001b[0;32m--> 373\u001b[0;31m         \u001b[0mdata\u001b[0m \u001b[0;34m=\u001b[0m \u001b[0mself\u001b[0m\u001b[0;34m.\u001b[0m\u001b[0mohe\u001b[0m\u001b[0;34m.\u001b[0m\u001b[0mtransform\u001b[0m\u001b[0;34m(\u001b[0m\u001b[0mdata\u001b[0m\u001b[0;34m)\u001b[0m\u001b[0;34m\u001b[0m\u001b[0;34m\u001b[0m\u001b[0m\n\u001b[0m\u001b[1;32m    374\u001b[0m \u001b[0;34m\u001b[0m\u001b[0m\n\u001b[1;32m    375\u001b[0m         \u001b[0;31m# create resulted\u001b[0m\u001b[0;34m\u001b[0m\u001b[0;34m\u001b[0m\u001b[0;34m\u001b[0m\u001b[0m\n",
      "\u001b[0;32m/beegfs/home/r.zagidullin/RAPIDS_VERSIONS/LightAutoML_GPU/lama_venv/lib/python3.8/site-packages/cuml/internals/api_decorators.py\u001b[0m in \u001b[0;36minner\u001b[0;34m(*args, **kwargs)\u001b[0m\n\u001b[1;32m    358\u001b[0m         \u001b[0;32mdef\u001b[0m \u001b[0minner\u001b[0m\u001b[0;34m(\u001b[0m\u001b[0;34m*\u001b[0m\u001b[0margs\u001b[0m\u001b[0;34m,\u001b[0m \u001b[0;34m**\u001b[0m\u001b[0mkwargs\u001b[0m\u001b[0;34m)\u001b[0m\u001b[0;34m:\u001b[0m\u001b[0;34m\u001b[0m\u001b[0;34m\u001b[0m\u001b[0m\n\u001b[1;32m    359\u001b[0m             \u001b[0;32mwith\u001b[0m \u001b[0mself\u001b[0m\u001b[0;34m.\u001b[0m\u001b[0m_recreate_cm\u001b[0m\u001b[0;34m(\u001b[0m\u001b[0mfunc\u001b[0m\u001b[0;34m,\u001b[0m \u001b[0margs\u001b[0m\u001b[0;34m)\u001b[0m\u001b[0;34m:\u001b[0m\u001b[0;34m\u001b[0m\u001b[0;34m\u001b[0m\u001b[0m\n\u001b[0;32m--> 360\u001b[0;31m                 \u001b[0;32mreturn\u001b[0m \u001b[0mfunc\u001b[0m\u001b[0;34m(\u001b[0m\u001b[0;34m*\u001b[0m\u001b[0margs\u001b[0m\u001b[0;34m,\u001b[0m \u001b[0;34m**\u001b[0m\u001b[0mkwargs\u001b[0m\u001b[0;34m)\u001b[0m\u001b[0;34m\u001b[0m\u001b[0;34m\u001b[0m\u001b[0m\n\u001b[0m\u001b[1;32m    361\u001b[0m \u001b[0;34m\u001b[0m\u001b[0m\n\u001b[1;32m    362\u001b[0m         \u001b[0;32mreturn\u001b[0m \u001b[0minner\u001b[0m\u001b[0;34m\u001b[0m\u001b[0;34m\u001b[0m\u001b[0m\n",
      "\u001b[0;32m/beegfs/home/r.zagidullin/RAPIDS_VERSIONS/LightAutoML_GPU/lama_venv/lib/python3.8/site-packages/cuml/preprocessing/encoders.py\u001b[0m in \u001b[0;36mtransform\u001b[0;34m(self, X)\u001b[0m\n\u001b[1;32m    369\u001b[0m \u001b[0;34m\u001b[0m\u001b[0m\n\u001b[1;32m    370\u001b[0m             \u001b[0;32mif\u001b[0m \u001b[0;32mnot\u001b[0m \u001b[0mself\u001b[0m\u001b[0;34m.\u001b[0m\u001b[0msparse\u001b[0m\u001b[0;34m:\u001b[0m\u001b[0;34m\u001b[0m\u001b[0;34m\u001b[0m\u001b[0m\n\u001b[0;32m--> 371\u001b[0;31m                 \u001b[0mohe\u001b[0m \u001b[0;34m=\u001b[0m \u001b[0mohe\u001b[0m\u001b[0;34m.\u001b[0m\u001b[0mtoarray\u001b[0m\u001b[0;34m(\u001b[0m\u001b[0;34m)\u001b[0m\u001b[0;34m\u001b[0m\u001b[0;34m\u001b[0m\u001b[0m\n\u001b[0m\u001b[1;32m    372\u001b[0m \u001b[0;34m\u001b[0m\u001b[0m\n\u001b[1;32m    373\u001b[0m             \u001b[0;32mreturn\u001b[0m \u001b[0mohe\u001b[0m\u001b[0;34m\u001b[0m\u001b[0;34m\u001b[0m\u001b[0m\n",
      "\u001b[0;32m/beegfs/home/r.zagidullin/RAPIDS_VERSIONS/LightAutoML_GPU/lama_venv/lib/python3.8/site-packages/cupyx/scipy/sparse/coo.py\u001b[0m in \u001b[0;36mtoarray\u001b[0;34m(self, order, out)\u001b[0m\n\u001b[1;32m    412\u001b[0m \u001b[0;34m\u001b[0m\u001b[0m\n\u001b[1;32m    413\u001b[0m         \"\"\"\n\u001b[0;32m--> 414\u001b[0;31m         \u001b[0;32mreturn\u001b[0m \u001b[0mself\u001b[0m\u001b[0;34m.\u001b[0m\u001b[0mtocsr\u001b[0m\u001b[0;34m(\u001b[0m\u001b[0;34m)\u001b[0m\u001b[0;34m.\u001b[0m\u001b[0mtoarray\u001b[0m\u001b[0;34m(\u001b[0m\u001b[0morder\u001b[0m\u001b[0;34m=\u001b[0m\u001b[0morder\u001b[0m\u001b[0;34m,\u001b[0m \u001b[0mout\u001b[0m\u001b[0;34m=\u001b[0m\u001b[0mout\u001b[0m\u001b[0;34m)\u001b[0m\u001b[0;34m\u001b[0m\u001b[0;34m\u001b[0m\u001b[0m\n\u001b[0m\u001b[1;32m    415\u001b[0m \u001b[0;34m\u001b[0m\u001b[0m\n\u001b[1;32m    416\u001b[0m     \u001b[0;32mdef\u001b[0m \u001b[0mtocoo\u001b[0m\u001b[0;34m(\u001b[0m\u001b[0mself\u001b[0m\u001b[0;34m,\u001b[0m \u001b[0mcopy\u001b[0m\u001b[0;34m=\u001b[0m\u001b[0;32mFalse\u001b[0m\u001b[0;34m)\u001b[0m\u001b[0;34m:\u001b[0m\u001b[0;34m\u001b[0m\u001b[0;34m\u001b[0m\u001b[0m\n",
      "\u001b[0;32m/beegfs/home/r.zagidullin/RAPIDS_VERSIONS/LightAutoML_GPU/lama_venv/lib/python3.8/site-packages/cupyx/scipy/sparse/csr.py\u001b[0m in \u001b[0;36mtoarray\u001b[0;34m(self, order, out)\u001b[0m\n\u001b[1;32m    408\u001b[0m             \u001b[0;32mif\u001b[0m \u001b[0morder\u001b[0m \u001b[0;34m==\u001b[0m \u001b[0;34m'C'\u001b[0m\u001b[0;34m:\u001b[0m\u001b[0;34m\u001b[0m\u001b[0;34m\u001b[0m\u001b[0m\n\u001b[1;32m    409\u001b[0m                 \u001b[0;31m# To return C-contiguous array, it uses transpose.\u001b[0m\u001b[0;34m\u001b[0m\u001b[0;34m\u001b[0m\u001b[0;34m\u001b[0m\u001b[0m\n\u001b[0;32m--> 410\u001b[0;31m                 \u001b[0;32mreturn\u001b[0m \u001b[0mcusparse\u001b[0m\u001b[0;34m.\u001b[0m\u001b[0mcsc2dense\u001b[0m\u001b[0;34m(\u001b[0m\u001b[0mx\u001b[0m\u001b[0;34m.\u001b[0m\u001b[0mT\u001b[0m\u001b[0;34m)\u001b[0m\u001b[0;34m.\u001b[0m\u001b[0mT\u001b[0m\u001b[0;34m\u001b[0m\u001b[0;34m\u001b[0m\u001b[0m\n\u001b[0m\u001b[1;32m    411\u001b[0m             \u001b[0;32melif\u001b[0m \u001b[0morder\u001b[0m \u001b[0;34m==\u001b[0m \u001b[0;34m'F'\u001b[0m\u001b[0;34m:\u001b[0m\u001b[0;34m\u001b[0m\u001b[0;34m\u001b[0m\u001b[0m\n\u001b[1;32m    412\u001b[0m                 \u001b[0;32mreturn\u001b[0m \u001b[0mcusparse\u001b[0m\u001b[0;34m.\u001b[0m\u001b[0mcsr2dense\u001b[0m\u001b[0;34m(\u001b[0m\u001b[0mx\u001b[0m\u001b[0;34m)\u001b[0m\u001b[0;34m\u001b[0m\u001b[0;34m\u001b[0m\u001b[0m\n",
      "\u001b[0;32m/beegfs/home/r.zagidullin/RAPIDS_VERSIONS/LightAutoML_GPU/lama_venv/lib/python3.8/site-packages/cupy/cusparse.py\u001b[0m in \u001b[0;36mcsc2dense\u001b[0;34m(x, out)\u001b[0m\n\u001b[1;32m    755\u001b[0m     \u001b[0;32massert\u001b[0m \u001b[0mdtype\u001b[0m\u001b[0;34m.\u001b[0m\u001b[0mchar\u001b[0m \u001b[0;32min\u001b[0m \u001b[0;34m'fdFD'\u001b[0m\u001b[0;34m\u001b[0m\u001b[0;34m\u001b[0m\u001b[0m\n\u001b[1;32m    756\u001b[0m     \u001b[0;32mif\u001b[0m \u001b[0mout\u001b[0m \u001b[0;32mis\u001b[0m \u001b[0;32mNone\u001b[0m\u001b[0;34m:\u001b[0m\u001b[0;34m\u001b[0m\u001b[0;34m\u001b[0m\u001b[0m\n\u001b[0;32m--> 757\u001b[0;31m         \u001b[0mout\u001b[0m \u001b[0;34m=\u001b[0m \u001b[0m_cupy\u001b[0m\u001b[0;34m.\u001b[0m\u001b[0mempty\u001b[0m\u001b[0;34m(\u001b[0m\u001b[0mx\u001b[0m\u001b[0;34m.\u001b[0m\u001b[0mshape\u001b[0m\u001b[0;34m,\u001b[0m \u001b[0mdtype\u001b[0m\u001b[0;34m=\u001b[0m\u001b[0mdtype\u001b[0m\u001b[0;34m,\u001b[0m \u001b[0morder\u001b[0m\u001b[0;34m=\u001b[0m\u001b[0;34m'F'\u001b[0m\u001b[0;34m)\u001b[0m\u001b[0;34m\u001b[0m\u001b[0;34m\u001b[0m\u001b[0m\n\u001b[0m\u001b[1;32m    758\u001b[0m     \u001b[0;32melse\u001b[0m\u001b[0;34m:\u001b[0m\u001b[0;34m\u001b[0m\u001b[0;34m\u001b[0m\u001b[0m\n\u001b[1;32m    759\u001b[0m         \u001b[0;32massert\u001b[0m \u001b[0mout\u001b[0m\u001b[0;34m.\u001b[0m\u001b[0mflags\u001b[0m\u001b[0;34m.\u001b[0m\u001b[0mf_contiguous\u001b[0m\u001b[0;34m\u001b[0m\u001b[0;34m\u001b[0m\u001b[0m\n",
      "\u001b[0;32m/beegfs/home/r.zagidullin/RAPIDS_VERSIONS/LightAutoML_GPU/lama_venv/lib/python3.8/site-packages/cupy/_creation/basic.py\u001b[0m in \u001b[0;36mempty\u001b[0;34m(shape, dtype, order)\u001b[0m\n\u001b[1;32m     20\u001b[0m \u001b[0;34m\u001b[0m\u001b[0m\n\u001b[1;32m     21\u001b[0m     \"\"\"\n\u001b[0;32m---> 22\u001b[0;31m     \u001b[0;32mreturn\u001b[0m \u001b[0mcupy\u001b[0m\u001b[0;34m.\u001b[0m\u001b[0mndarray\u001b[0m\u001b[0;34m(\u001b[0m\u001b[0mshape\u001b[0m\u001b[0;34m,\u001b[0m \u001b[0mdtype\u001b[0m\u001b[0;34m,\u001b[0m \u001b[0morder\u001b[0m\u001b[0;34m=\u001b[0m\u001b[0morder\u001b[0m\u001b[0;34m)\u001b[0m\u001b[0;34m\u001b[0m\u001b[0;34m\u001b[0m\u001b[0m\n\u001b[0m\u001b[1;32m     23\u001b[0m \u001b[0;34m\u001b[0m\u001b[0m\n\u001b[1;32m     24\u001b[0m \u001b[0;34m\u001b[0m\u001b[0m\n",
      "\u001b[0;32mcupy/_core/core.pyx\u001b[0m in \u001b[0;36mcupy._core.core.ndarray.__init__\u001b[0;34m()\u001b[0m\n",
      "\u001b[0;32mcupy/cuda/memory.pyx\u001b[0m in \u001b[0;36mcupy.cuda.memory.alloc\u001b[0;34m()\u001b[0m\n",
      "\u001b[0;32m/beegfs/home/r.zagidullin/RAPIDS_VERSIONS/LightAutoML_GPU/lama_venv/lib/python3.8/site-packages/rmm/rmm.py\u001b[0m in \u001b[0;36mrmm_cupy_allocator\u001b[0;34m(nbytes)\u001b[0m\n\u001b[1;32m    210\u001b[0m \u001b[0;34m\u001b[0m\u001b[0m\n\u001b[1;32m    211\u001b[0m     \u001b[0mstream\u001b[0m \u001b[0;34m=\u001b[0m \u001b[0mStream\u001b[0m\u001b[0;34m(\u001b[0m\u001b[0mobj\u001b[0m\u001b[0;34m=\u001b[0m\u001b[0mcupy\u001b[0m\u001b[0;34m.\u001b[0m\u001b[0mcuda\u001b[0m\u001b[0;34m.\u001b[0m\u001b[0mget_current_stream\u001b[0m\u001b[0;34m(\u001b[0m\u001b[0;34m)\u001b[0m\u001b[0;34m)\u001b[0m\u001b[0;34m\u001b[0m\u001b[0;34m\u001b[0m\u001b[0m\n\u001b[0;32m--> 212\u001b[0;31m     \u001b[0mbuf\u001b[0m \u001b[0;34m=\u001b[0m \u001b[0mlibrmm\u001b[0m\u001b[0;34m.\u001b[0m\u001b[0mdevice_buffer\u001b[0m\u001b[0;34m.\u001b[0m\u001b[0mDeviceBuffer\u001b[0m\u001b[0;34m(\u001b[0m\u001b[0msize\u001b[0m\u001b[0;34m=\u001b[0m\u001b[0mnbytes\u001b[0m\u001b[0;34m,\u001b[0m \u001b[0mstream\u001b[0m\u001b[0;34m=\u001b[0m\u001b[0mstream\u001b[0m\u001b[0;34m)\u001b[0m\u001b[0;34m\u001b[0m\u001b[0;34m\u001b[0m\u001b[0m\n\u001b[0m\u001b[1;32m    213\u001b[0m     \u001b[0mdev_id\u001b[0m \u001b[0;34m=\u001b[0m \u001b[0;34m-\u001b[0m\u001b[0;36m1\u001b[0m \u001b[0;32mif\u001b[0m \u001b[0mbuf\u001b[0m\u001b[0;34m.\u001b[0m\u001b[0mptr\u001b[0m \u001b[0;32melse\u001b[0m \u001b[0mcupy\u001b[0m\u001b[0;34m.\u001b[0m\u001b[0mcuda\u001b[0m\u001b[0;34m.\u001b[0m\u001b[0mdevice\u001b[0m\u001b[0;34m.\u001b[0m\u001b[0mget_device_id\u001b[0m\u001b[0;34m(\u001b[0m\u001b[0;34m)\u001b[0m\u001b[0;34m\u001b[0m\u001b[0;34m\u001b[0m\u001b[0m\n\u001b[1;32m    214\u001b[0m     mem = cupy.cuda.UnownedMemory(\n",
      "\u001b[0;32mrmm/_lib/device_buffer.pyx\u001b[0m in \u001b[0;36mrmm._lib.device_buffer.DeviceBuffer.__cinit__\u001b[0;34m()\u001b[0m\n",
      "\u001b[0;31mMemoryError\u001b[0m: std::bad_alloc: CUDA error at: /beegfs/home/r.zagidullin/RAPIDS_VERSIONS/LightAutoML_GPU/lama_venv/include/rmm/mr/device/cuda_memory_resource.hpp:69: cudaErrorMemoryAllocation out of memory"
     ]
    }
   ],
   "source": [
    "%%time\n",
    "enc = gpu_trf.fit_transform(gpu_cats)"
   ]
  },
  {
   "cell_type": "code",
   "execution_count": 39,
   "id": "1799a40e",
   "metadata": {},
   "outputs": [
    {
     "ename": "NotImplementedError",
     "evalue": "Series getitem is only supported for other series objects with matching partition structure",
     "output_type": "error",
     "traceback": [
      "\u001b[0;31m---------------------------------------------------------------------------\u001b[0m",
      "\u001b[0;31mTypeError\u001b[0m                                 Traceback (most recent call last)",
      "\u001b[0;32m/beegfs/home/r.zagidullin/RAPIDS_VERSIONS/LightAutoML_GPU/lama_venv/lib/python3.8/site-packages/cudf/core/column/column.py\u001b[0m in \u001b[0;36mas_column\u001b[0;34m(arbitrary, nan_as_null, dtype, length)\u001b[0m\n\u001b[1;32m   2038\u001b[0m             data = as_column(\n\u001b[0;32m-> 2039\u001b[0;31m                 \u001b[0mmemoryview\u001b[0m\u001b[0;34m(\u001b[0m\u001b[0marbitrary\u001b[0m\u001b[0;34m)\u001b[0m\u001b[0;34m,\u001b[0m \u001b[0mdtype\u001b[0m\u001b[0;34m=\u001b[0m\u001b[0mdtype\u001b[0m\u001b[0;34m,\u001b[0m \u001b[0mnan_as_null\u001b[0m\u001b[0;34m=\u001b[0m\u001b[0mnan_as_null\u001b[0m\u001b[0;34m\u001b[0m\u001b[0;34m\u001b[0m\u001b[0m\n\u001b[0m\u001b[1;32m   2040\u001b[0m             )\n",
      "\u001b[0;31mTypeError\u001b[0m: memoryview: a bytes-like object is required, not 'Index'",
      "\nDuring handling of the above exception, another exception occurred:\n",
      "\u001b[0;31mNotImplementedError\u001b[0m                       Traceback (most recent call last)",
      "\u001b[0;32m<timed exec>\u001b[0m in \u001b[0;36m<module>\u001b[0;34m\u001b[0m\n",
      "\u001b[0;32m/beegfs/home/r.zagidullin/RAPIDS_VERSIONS/LightAutoML_GPU/lightautoml/transformers/base.py\u001b[0m in \u001b[0;36mfit_transform\u001b[0;34m(self, dataset)\u001b[0m\n\u001b[1;32m    147\u001b[0m         \"\"\"\n\u001b[1;32m    148\u001b[0m         \u001b[0;32mfor\u001b[0m \u001b[0mtrf\u001b[0m \u001b[0;32min\u001b[0m \u001b[0mself\u001b[0m\u001b[0;34m.\u001b[0m\u001b[0mtransformer_list\u001b[0m\u001b[0;34m:\u001b[0m\u001b[0;34m\u001b[0m\u001b[0;34m\u001b[0m\u001b[0m\n\u001b[0;32m--> 149\u001b[0;31m             \u001b[0mdataset\u001b[0m \u001b[0;34m=\u001b[0m \u001b[0mtrf\u001b[0m\u001b[0;34m.\u001b[0m\u001b[0mfit_transform\u001b[0m\u001b[0;34m(\u001b[0m\u001b[0mdataset\u001b[0m\u001b[0;34m)\u001b[0m\u001b[0;34m\u001b[0m\u001b[0;34m\u001b[0m\u001b[0m\n\u001b[0m\u001b[1;32m    150\u001b[0m \u001b[0;34m\u001b[0m\u001b[0m\n\u001b[1;32m    151\u001b[0m         \u001b[0mself\u001b[0m\u001b[0;34m.\u001b[0m\u001b[0mfeatures\u001b[0m \u001b[0;34m=\u001b[0m \u001b[0mself\u001b[0m\u001b[0;34m.\u001b[0m\u001b[0mtransformer_list\u001b[0m\u001b[0;34m[\u001b[0m\u001b[0;34m-\u001b[0m\u001b[0;36m1\u001b[0m\u001b[0;34m]\u001b[0m\u001b[0;34m.\u001b[0m\u001b[0mfeatures\u001b[0m\u001b[0;34m\u001b[0m\u001b[0;34m\u001b[0m\u001b[0m\n",
      "\u001b[0;32m/beegfs/home/r.zagidullin/RAPIDS_VERSIONS/LightAutoML_GPU/lightautoml/transformers/base.py\u001b[0m in \u001b[0;36mfit_transform\u001b[0;34m(self, dataset)\u001b[0m\n\u001b[1;32m     93\u001b[0m             \u001b[0mcheck_func\u001b[0m\u001b[0;34m(\u001b[0m\u001b[0mdataset\u001b[0m\u001b[0;34m)\u001b[0m\u001b[0;34m\u001b[0m\u001b[0;34m\u001b[0m\u001b[0m\n\u001b[1;32m     94\u001b[0m \u001b[0;34m\u001b[0m\u001b[0m\n\u001b[0;32m---> 95\u001b[0;31m         \u001b[0;32mreturn\u001b[0m \u001b[0mself\u001b[0m\u001b[0;34m.\u001b[0m\u001b[0mtransform\u001b[0m\u001b[0;34m(\u001b[0m\u001b[0mdataset\u001b[0m\u001b[0;34m)\u001b[0m\u001b[0;34m\u001b[0m\u001b[0;34m\u001b[0m\u001b[0m\n\u001b[0m\u001b[1;32m     96\u001b[0m \u001b[0;34m\u001b[0m\u001b[0m\n\u001b[1;32m     97\u001b[0m \u001b[0;34m\u001b[0m\u001b[0m\n",
      "\u001b[0;32m/beegfs/home/r.zagidullin/RAPIDS_VERSIONS/LightAutoML_GPU/lightautoml/transformers/categorical_gpu.py\u001b[0m in \u001b[0;36mtransform\u001b[0;34m(self, dataset)\u001b[0m\n\u001b[1;32m    444\u001b[0m \u001b[0;34m\u001b[0m\u001b[0m\n\u001b[1;32m    445\u001b[0m         \u001b[0;32mif\u001b[0m \u001b[0misinstance\u001b[0m\u001b[0;34m(\u001b[0m\u001b[0mdataset\u001b[0m\u001b[0;34m,\u001b[0m \u001b[0mDaskCudfDataset\u001b[0m\u001b[0;34m)\u001b[0m\u001b[0;34m:\u001b[0m\u001b[0;34m\u001b[0m\u001b[0;34m\u001b[0m\u001b[0m\n\u001b[0;32m--> 446\u001b[0;31m             \u001b[0;32mreturn\u001b[0m \u001b[0mself\u001b[0m\u001b[0;34m.\u001b[0m\u001b[0mtransform_daskcudf\u001b[0m\u001b[0;34m(\u001b[0m\u001b[0mdataset\u001b[0m\u001b[0;34m)\u001b[0m\u001b[0;34m\u001b[0m\u001b[0;34m\u001b[0m\u001b[0m\n\u001b[0m\u001b[1;32m    447\u001b[0m         \u001b[0;32melse\u001b[0m\u001b[0;34m:\u001b[0m\u001b[0;34m\u001b[0m\u001b[0;34m\u001b[0m\u001b[0m\n\u001b[1;32m    448\u001b[0m             \u001b[0;32mreturn\u001b[0m \u001b[0mself\u001b[0m\u001b[0;34m.\u001b[0m\u001b[0mtransform_cupy\u001b[0m\u001b[0;34m(\u001b[0m\u001b[0mdataset\u001b[0m\u001b[0;34m)\u001b[0m\u001b[0;34m\u001b[0m\u001b[0;34m\u001b[0m\u001b[0m\n",
      "\u001b[0;32m/beegfs/home/r.zagidullin/RAPIDS_VERSIONS/LightAutoML_GPU/lightautoml/transformers/categorical_gpu.py\u001b[0m in \u001b[0;36mtransform_daskcudf\u001b[0;34m(self, dataset)\u001b[0m\n\u001b[1;32m    402\u001b[0m \u001b[0;34m\u001b[0m\u001b[0m\n\u001b[1;32m    403\u001b[0m         \"\"\"\n\u001b[0;32m--> 404\u001b[0;31m         \u001b[0mnew_data\u001b[0m \u001b[0;34m=\u001b[0m \u001b[0mdataset\u001b[0m\u001b[0;34m.\u001b[0m\u001b[0mdata\u001b[0m\u001b[0;34m.\u001b[0m\u001b[0mmap_partitions\u001b[0m\u001b[0;34m(\u001b[0m\u001b[0mself\u001b[0m\u001b[0;34m.\u001b[0m\u001b[0mcall_ohe\u001b[0m\u001b[0;34m,\u001b[0m \u001b[0mmeta\u001b[0m\u001b[0;34m=\u001b[0m\u001b[0mcudf\u001b[0m\u001b[0;34m.\u001b[0m\u001b[0mDataFrame\u001b[0m\u001b[0;34m(\u001b[0m\u001b[0mcolumns\u001b[0m\u001b[0;34m=\u001b[0m\u001b[0mself\u001b[0m\u001b[0;34m.\u001b[0m\u001b[0mfeatures\u001b[0m\u001b[0;34m,\u001b[0m \u001b[0mindex\u001b[0m\u001b[0;34m=\u001b[0m\u001b[0mdataset\u001b[0m\u001b[0;34m.\u001b[0m\u001b[0mdata\u001b[0m\u001b[0;34m.\u001b[0m\u001b[0mindex\u001b[0m\u001b[0;34m)\u001b[0m \u001b[0;34m)\u001b[0m\u001b[0;34m\u001b[0m\u001b[0;34m\u001b[0m\u001b[0m\n\u001b[0m\u001b[1;32m    405\u001b[0m \u001b[0;34m\u001b[0m\u001b[0m\n\u001b[1;32m    406\u001b[0m         \u001b[0moutput\u001b[0m \u001b[0;34m=\u001b[0m \u001b[0mdataset\u001b[0m\u001b[0;34m.\u001b[0m\u001b[0mempty\u001b[0m\u001b[0;34m(\u001b[0m\u001b[0;34m)\u001b[0m\u001b[0;34m\u001b[0m\u001b[0;34m\u001b[0m\u001b[0m\n",
      "\u001b[0;32m~/miniconda3/lib/python3.8/contextlib.py\u001b[0m in \u001b[0;36minner\u001b[0;34m(*args, **kwds)\u001b[0m\n\u001b[1;32m     73\u001b[0m         \u001b[0;32mdef\u001b[0m \u001b[0minner\u001b[0m\u001b[0;34m(\u001b[0m\u001b[0;34m*\u001b[0m\u001b[0margs\u001b[0m\u001b[0;34m,\u001b[0m \u001b[0;34m**\u001b[0m\u001b[0mkwds\u001b[0m\u001b[0;34m)\u001b[0m\u001b[0;34m:\u001b[0m\u001b[0;34m\u001b[0m\u001b[0;34m\u001b[0m\u001b[0m\n\u001b[1;32m     74\u001b[0m             \u001b[0;32mwith\u001b[0m \u001b[0mself\u001b[0m\u001b[0;34m.\u001b[0m\u001b[0m_recreate_cm\u001b[0m\u001b[0;34m(\u001b[0m\u001b[0;34m)\u001b[0m\u001b[0;34m:\u001b[0m\u001b[0;34m\u001b[0m\u001b[0;34m\u001b[0m\u001b[0m\n\u001b[0;32m---> 75\u001b[0;31m                 \u001b[0;32mreturn\u001b[0m \u001b[0mfunc\u001b[0m\u001b[0;34m(\u001b[0m\u001b[0;34m*\u001b[0m\u001b[0margs\u001b[0m\u001b[0;34m,\u001b[0m \u001b[0;34m**\u001b[0m\u001b[0mkwds\u001b[0m\u001b[0;34m)\u001b[0m\u001b[0;34m\u001b[0m\u001b[0;34m\u001b[0m\u001b[0m\n\u001b[0m\u001b[1;32m     76\u001b[0m         \u001b[0;32mreturn\u001b[0m \u001b[0minner\u001b[0m\u001b[0;34m\u001b[0m\u001b[0;34m\u001b[0m\u001b[0m\n\u001b[1;32m     77\u001b[0m \u001b[0;34m\u001b[0m\u001b[0m\n",
      "\u001b[0;32m/beegfs/home/r.zagidullin/RAPIDS_VERSIONS/LightAutoML_GPU/lama_venv/lib/python3.8/site-packages/cudf/core/dataframe.py\u001b[0m in \u001b[0;36m__init__\u001b[0;34m(self, data, index, columns, dtype)\u001b[0m\n\u001b[1;32m    204\u001b[0m                 \u001b[0mself\u001b[0m\u001b[0;34m.\u001b[0m\u001b[0m_index\u001b[0m \u001b[0;34m=\u001b[0m \u001b[0mRangeIndex\u001b[0m\u001b[0;34m(\u001b[0m\u001b[0;36m0\u001b[0m\u001b[0;34m)\u001b[0m\u001b[0;34m\u001b[0m\u001b[0;34m\u001b[0m\u001b[0m\n\u001b[1;32m    205\u001b[0m             \u001b[0;32melse\u001b[0m\u001b[0;34m:\u001b[0m\u001b[0;34m\u001b[0m\u001b[0;34m\u001b[0m\u001b[0m\n\u001b[0;32m--> 206\u001b[0;31m                 \u001b[0mself\u001b[0m\u001b[0;34m.\u001b[0m\u001b[0m_index\u001b[0m \u001b[0;34m=\u001b[0m \u001b[0mas_index\u001b[0m\u001b[0;34m(\u001b[0m\u001b[0mindex\u001b[0m\u001b[0;34m)\u001b[0m\u001b[0;34m\u001b[0m\u001b[0;34m\u001b[0m\u001b[0m\n\u001b[0m\u001b[1;32m    207\u001b[0m             \u001b[0;32mif\u001b[0m \u001b[0mcolumns\u001b[0m \u001b[0;32mis\u001b[0m \u001b[0;32mnot\u001b[0m \u001b[0;32mNone\u001b[0m\u001b[0;34m:\u001b[0m\u001b[0;34m\u001b[0m\u001b[0;34m\u001b[0m\u001b[0m\n\u001b[1;32m    208\u001b[0m                 self._data = ColumnAccessor(\n",
      "\u001b[0;32m/beegfs/home/r.zagidullin/RAPIDS_VERSIONS/LightAutoML_GPU/lama_venv/lib/python3.8/site-packages/cudf/core/index.py\u001b[0m in \u001b[0;36mas_index\u001b[0;34m(arbitrary, **kwargs)\u001b[0m\n\u001b[1;32m   2956\u001b[0m         \u001b[0;32mreturn\u001b[0m \u001b[0mRangeIndex\u001b[0m\u001b[0;34m(\u001b[0m\u001b[0marbitrary\u001b[0m\u001b[0;34m,\u001b[0m \u001b[0;34m**\u001b[0m\u001b[0mkwargs\u001b[0m\u001b[0;34m)\u001b[0m\u001b[0;34m\u001b[0m\u001b[0;34m\u001b[0m\u001b[0m\n\u001b[1;32m   2957\u001b[0m     return as_index(\n\u001b[0;32m-> 2958\u001b[0;31m         \u001b[0mcolumn\u001b[0m\u001b[0;34m.\u001b[0m\u001b[0mas_column\u001b[0m\u001b[0;34m(\u001b[0m\u001b[0marbitrary\u001b[0m\u001b[0;34m,\u001b[0m \u001b[0mdtype\u001b[0m\u001b[0;34m=\u001b[0m\u001b[0mkwargs\u001b[0m\u001b[0;34m.\u001b[0m\u001b[0mget\u001b[0m\u001b[0;34m(\u001b[0m\u001b[0;34m\"dtype\"\u001b[0m\u001b[0;34m,\u001b[0m \u001b[0;32mNone\u001b[0m\u001b[0;34m)\u001b[0m\u001b[0;34m)\u001b[0m\u001b[0;34m,\u001b[0m \u001b[0;34m**\u001b[0m\u001b[0mkwargs\u001b[0m\u001b[0;34m\u001b[0m\u001b[0;34m\u001b[0m\u001b[0m\n\u001b[0m\u001b[1;32m   2959\u001b[0m     )\n\u001b[1;32m   2960\u001b[0m \u001b[0;34m\u001b[0m\u001b[0m\n",
      "\u001b[0;32m/beegfs/home/r.zagidullin/RAPIDS_VERSIONS/LightAutoML_GPU/lama_venv/lib/python3.8/site-packages/cudf/core/column/column.py\u001b[0m in \u001b[0;36mas_column\u001b[0;34m(arbitrary, nan_as_null, dtype, length)\u001b[0m\n\u001b[1;32m   2085\u001b[0m                         \u001b[0mpa_type\u001b[0m \u001b[0;34m=\u001b[0m \u001b[0mnp_to_pa_dtype\u001b[0m\u001b[0;34m(\u001b[0m\u001b[0mnp\u001b[0m\u001b[0;34m.\u001b[0m\u001b[0mdtype\u001b[0m\u001b[0;34m(\u001b[0m\u001b[0mdtype\u001b[0m\u001b[0;34m)\u001b[0m\u001b[0;34m)\u001b[0m\u001b[0;34m\u001b[0m\u001b[0;34m\u001b[0m\u001b[0m\n\u001b[1;32m   2086\u001b[0m                 data = as_column(\n\u001b[0;32m-> 2087\u001b[0;31m                     pa.array(\n\u001b[0m\u001b[1;32m   2088\u001b[0m                         \u001b[0marbitrary\u001b[0m\u001b[0;34m,\u001b[0m\u001b[0;34m\u001b[0m\u001b[0;34m\u001b[0m\u001b[0m\n\u001b[1;32m   2089\u001b[0m                         \u001b[0mtype\u001b[0m\u001b[0;34m=\u001b[0m\u001b[0mpa_type\u001b[0m\u001b[0;34m,\u001b[0m\u001b[0;34m\u001b[0m\u001b[0;34m\u001b[0m\u001b[0m\n",
      "\u001b[0;32m/beegfs/home/r.zagidullin/RAPIDS_VERSIONS/LightAutoML_GPU/lama_venv/lib/python3.8/site-packages/pyarrow/array.pxi\u001b[0m in \u001b[0;36mpyarrow.lib.array\u001b[0;34m()\u001b[0m\n",
      "\u001b[0;32m/beegfs/home/r.zagidullin/RAPIDS_VERSIONS/LightAutoML_GPU/lama_venv/lib/python3.8/site-packages/pyarrow/array.pxi\u001b[0m in \u001b[0;36mpyarrow.lib._sequence_to_array\u001b[0;34m()\u001b[0m\n",
      "\u001b[0;32m/beegfs/home/r.zagidullin/RAPIDS_VERSIONS/LightAutoML_GPU/lama_venv/lib/python3.8/site-packages/pyarrow/error.pxi\u001b[0m in \u001b[0;36mpyarrow.lib.pyarrow_internal_check_status\u001b[0;34m()\u001b[0m\n",
      "\u001b[0;32m/beegfs/home/r.zagidullin/RAPIDS_VERSIONS/LightAutoML_GPU/lama_venv/lib/python3.8/site-packages/dask/dataframe/core.py\u001b[0m in \u001b[0;36m__getitem__\u001b[0;34m(self, key)\u001b[0m\n\u001b[1;32m   3274\u001b[0m             \u001b[0mgraph\u001b[0m \u001b[0;34m=\u001b[0m \u001b[0mHighLevelGraph\u001b[0m\u001b[0;34m.\u001b[0m\u001b[0mfrom_collections\u001b[0m\u001b[0;34m(\u001b[0m\u001b[0mname\u001b[0m\u001b[0;34m,\u001b[0m \u001b[0mdsk\u001b[0m\u001b[0;34m,\u001b[0m \u001b[0mdependencies\u001b[0m\u001b[0;34m=\u001b[0m\u001b[0;34m[\u001b[0m\u001b[0mself\u001b[0m\u001b[0;34m,\u001b[0m \u001b[0mkey\u001b[0m\u001b[0;34m]\u001b[0m\u001b[0;34m)\u001b[0m\u001b[0;34m\u001b[0m\u001b[0;34m\u001b[0m\u001b[0m\n\u001b[1;32m   3275\u001b[0m             \u001b[0;32mreturn\u001b[0m \u001b[0mSeries\u001b[0m\u001b[0;34m(\u001b[0m\u001b[0mgraph\u001b[0m\u001b[0;34m,\u001b[0m \u001b[0mname\u001b[0m\u001b[0;34m,\u001b[0m \u001b[0mself\u001b[0m\u001b[0;34m.\u001b[0m\u001b[0m_meta\u001b[0m\u001b[0;34m,\u001b[0m \u001b[0mself\u001b[0m\u001b[0;34m.\u001b[0m\u001b[0mdivisions\u001b[0m\u001b[0;34m)\u001b[0m\u001b[0;34m\u001b[0m\u001b[0;34m\u001b[0m\u001b[0m\n\u001b[0;32m-> 3276\u001b[0;31m         raise NotImplementedError(\n\u001b[0m\u001b[1;32m   3277\u001b[0m             \u001b[0;34m\"Series getitem is only supported for other series objects \"\u001b[0m\u001b[0;34m\u001b[0m\u001b[0;34m\u001b[0m\u001b[0m\n\u001b[1;32m   3278\u001b[0m             \u001b[0;34m\"with matching partition structure\"\u001b[0m\u001b[0;34m\u001b[0m\u001b[0;34m\u001b[0m\u001b[0m\n",
      "\u001b[0;31mNotImplementedError\u001b[0m: Series getitem is only supported for other series objects with matching partition structure"
     ]
    }
   ],
   "source": [
    "%%time\n",
    "enc = dd_trf.fit_transform(dd_cats)"
   ]
  },
  {
   "cell_type": "markdown",
   "id": "ec603b0c",
   "metadata": {},
   "source": [
    "## CatIntersections"
   ]
  },
  {
   "cell_type": "code",
   "execution_count": 40,
   "id": "541586e4",
   "metadata": {},
   "outputs": [],
   "source": [
    "trf = SequentialTransformer(\n",
    "    [categorical.LabelEncoder(), categorical.CatIntersectstions()]\n",
    ")\n",
    "gpu_trf = SequentialTransformer(\n",
    "    [categorical_gpu.LabelEncoder_gpu(), categorical_gpu.CatIntersections_gpu()]\n",
    ")\n",
    "dd_trf = SequentialTransformer(\n",
    "    [categorical_gpu.LabelEncoder_gpu(), categorical_gpu.CatIntersections_gpu()]\n",
    ")"
   ]
  },
  {
   "cell_type": "code",
   "execution_count": 41,
   "id": "f7a432a7",
   "metadata": {},
   "outputs": [
    {
     "name": "stdout",
     "output_type": "stream",
     "text": [
      "CPU times: user 1min 48s, sys: 2.87 s, total: 1min 51s\n",
      "Wall time: 1min 50s\n"
     ]
    }
   ],
   "source": [
    "%%time\n",
    "enc = trf.fit_transform(cats)"
   ]
  },
  {
   "cell_type": "code",
   "execution_count": 42,
   "id": "b0c7df85",
   "metadata": {},
   "outputs": [
    {
     "name": "stdout",
     "output_type": "stream",
     "text": [
      "CPU times: user 4.8 s, sys: 3.34 s, total: 8.14 s\n",
      "Wall time: 8.13 s\n"
     ]
    }
   ],
   "source": [
    "%%time\n",
    "enc = gpu_trf.fit_transform(gpu_cats)"
   ]
  },
  {
   "cell_type": "code",
   "execution_count": 43,
   "id": "c0f188a1",
   "metadata": {},
   "outputs": [
    {
     "name": "stdout",
     "output_type": "stream",
     "text": [
      "CPU times: user 5.09 s, sys: 220 ms, total: 5.31 s\n",
      "Wall time: 9.4 s\n"
     ]
    }
   ],
   "source": [
    "%%time\n",
    "enc = dd_trf.fit_transform(dd_cats)"
   ]
  },
  {
   "cell_type": "markdown",
   "id": "9d380425",
   "metadata": {},
   "source": [
    "# TIMING DATETIME TRANSFORMERS"
   ]
  },
  {
   "cell_type": "markdown",
   "id": "3aaea142",
   "metadata": {},
   "source": [
    "## TimeToNum"
   ]
  },
  {
   "cell_type": "code",
   "execution_count": 44,
   "id": "f414d77b",
   "metadata": {},
   "outputs": [
    {
     "name": "stdout",
     "output_type": "stream",
     "text": [
      "(307511, 2) (307511, 2) (307511, 2)\n"
     ]
    }
   ],
   "source": [
    "trf = datetime.TimeToNum()\n",
    "gpu_trf = datetime_gpu.TimeToNum_gpu()\n",
    "dd_trf = datetime_gpu.TimeToNum_gpu()\n",
    "\n",
    "dats = ds[:, get_columns_by_role(ds, 'Datetime')]\n",
    "gpu_dats = gpu_ds[:, get_columns_by_role(gpu_ds, 'Datetime')]\n",
    "dd_dats = dd_ds[:, get_columns_by_role(dd_ds, 'Datetime')]\n",
    "\n",
    "print(dats.shape, gpu_dats.shape, dd_dats.shape)"
   ]
  },
  {
   "cell_type": "code",
   "execution_count": 45,
   "id": "d53145f8",
   "metadata": {},
   "outputs": [
    {
     "name": "stdout",
     "output_type": "stream",
     "text": [
      "CPU times: user 14.1 ms, sys: 10 µs, total: 14.1 ms\n",
      "Wall time: 14.6 ms\n"
     ]
    }
   ],
   "source": [
    "%%time\n",
    "enc = trf.fit_transform(dats)"
   ]
  },
  {
   "cell_type": "code",
   "execution_count": 47,
   "id": "546fed42",
   "metadata": {},
   "outputs": [
    {
     "name": "stdout",
     "output_type": "stream",
     "text": [
      "CPU times: user 5.27 ms, sys: 3.91 ms, total: 9.18 ms\n",
      "Wall time: 8.15 ms\n"
     ]
    }
   ],
   "source": [
    "%%time\n",
    "enc = gpu_trf.fit_transform(gpu_dats)"
   ]
  },
  {
   "cell_type": "code",
   "execution_count": 48,
   "id": "ae125af4",
   "metadata": {},
   "outputs": [
    {
     "name": "stdout",
     "output_type": "stream",
     "text": [
      "CPU times: user 22.8 ms, sys: 2.98 ms, total: 25.8 ms\n",
      "Wall time: 25.4 ms\n"
     ]
    }
   ],
   "source": [
    "%%time\n",
    "enc = dd_trf.fit_transform(dd_dats)"
   ]
  },
  {
   "cell_type": "markdown",
   "id": "d568ce5a",
   "metadata": {},
   "source": [
    "## BaseDiff"
   ]
  },
  {
   "cell_type": "code",
   "execution_count": 49,
   "id": "5e4d6f4b",
   "metadata": {},
   "outputs": [],
   "source": [
    "trf = datetime.BaseDiff(base_names=[dats.features[0]], diff_names=[dats.features[1]])\n",
    "gpu_trf = datetime_gpu.BaseDiff_gpu(base_names=[dats.features[0]], diff_names=[dats.features[1]])\n",
    "dd_trf = datetime_gpu.BaseDiff_gpu(base_names=[dats.features[0]], diff_names=[dats.features[1]])"
   ]
  },
  {
   "cell_type": "code",
   "execution_count": 50,
   "id": "ba469bb8",
   "metadata": {},
   "outputs": [
    {
     "name": "stdout",
     "output_type": "stream",
     "text": [
      "CPU times: user 8.68 ms, sys: 0 ns, total: 8.68 ms\n",
      "Wall time: 7.6 ms\n"
     ]
    }
   ],
   "source": [
    "%%time\n",
    "enc = trf.fit_transform(dats)"
   ]
  },
  {
   "cell_type": "code",
   "execution_count": 52,
   "id": "f50e1e62",
   "metadata": {},
   "outputs": [
    {
     "name": "stdout",
     "output_type": "stream",
     "text": [
      "CPU times: user 6.58 ms, sys: 7.04 ms, total: 13.6 ms\n",
      "Wall time: 12.5 ms\n"
     ]
    }
   ],
   "source": [
    "%%time\n",
    "enc = gpu_trf.fit_transform(gpu_dats)"
   ]
  },
  {
   "cell_type": "code",
   "execution_count": 53,
   "id": "7a54791b",
   "metadata": {
    "scrolled": false
   },
   "outputs": [
    {
     "name": "stdout",
     "output_type": "stream",
     "text": [
      "CPU times: user 18.2 ms, sys: 1.12 ms, total: 19.3 ms\n",
      "Wall time: 18.9 ms\n"
     ]
    }
   ],
   "source": [
    "%%time\n",
    "enc = dd_trf.fit_transform(dd_dats)"
   ]
  },
  {
   "cell_type": "markdown",
   "id": "c9d29435",
   "metadata": {},
   "source": [
    "## DateSeasons"
   ]
  },
  {
   "cell_type": "code",
   "execution_count": 54,
   "id": "f706e616",
   "metadata": {},
   "outputs": [],
   "source": [
    "trf = datetime.DateSeasons()\n",
    "gpu_trf = datetime_gpu.DateSeasons_gpu()\n",
    "dd_trf = datetime_gpu.DateSeasons_gpu()"
   ]
  },
  {
   "cell_type": "code",
   "execution_count": 55,
   "id": "c32645b0",
   "metadata": {},
   "outputs": [
    {
     "name": "stdout",
     "output_type": "stream",
     "text": [
      "CPU times: user 198 ms, sys: 1.96 ms, total: 200 ms\n",
      "Wall time: 196 ms\n"
     ]
    }
   ],
   "source": [
    "%%time\n",
    "enc = trf.fit_transform(dats)"
   ]
  },
  {
   "cell_type": "code",
   "execution_count": 56,
   "id": "fdfa8f6a",
   "metadata": {},
   "outputs": [
    {
     "name": "stdout",
     "output_type": "stream",
     "text": [
      "CPU times: user 15.1 ms, sys: 3.88 ms, total: 18.9 ms\n",
      "Wall time: 23.6 ms\n"
     ]
    }
   ],
   "source": [
    "%%time\n",
    "enc = gpu_trf.fit_transform(gpu_dats)"
   ]
  },
  {
   "cell_type": "code",
   "execution_count": 57,
   "id": "73323ba1",
   "metadata": {},
   "outputs": [
    {
     "name": "stdout",
     "output_type": "stream",
     "text": [
      "CPU times: user 19.5 ms, sys: 2.67 ms, total: 22.2 ms\n",
      "Wall time: 21.3 ms\n"
     ]
    }
   ],
   "source": [
    "%%time\n",
    "enc = dd_trf.fit_transform(dd_dats)"
   ]
  },
  {
   "cell_type": "markdown",
   "id": "4d2a0c56",
   "metadata": {},
   "source": [
    "# TIMING NUMERICAL TRANSFORMERS"
   ]
  },
  {
   "cell_type": "markdown",
   "id": "6d33eb1f",
   "metadata": {},
   "source": [
    "## NaNFlags"
   ]
  },
  {
   "cell_type": "code",
   "execution_count": 58,
   "id": "d8c955ab",
   "metadata": {},
   "outputs": [
    {
     "name": "stdout",
     "output_type": "stream",
     "text": [
      "(307511, 77) (307511, 84) (307511, 78)\n"
     ]
    }
   ],
   "source": [
    "trf = numeric.NaNFlags()\n",
    "gpu_trf = numeric_gpu.NaNFlags_gpu()\n",
    "dd_trf = numeric_gpu.NaNFlags_gpu()\n",
    "\n",
    "nums = ds[:, get_columns_by_role(ds, 'Numeric')]\n",
    "gpu_nums = gpu_ds[:, get_columns_by_role(gpu_ds, 'Numeric')]\n",
    "dd_nums = dd_ds[:, get_columns_by_role(dd_ds, 'Numeric')]\n",
    "\n",
    "print(nums.shape, gpu_nums.shape, dd_nums.shape)"
   ]
  },
  {
   "cell_type": "code",
   "execution_count": 59,
   "id": "7cad3566",
   "metadata": {},
   "outputs": [
    {
     "name": "stdout",
     "output_type": "stream",
     "text": [
      "CPU times: user 54.8 ms, sys: 27.9 ms, total: 82.7 ms\n",
      "Wall time: 80.3 ms\n"
     ]
    }
   ],
   "source": [
    "%%time\n",
    "enc = trf.fit_transform(nums)"
   ]
  },
  {
   "cell_type": "code",
   "execution_count": 60,
   "id": "09598a13",
   "metadata": {},
   "outputs": [
    {
     "name": "stdout",
     "output_type": "stream",
     "text": [
      "CPU times: user 62.3 ms, sys: 35.8 ms, total: 98 ms\n",
      "Wall time: 147 ms\n"
     ]
    }
   ],
   "source": [
    "%%time\n",
    "enc = gpu_trf.fit_transform(gpu_nums)"
   ]
  },
  {
   "cell_type": "code",
   "execution_count": 61,
   "id": "0c2cec36",
   "metadata": {},
   "outputs": [
    {
     "name": "stdout",
     "output_type": "stream",
     "text": [
      "CPU times: user 162 ms, sys: 9.69 ms, total: 171 ms\n",
      "Wall time: 276 ms\n"
     ]
    }
   ],
   "source": [
    "%%time\n",
    "enc = dd_trf.fit_transform(dd_nums)"
   ]
  },
  {
   "cell_type": "markdown",
   "id": "a0eddfb5",
   "metadata": {},
   "source": [
    "## FillnaMedian"
   ]
  },
  {
   "cell_type": "code",
   "execution_count": 62,
   "id": "4404dd20",
   "metadata": {},
   "outputs": [],
   "source": [
    "trf = numeric.FillnaMedian()\n",
    "gpu_trf = numeric_gpu.FillnaMedian_gpu()\n",
    "dd_trf = numeric_gpu.FillnaMedian_gpu()"
   ]
  },
  {
   "cell_type": "code",
   "execution_count": 63,
   "id": "7e9934ba",
   "metadata": {},
   "outputs": [
    {
     "name": "stdout",
     "output_type": "stream",
     "text": [
      "CPU times: user 425 ms, sys: 20.9 ms, total: 446 ms\n",
      "Wall time: 434 ms\n"
     ]
    }
   ],
   "source": [
    "%%time\n",
    "enc = trf.fit_transform(nums)"
   ]
  },
  {
   "cell_type": "code",
   "execution_count": 64,
   "id": "f4ae4e6a",
   "metadata": {},
   "outputs": [
    {
     "name": "stdout",
     "output_type": "stream",
     "text": [
      "CPU times: user 99 ms, sys: 72.3 ms, total: 171 ms\n",
      "Wall time: 405 ms\n"
     ]
    }
   ],
   "source": [
    "%%time\n",
    "enc = gpu_trf.fit_transform(gpu_nums)"
   ]
  },
  {
   "cell_type": "code",
   "execution_count": 65,
   "id": "e3e53a00",
   "metadata": {},
   "outputs": [
    {
     "name": "stdout",
     "output_type": "stream",
     "text": [
      "CPU times: user 1.84 s, sys: 34.9 ms, total: 1.87 s\n",
      "Wall time: 2.07 s\n"
     ]
    }
   ],
   "source": [
    "%%time\n",
    "enc = dd_trf.fit_transform(dd_nums)"
   ]
  },
  {
   "cell_type": "markdown",
   "id": "9c4f75da",
   "metadata": {},
   "source": [
    "## FillInf"
   ]
  },
  {
   "cell_type": "code",
   "execution_count": 66,
   "id": "81c6785e",
   "metadata": {},
   "outputs": [],
   "source": [
    "trf = numeric.FillInf()\n",
    "gpu_trf = numeric_gpu.FillInf_gpu()\n",
    "dd_trf = numeric_gpu.FillInf_gpu()"
   ]
  },
  {
   "cell_type": "code",
   "execution_count": 67,
   "id": "9977045c",
   "metadata": {},
   "outputs": [
    {
     "name": "stdout",
     "output_type": "stream",
     "text": [
      "CPU times: user 38.2 ms, sys: 22.1 ms, total: 60.3 ms\n",
      "Wall time: 56 ms\n"
     ]
    }
   ],
   "source": [
    "%%time\n",
    "enc = trf.fit_transform(nums)"
   ]
  },
  {
   "cell_type": "code",
   "execution_count": 75,
   "id": "1a755d35",
   "metadata": {},
   "outputs": [
    {
     "name": "stdout",
     "output_type": "stream",
     "text": [
      "CPU times: user 29.2 ms, sys: 66 ms, total: 95.2 ms\n",
      "Wall time: 92.6 ms\n"
     ]
    }
   ],
   "source": [
    "%%time\n",
    "enc = gpu_trf.fit_transform(gpu_nums)"
   ]
  },
  {
   "cell_type": "code",
   "execution_count": 76,
   "id": "6e61e5c4",
   "metadata": {},
   "outputs": [
    {
     "name": "stdout",
     "output_type": "stream",
     "text": [
      "CPU times: user 61.3 ms, sys: 16.1 ms, total: 77.3 ms\n",
      "Wall time: 76.6 ms\n"
     ]
    }
   ],
   "source": [
    "%%time\n",
    "enc = dd_trf.fit_transform(dd_nums)"
   ]
  },
  {
   "cell_type": "markdown",
   "id": "1f8379cb",
   "metadata": {},
   "source": [
    "## LogOdds"
   ]
  },
  {
   "cell_type": "code",
   "execution_count": 70,
   "id": "87d78f34",
   "metadata": {},
   "outputs": [],
   "source": [
    "trf = numeric.LogOdds()\n",
    "gpu_trf = numeric_gpu.LogOdds_gpu()\n",
    "dd_trf = numeric_gpu.LogOdds_gpu()"
   ]
  },
  {
   "cell_type": "code",
   "execution_count": 71,
   "id": "94170b48",
   "metadata": {},
   "outputs": [
    {
     "name": "stdout",
     "output_type": "stream",
     "text": [
      "CPU times: user 84.3 ms, sys: 72.2 ms, total: 157 ms\n",
      "Wall time: 153 ms\n"
     ]
    }
   ],
   "source": [
    "%%time\n",
    "enc = trf.fit_transform(nums)"
   ]
  },
  {
   "cell_type": "code",
   "execution_count": 77,
   "id": "7694d955",
   "metadata": {},
   "outputs": [
    {
     "name": "stdout",
     "output_type": "stream",
     "text": [
      "CPU times: user 30.2 ms, sys: 52.1 ms, total: 82.3 ms\n",
      "Wall time: 80 ms\n"
     ]
    }
   ],
   "source": [
    "%%time\n",
    "enc = gpu_trf.fit_transform(gpu_nums)"
   ]
  },
  {
   "cell_type": "code",
   "execution_count": 78,
   "id": "facce29f",
   "metadata": {},
   "outputs": [
    {
     "name": "stdout",
     "output_type": "stream",
     "text": [
      "CPU times: user 63.8 ms, sys: 13.4 ms, total: 77.2 ms\n",
      "Wall time: 77.2 ms\n"
     ]
    }
   ],
   "source": [
    "%%time\n",
    "enc = dd_trf.fit_transform(dd_nums)"
   ]
  },
  {
   "cell_type": "markdown",
   "id": "5c480c76",
   "metadata": {},
   "source": [
    "## StandardScaler"
   ]
  },
  {
   "cell_type": "code",
   "execution_count": 79,
   "id": "3418bed8",
   "metadata": {},
   "outputs": [],
   "source": [
    "trf = numeric.StandardScaler()\n",
    "gpu_trf = numeric_gpu.StandardScaler_gpu()\n",
    "dd_trf = numeric_gpu.StandardScaler_gpu()"
   ]
  },
  {
   "cell_type": "code",
   "execution_count": 80,
   "id": "29c0a02a",
   "metadata": {},
   "outputs": [
    {
     "name": "stdout",
     "output_type": "stream",
     "text": [
      "CPU times: user 498 ms, sys: 70.2 ms, total: 568 ms\n",
      "Wall time: 554 ms\n"
     ]
    }
   ],
   "source": [
    "%%time\n",
    "enc = trf.fit_transform(nums)"
   ]
  },
  {
   "cell_type": "code",
   "execution_count": 82,
   "id": "76dcc8b7",
   "metadata": {},
   "outputs": [
    {
     "name": "stdout",
     "output_type": "stream",
     "text": [
      "CPU times: user 56.9 ms, sys: 61.2 ms, total: 118 ms\n",
      "Wall time: 115 ms\n"
     ]
    }
   ],
   "source": [
    "%%time\n",
    "enc = gpu_trf.fit_transform(gpu_nums)"
   ]
  },
  {
   "cell_type": "code",
   "execution_count": 83,
   "id": "f65ac5b4",
   "metadata": {},
   "outputs": [
    {
     "name": "stdout",
     "output_type": "stream",
     "text": [
      "CPU times: user 247 ms, sys: 24.6 ms, total: 272 ms\n",
      "Wall time: 2.08 s\n"
     ]
    }
   ],
   "source": [
    "%%time\n",
    "enc = dd_trf.fit_transform(dd_nums)"
   ]
  },
  {
   "cell_type": "markdown",
   "id": "6cb40fc8",
   "metadata": {},
   "source": [
    "## QuantileBinning"
   ]
  },
  {
   "cell_type": "code",
   "execution_count": 84,
   "id": "3ab51cde",
   "metadata": {},
   "outputs": [],
   "source": [
    "trf = numeric.QuantileBinning()\n",
    "gpu_trf = numeric_gpu.QuantileBinning_gpu()\n",
    "dd_trf = numeric_gpu.QuantileBinning_gpu()"
   ]
  },
  {
   "cell_type": "code",
   "execution_count": 85,
   "id": "11a6f3bc",
   "metadata": {},
   "outputs": [
    {
     "name": "stdout",
     "output_type": "stream",
     "text": [
      "CPU times: user 1.31 s, sys: 41.3 ms, total: 1.35 s\n",
      "Wall time: 1.32 s\n"
     ]
    }
   ],
   "source": [
    "%%time\n",
    "enc = trf.fit_transform(nums)"
   ]
  },
  {
   "cell_type": "code",
   "execution_count": 86,
   "id": "c8118a7a",
   "metadata": {},
   "outputs": [
    {
     "name": "stdout",
     "output_type": "stream",
     "text": [
      "CPU times: user 211 ms, sys: 169 ms, total: 380 ms\n",
      "Wall time: 379 ms\n"
     ]
    }
   ],
   "source": [
    "%%time\n",
    "enc = gpu_trf.fit_transform(gpu_nums)"
   ]
  },
  {
   "cell_type": "code",
   "execution_count": 87,
   "id": "40594195",
   "metadata": {},
   "outputs": [
    {
     "name": "stdout",
     "output_type": "stream",
     "text": [
      "CPU times: user 2.48 s, sys: 156 ms, total: 2.64 s\n",
      "Wall time: 5.4 s\n"
     ]
    }
   ],
   "source": [
    "%%time\n",
    "enc = dd_trf.fit(dd_nums)"
   ]
  },
  {
   "cell_type": "code",
   "execution_count": 88,
   "id": "058bb321",
   "metadata": {},
   "outputs": [
    {
     "name": "stdout",
     "output_type": "stream",
     "text": [
      "CPU times: user 70.3 ms, sys: 2.06 ms, total: 72.4 ms\n",
      "Wall time: 81.8 ms\n"
     ]
    }
   ],
   "source": [
    "%%time\n",
    "enc = dd_trf.transform(dd_nums)"
   ]
  },
  {
   "cell_type": "code",
   "execution_count": null,
   "id": "f2a1ec2a",
   "metadata": {},
   "outputs": [],
   "source": [
    "# TIMING MULTICLASS TARGET ENCODER"
   ]
  },
  {
   "cell_type": "code",
   "execution_count": 97,
   "id": "902cfcdb",
   "metadata": {},
   "outputs": [],
   "source": [
    "task = task = Task('multiclass')\n",
    "adv_roles = True\n",
    "parts = 2\n",
    "reader = PandasToPandasReader(task, advanced_roles=adv_roles,\n",
    "                              n_jobs=1)\n",
    "gpu_reader = CudfReader(task, advanced_roles=adv_roles, n_jobs=1)\n",
    "dd_reader = DaskCudfReader(task, advanced_roles=adv_roles, \n",
    "                           n_jobs=1, index_ok = True, compute=False, npartitions=parts)\n",
    "\n",
    "hy_reader = HybridReader(task, num_cpu_readers=1,\n",
    "                         num_gpu_readers=2, gpu_ratio=0.6,\n",
    "                         output='mgpu', advanced_roles=adv_roles, index_ok = True,\n",
    "                         compute = False,\n",
    "                         npartitions=parts, n_jobs=1)"
   ]
  },
  {
   "cell_type": "code",
   "execution_count": 90,
   "id": "71a130c5",
   "metadata": {},
   "outputs": [],
   "source": [
    "data_len = data.shape[0]\n",
    "data['TARGET'] = pd.Series(np.random.randint(0, 4, data_len)).astype('i')"
   ]
  },
  {
   "cell_type": "code",
   "execution_count": 91,
   "id": "d5043a25",
   "metadata": {},
   "outputs": [],
   "source": [
    "gpu_data = cudf.DataFrame.from_pandas(data, nan_as_null=False)\n",
    "dd_data = dask_cudf.from_cudf(gpu_data, npartitions=parts)"
   ]
  },
  {
   "cell_type": "code",
   "execution_count": 92,
   "id": "a0aaadf6",
   "metadata": {},
   "outputs": [
    {
     "name": "stdout",
     "output_type": "stream",
     "text": [
      "CPU times: user 40 s, sys: 2.37 s, total: 42.4 s\n",
      "Wall time: 41.6 s\n"
     ]
    }
   ],
   "source": [
    "%%time\n",
    "ds = reader.fit_read(data, roles = {'target': 'TARGET'})"
   ]
  },
  {
   "cell_type": "code",
   "execution_count": 94,
   "id": "84fd0057",
   "metadata": {},
   "outputs": [
    {
     "name": "stdout",
     "output_type": "stream",
     "text": [
      "CPU times: user 22.4 s, sys: 9.5 s, total: 31.9 s\n",
      "Wall time: 31.7 s\n"
     ]
    }
   ],
   "source": [
    "%%time\n",
    "gpu_ds = gpu_reader.fit_read(gpu_data, roles = {'target': 'TARGET'})"
   ]
  },
  {
   "cell_type": "code",
   "execution_count": 95,
   "id": "29bea052",
   "metadata": {},
   "outputs": [
    {
     "name": "stdout",
     "output_type": "stream",
     "text": [
      "CPU times: user 28.6 s, sys: 10.4 s, total: 39 s\n",
      "Wall time: 40.7 s\n"
     ]
    }
   ],
   "source": [
    "%%time\n",
    "dd_ds = dd_reader.fit_read(dd_data, roles = {'target': 'TARGET'})"
   ]
  },
  {
   "cell_type": "code",
   "execution_count": 98,
   "id": "299fcf03",
   "metadata": {},
   "outputs": [
    {
     "name": "stdout",
     "output_type": "stream",
     "text": [
      "CPU times: user 6.18 s, sys: 2.18 s, total: 8.36 s\n",
      "Wall time: 40.8 s\n"
     ]
    }
   ],
   "source": [
    "%%time\n",
    "dd_ds = hy_reader.fit_read(data, roles =  {'target': 'TARGET'})"
   ]
  },
  {
   "cell_type": "code",
   "execution_count": 99,
   "id": "a6914840",
   "metadata": {},
   "outputs": [
    {
     "name": "stdout",
     "output_type": "stream",
     "text": [
      "(307511, 1) (307511, 1) (307511, 1)\n"
     ]
    }
   ],
   "source": [
    "cats = ds[:, get_columns_by_role(ds, 'Category')]\n",
    "gpu_cats = gpu_ds[:, get_columns_by_role(gpu_ds, 'Category')]\n",
    "dd_cats = dd_ds[:, get_columns_by_role(dd_ds, 'Category')]\n",
    "\n",
    "#cpu cats have zero cat columns\n",
    "print(cats.shape, gpu_cats.shape, dd_cats.shape)"
   ]
  },
  {
   "cell_type": "code",
   "execution_count": 100,
   "id": "31e65e7d",
   "metadata": {},
   "outputs": [],
   "source": [
    "trf = SequentialTransformer(\n",
    "    [categorical.LabelEncoder(), categorical.MultiClassTargetEncoder()]\n",
    ")\n",
    "gpu_trf = SequentialTransformer(\n",
    "    [categorical_gpu.LabelEncoder_gpu(), categorical_gpu.MultiClassTargetEncoder_gpu()]\n",
    ")\n",
    "dd_trf = SequentialTransformer(\n",
    "    [categorical_gpu.LabelEncoder_gpu(), categorical_gpu.MultiClassTargetEncoder_gpu()]\n",
    ")\n"
   ]
  },
  {
   "cell_type": "code",
   "execution_count": 101,
   "id": "f74947a4",
   "metadata": {},
   "outputs": [
    {
     "name": "stdout",
     "output_type": "stream",
     "text": [
      "CPU times: user 3 µs, sys: 0 ns, total: 3 µs\n",
      "Wall time: 5.01 µs\n"
     ]
    }
   ],
   "source": [
    "%time\n",
    "enc = trf.fit_transform(cats)"
   ]
  },
  {
   "cell_type": "code",
   "execution_count": 104,
   "id": "4f124e70",
   "metadata": {},
   "outputs": [
    {
     "name": "stdout",
     "output_type": "stream",
     "text": [
      "CPU times: user 61.4 ms, sys: 43.1 ms, total: 105 ms\n",
      "Wall time: 101 ms\n"
     ]
    }
   ],
   "source": [
    "%%time\n",
    "enc = gpu_trf.fit_transform(gpu_cats)"
   ]
  },
  {
   "cell_type": "code",
   "execution_count": 105,
   "id": "af6ba618",
   "metadata": {},
   "outputs": [
    {
     "name": "stdout",
     "output_type": "stream",
     "text": [
      "CPU times: user 476 ms, sys: 17.8 ms, total: 493 ms\n",
      "Wall time: 741 ms\n"
     ]
    }
   ],
   "source": [
    "%%time\n",
    "enc = dd_trf.fit_transform(dd_cats)"
   ]
  },
  {
   "cell_type": "code",
   "execution_count": 106,
   "id": "b8cc4370",
   "metadata": {},
   "outputs": [
    {
     "data": {
      "text/plain": [
       "(307511, 124)"
      ]
     },
     "execution_count": 106,
     "metadata": {},
     "output_type": "execute_result"
    }
   ],
   "source": [
    "data.shape"
   ]
  },
  {
   "cell_type": "code",
   "execution_count": null,
   "id": "f926644c",
   "metadata": {},
   "outputs": [],
   "source": []
  }
 ],
 "metadata": {
  "kernelspec": {
   "display_name": "lama_rapids_python3",
   "language": "python",
   "name": "lama_rapids_python3"
  },
  "language_info": {
   "codemirror_mode": {
    "name": "ipython",
    "version": 3
   },
   "file_extension": ".py",
   "mimetype": "text/x-python",
   "name": "python",
   "nbconvert_exporter": "python",
   "pygments_lexer": "ipython3",
   "version": "3.8.10"
  }
 },
 "nbformat": 4,
 "nbformat_minor": 5
}
