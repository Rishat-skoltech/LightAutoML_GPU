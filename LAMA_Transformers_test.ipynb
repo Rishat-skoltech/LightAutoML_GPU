{
 "cells": [
  {
   "cell_type": "code",
   "execution_count": 1,
   "id": "70fb315b",
   "metadata": {},
   "outputs": [],
   "source": [
    "import os\n",
    "import pickle\n",
    "import time\n",
    "\n",
    "from lightautoml.dataset.np_pd_dataset_cupy import *\n",
    "from lightautoml.dataset.roles import *\n",
    "from lightautoml.dataset.utils import roles_parser\n",
    "\n",
    "from lightautoml.tasks import Task"
   ]
  },
  {
   "cell_type": "code",
   "execution_count": 2,
   "id": "506b1517",
   "metadata": {},
   "outputs": [],
   "source": [
    "from lightautoml.transformers import numeric_gpu, categorical_gpu, datetime_gpu"
   ]
  },
  {
   "cell_type": "markdown",
   "id": "b124875b",
   "metadata": {},
   "source": [
    "# Initial data load"
   ]
  },
  {
   "cell_type": "code",
   "execution_count": 3,
   "id": "1a1ce2b6",
   "metadata": {},
   "outputs": [
    {
     "name": "stdout",
     "output_type": "stream",
     "text": [
      "   TARGET NAME_CONTRACT_TYPE  AMT_CREDIT  AMT_GOODS_PRICE NAME_TYPE_SUITE  \\\n",
      "0       0         Cash loans    327024.0         270000.0   Unaccompanied   \n",
      "1       0         Cash loans    675000.0         675000.0   Unaccompanied   \n",
      "2       0    Revolving loans    270000.0         270000.0   Unaccompanied   \n",
      "3       0         Cash loans    142200.0         112500.0   Unaccompanied   \n",
      "4       0         Cash loans   1483231.5        1354500.0          Family   \n",
      "\n",
      "  BIRTH_DATE   EMP_DATE  __fold__  \n",
      "0 1967-02-08 2017-05-20         3  \n",
      "1 1962-05-19 2007-07-16         4  \n",
      "2 1991-11-14 2015-01-21         2  \n",
      "3 1986-09-25 2011-10-13         4  \n",
      "4 1981-11-08 2013-02-21         4  \n"
     ]
    }
   ],
   "source": [
    "data = pd.read_csv('./example_data/test_data_files/sampled_app_train.csv',\n",
    "                       usecols=['TARGET', 'NAME_CONTRACT_TYPE', 'AMT_CREDIT',\n",
    "                                'NAME_TYPE_SUITE', 'AMT_GOODS_PRICE',\n",
    "                                'DAYS_BIRTH', 'DAYS_EMPLOYED'])\n",
    "\n",
    "# Fix dates and convert to date type\n",
    "\n",
    "data['BIRTH_DATE'] = np.datetime64('2018-01-01') + data['DAYS_BIRTH'].astype(np.dtype('timedelta64[D]'))\n",
    "data['EMP_DATE'] = np.datetime64('2018-01-01') + np.clip(data['DAYS_EMPLOYED'], None, 0).astype(np.dtype('timedelta64[D]'))\n",
    "data.drop(['DAYS_BIRTH', 'DAYS_EMPLOYED'], axis=1, inplace=True)\n",
    "\n",
    "# Create folds\n",
    "data['__fold__'] = np.random.randint(0, 5, len(data))\n",
    "\n",
    "# Print data head\n",
    "print(data.head())\n",
    "\n",
    "# # Set roles for columns\n",
    "\n",
    "check_roles = {\n",
    "    TargetRole(): 'TARGET',\n",
    "    CategoryRole(dtype=str): ['NAME_CONTRACT_TYPE', 'NAME_TYPE_SUITE'],\n",
    "    NumericRole(np.float32): ['AMT_CREDIT', 'AMT_GOODS_PRICE'],\n",
    "    DatetimeRole(seasonality=['y', 'm', 'wd']): ['BIRTH_DATE', 'EMP_DATE'],\n",
    "    FoldsRole(): '__fold__'\n",
    "}\n",
    "\n",
    "# create Task\n",
    "task = Task('binary')\n",
    "\n",
    "# # Creating PandasDataSet\n",
    "pd_dataset = PandasDataset(data, roles_parser(check_roles), task=task)\n",
    "\n",
    "cudf_dataset = pd_dataset.to_cudf()"
   ]
  },
  {
   "cell_type": "code",
   "execution_count": 4,
   "id": "e51a65d8",
   "metadata": {},
   "outputs": [
    {
     "data": {
      "text/plain": [
       "True"
      ]
     },
     "execution_count": 4,
     "metadata": {},
     "output_type": "execute_result"
    }
   ],
   "source": [
    "np.isnan(data.NAME_TYPE_SUITE.iloc[180])"
   ]
  },
  {
   "cell_type": "code",
   "execution_count": 5,
   "id": "f31dd0e5",
   "metadata": {
    "scrolled": true
   },
   "outputs": [
    {
     "name": "stdout",
     "output_type": "stream",
     "text": [
      "[ 270000.  675000.  270000. ...  540000.  436500. 1800000.]\n",
      "nan\n"
     ]
    }
   ],
   "source": [
    "# check for cudf to cupy values conversion\n",
    "print(cudf_dataset.data['AMT_GOODS_PRICE'].values)\n",
    "\n",
    "# check for nan correct representation\n",
    "print(cudf_dataset.data['AMT_GOODS_PRICE'].values.sum())"
   ]
  },
  {
   "cell_type": "markdown",
   "id": "5a2633f4",
   "metadata": {},
   "source": [
    "# Numeric dataset creation & numerical transformers test"
   ]
  },
  {
   "cell_type": "code",
   "execution_count": 6,
   "id": "b9375032",
   "metadata": {},
   "outputs": [],
   "source": [
    "check_roles = {\n",
    "    NumericRole(np.float32): ['AMT_CREDIT', 'AMT_GOODS_PRICE'],\n",
    "}\n",
    "\n",
    "numeric_dataset = CudfDataset(data=cudf_dataset.data[['AMT_CREDIT',\\\n",
    "                                                      'AMT_GOODS_PRICE']].copy(),\n",
    "                        roles=roles_parser(check_roles),\n",
    "                        task=task)"
   ]
  },
  {
   "cell_type": "code",
   "execution_count": 7,
   "id": "447b3bb1",
   "metadata": {},
   "outputs": [],
   "source": [
    "numeric_dataset.folds"
   ]
  },
  {
   "cell_type": "markdown",
   "id": "a9cf214d",
   "metadata": {},
   "source": [
    "## FillNA transformer"
   ]
  },
  {
   "cell_type": "code",
   "execution_count": 8,
   "id": "1247de9a",
   "metadata": {},
   "outputs": [],
   "source": [
    "filler = numeric_gpu.FillnaMedian()"
   ]
  },
  {
   "cell_type": "code",
   "execution_count": 9,
   "id": "72ea78a3",
   "metadata": {},
   "outputs": [
    {
     "name": "stdout",
     "output_type": "stream",
     "text": [
      "array([[ 327024. ,  270000. ],\n",
      "       [ 675000. ,  675000. ],\n",
      "       [ 270000. ,  270000. ],\n",
      "       ...,\n",
      "       [ 540000. ,  540000. ],\n",
      "       [ 505642.5,  436500. ],\n",
      "       [2013840. , 1800000. ]], dtype=float32)\n"
     ]
    }
   ],
   "source": [
    "filled_dataset = filler.fit_transform(numeric_dataset)\n",
    "print(filled_dataset)"
   ]
  },
  {
   "cell_type": "markdown",
   "id": "a313c84b",
   "metadata": {},
   "source": [
    "## Standard scaler transformer"
   ]
  },
  {
   "cell_type": "code",
   "execution_count": 10,
   "id": "2386562d",
   "metadata": {},
   "outputs": [],
   "source": [
    "scaler = numeric_gpu.StandardScaler()"
   ]
  },
  {
   "cell_type": "code",
   "execution_count": 11,
   "id": "8f489dfe",
   "metadata": {},
   "outputs": [
    {
     "data": {
      "text/plain": [
       "array([[-0.6588682 , -0.71132535],\n",
       "       [ 0.19484693,  0.37249017],\n",
       "       [-0.7987694 , -0.71132535],\n",
       "       ...,\n",
       "       [-0.1363585 ,  0.01121833],\n",
       "       [-0.22065029, -0.26575673],\n",
       "       [ 3.4795218 ,  3.3830886 ]], dtype=float32)"
      ]
     },
     "execution_count": 11,
     "metadata": {},
     "output_type": "execute_result"
    }
   ],
   "source": [
    "scaler.fit_transform(filled_dataset)"
   ]
  },
  {
   "cell_type": "markdown",
   "id": "81b05b75",
   "metadata": {},
   "source": [
    "## NANRate"
   ]
  },
  {
   "cell_type": "code",
   "execution_count": 12,
   "id": "d0933b54",
   "metadata": {},
   "outputs": [],
   "source": [
    "nan_rate = numeric_gpu.NaNFlags()"
   ]
  },
  {
   "cell_type": "code",
   "execution_count": 13,
   "id": "32863cc9",
   "metadata": {},
   "outputs": [
    {
     "data": {
      "text/plain": [
       "array([], shape=(10000, 0), dtype=float64)"
      ]
     },
     "execution_count": 13,
     "metadata": {},
     "output_type": "execute_result"
    }
   ],
   "source": [
    "nan_rate.fit_transform(numeric_dataset)"
   ]
  },
  {
   "cell_type": "markdown",
   "id": "4bd42395",
   "metadata": {},
   "source": [
    "## FillInf transformer"
   ]
  },
  {
   "cell_type": "code",
   "execution_count": 14,
   "id": "f3621487",
   "metadata": {},
   "outputs": [],
   "source": [
    "fill_inf = numeric_gpu.FillInf()"
   ]
  },
  {
   "cell_type": "code",
   "execution_count": 15,
   "id": "5d767b02",
   "metadata": {},
   "outputs": [],
   "source": [
    "test_dataset = numeric_dataset.to_numpy().to_cupy()"
   ]
  },
  {
   "cell_type": "code",
   "execution_count": 16,
   "id": "d76bb4c3",
   "metadata": {},
   "outputs": [],
   "source": [
    "test_dataset.data[-1,0] = cp.inf"
   ]
  },
  {
   "cell_type": "code",
   "execution_count": 17,
   "id": "cb24f4bd",
   "metadata": {},
   "outputs": [
    {
     "data": {
      "text/plain": [
       "array([[ 327024. ,  270000. ],\n",
       "       [ 675000. ,  675000. ],\n",
       "       [ 270000. ,  270000. ],\n",
       "       ...,\n",
       "       [ 540000. ,  540000. ],\n",
       "       [ 505642.5,  436500. ],\n",
       "       [      nan, 1800000. ]], dtype=float32)"
      ]
     },
     "execution_count": 17,
     "metadata": {},
     "output_type": "execute_result"
    }
   ],
   "source": [
    "fill_inf.fit_transform(test_dataset)"
   ]
  },
  {
   "cell_type": "code",
   "execution_count": 18,
   "id": "bd2d4b06",
   "metadata": {},
   "outputs": [
    {
     "data": {
      "text/plain": [
       "array([[ 327024. ,  270000. ],\n",
       "       [ 675000. ,  675000. ],\n",
       "       [ 270000. ,  270000. ],\n",
       "       ...,\n",
       "       [ 540000. ,  540000. ],\n",
       "       [ 505642.5,  436500. ],\n",
       "       [      inf, 1800000. ]], dtype=float32)"
      ]
     },
     "execution_count": 18,
     "metadata": {},
     "output_type": "execute_result"
    }
   ],
   "source": [
    "test_dataset"
   ]
  },
  {
   "cell_type": "markdown",
   "id": "e1d75464",
   "metadata": {},
   "source": [
    "## QuantileBinning transformer"
   ]
  },
  {
   "cell_type": "code",
   "execution_count": 19,
   "id": "a0d3fa8b",
   "metadata": {},
   "outputs": [],
   "source": [
    "qb = numeric_gpu.QuantileBinning()"
   ]
  },
  {
   "cell_type": "code",
   "execution_count": 20,
   "id": "26df4a87",
   "metadata": {},
   "outputs": [
    {
     "data": {
      "text/plain": [
       "array([[ 4,  3],\n",
       "       [ 7,  7],\n",
       "       [ 3,  3],\n",
       "       ...,\n",
       "       [ 6,  7],\n",
       "       [ 5,  5],\n",
       "       [10, 10]], dtype=int32)"
      ]
     },
     "execution_count": 20,
     "metadata": {},
     "output_type": "execute_result"
    }
   ],
   "source": [
    "qb.fit_transform(filled_dataset)"
   ]
  },
  {
   "cell_type": "code",
   "execution_count": 21,
   "id": "001769cd",
   "metadata": {},
   "outputs": [
    {
     "data": {
      "text/plain": [
       "array([[ 327024. ,  270000. ],\n",
       "       [ 675000. ,  675000. ],\n",
       "       [ 270000. ,  270000. ],\n",
       "       ...,\n",
       "       [ 540000. ,  540000. ],\n",
       "       [ 505642.5,  436500. ],\n",
       "       [2013840. , 1800000. ]], dtype=float32)"
      ]
     },
     "execution_count": 21,
     "metadata": {},
     "output_type": "execute_result"
    }
   ],
   "source": [
    "filled_dataset"
   ]
  },
  {
   "cell_type": "markdown",
   "id": "d0436592",
   "metadata": {},
   "source": [
    "# Categorical dataset creation & categorical transformers test"
   ]
  },
  {
   "cell_type": "code",
   "execution_count": 22,
   "id": "692fa1e9",
   "metadata": {},
   "outputs": [],
   "source": [
    "check_roles = {\n",
    "    CategoryRole(dtype=str): ['NAME_CONTRACT_TYPE', 'NAME_TYPE_SUITE'],\n",
    "}"
   ]
  },
  {
   "cell_type": "code",
   "execution_count": 23,
   "id": "1767c4d0",
   "metadata": {},
   "outputs": [],
   "source": [
    "categorical_dataset = CudfDataset(data=cudf_dataset.data[['NAME_CONTRACT_TYPE',\\\n",
    "                                                      'NAME_TYPE_SUITE']].copy(),\n",
    "                        roles=roles_parser(check_roles),\n",
    "                        task=task)"
   ]
  },
  {
   "cell_type": "code",
   "execution_count": 24,
   "id": "e9b87ab9",
   "metadata": {},
   "outputs": [
    {
     "data": {
      "text/plain": [
       "0"
      ]
     },
     "execution_count": 24,
     "metadata": {},
     "output_type": "execute_result"
    }
   ],
   "source": [
    "categorical_dataset.data.NAME_TYPE_SUITE.isna().sum()"
   ]
  },
  {
   "cell_type": "markdown",
   "id": "67f3e214",
   "metadata": {},
   "source": [
    "## Label Encoder transformer"
   ]
  },
  {
   "cell_type": "code",
   "execution_count": 25,
   "id": "e510444f",
   "metadata": {},
   "outputs": [],
   "source": [
    "le = categorical_gpu.LabelEncoder()"
   ]
  },
  {
   "cell_type": "code",
   "execution_count": 26,
   "id": "310ccec0",
   "metadata": {},
   "outputs": [],
   "source": [
    "a = le.fit_transform(categorical_dataset).data"
   ]
  },
  {
   "cell_type": "code",
   "execution_count": 27,
   "id": "f560b884",
   "metadata": {},
   "outputs": [],
   "source": [
    "encoded_dataset = le.transform(categorical_dataset)"
   ]
  },
  {
   "cell_type": "code",
   "execution_count": 28,
   "id": "4695b87a",
   "metadata": {},
   "outputs": [],
   "source": [
    "from lightautoml.transformers.categorical import LabelEncoder as LE"
   ]
  },
  {
   "cell_type": "code",
   "execution_count": 29,
   "id": "6e26f7f4",
   "metadata": {},
   "outputs": [],
   "source": [
    "label = LE()\n",
    "b = label.fit_transform(encoded_dataset.to_cudf().to_pandas()).data"
   ]
  },
  {
   "cell_type": "code",
   "execution_count": 30,
   "id": "7bc6f555",
   "metadata": {},
   "outputs": [
    {
     "data": {
      "text/plain": [
       "True"
      ]
     },
     "execution_count": 30,
     "metadata": {},
     "output_type": "execute_result"
    }
   ],
   "source": [
    "(b == cp.asnumpy(a)).all()"
   ]
  },
  {
   "cell_type": "markdown",
   "id": "bfee184c",
   "metadata": {},
   "source": [
    "## OneHot Encoder transformer"
   ]
  },
  {
   "cell_type": "code",
   "execution_count": 31,
   "id": "64982906",
   "metadata": {},
   "outputs": [],
   "source": [
    "ohe = categorical_gpu.OHEEncoder()"
   ]
  },
  {
   "cell_type": "code",
   "execution_count": 32,
   "id": "122bd518",
   "metadata": {},
   "outputs": [
    {
     "data": {
      "text/plain": [
       "array([[1., 0., 1., ..., 0., 0., 0.],\n",
       "       [1., 0., 1., ..., 0., 0., 0.],\n",
       "       [0., 1., 1., ..., 0., 0., 0.],\n",
       "       ...,\n",
       "       [0., 1., 1., ..., 0., 0., 0.],\n",
       "       [1., 0., 1., ..., 0., 0., 0.],\n",
       "       [1., 0., 0., ..., 0., 0., 0.]], dtype=float32)"
      ]
     },
     "execution_count": 32,
     "metadata": {},
     "output_type": "execute_result"
    }
   ],
   "source": [
    "ohe.fit_transform(encoded_dataset)"
   ]
  },
  {
   "cell_type": "code",
   "execution_count": 33,
   "id": "3bf6d545",
   "metadata": {},
   "outputs": [],
   "source": [
    "from cuml.preprocessing import OneHotEncoder"
   ]
  },
  {
   "cell_type": "code",
   "execution_count": 34,
   "id": "eda7a5e7",
   "metadata": {},
   "outputs": [],
   "source": [
    "ohe_ = OneHotEncoder(categories='auto',\n",
    "                                 dtype=cp.float32, sparse=False,\n",
    "                                 handle_unknown='ignore')"
   ]
  },
  {
   "cell_type": "code",
   "execution_count": 35,
   "id": "45e7b651",
   "metadata": {},
   "outputs": [],
   "source": [
    "a = ohe_.fit_transform(encoded_dataset.data)"
   ]
  },
  {
   "cell_type": "code",
   "execution_count": 36,
   "id": "22f0e31e",
   "metadata": {},
   "outputs": [],
   "source": [
    "b = ohe.fit_transform(encoded_dataset)"
   ]
  },
  {
   "cell_type": "code",
   "execution_count": 37,
   "id": "0b5a3910",
   "metadata": {},
   "outputs": [
    {
     "data": {
      "text/plain": [
       "array(True)"
      ]
     },
     "execution_count": 37,
     "metadata": {},
     "output_type": "execute_result"
    }
   ],
   "source": [
    "(a == b.data).all()"
   ]
  },
  {
   "cell_type": "markdown",
   "id": "38f0d0b2",
   "metadata": {},
   "source": [
    "## FreqEncoder transformer"
   ]
  },
  {
   "cell_type": "code",
   "execution_count": 38,
   "id": "51a77764",
   "metadata": {},
   "outputs": [],
   "source": [
    "freq_enc = categorical_gpu.FreqEncoder()"
   ]
  },
  {
   "cell_type": "code",
   "execution_count": 39,
   "id": "04d957e3",
   "metadata": {},
   "outputs": [
    {
     "data": {
      "text/plain": [
       "array([[8972., 8045.],\n",
       "       [8972., 8045.],\n",
       "       [1028., 8045.],\n",
       "       ...,\n",
       "       [1028., 8045.],\n",
       "       [8972., 8045.],\n",
       "       [8972.,  387.]], dtype=float32)"
      ]
     },
     "execution_count": 39,
     "metadata": {},
     "output_type": "execute_result"
    }
   ],
   "source": [
    "freq_enc.fit_transform(encoded_dataset)"
   ]
  },
  {
   "cell_type": "code",
   "execution_count": 40,
   "id": "97d4a1e1",
   "metadata": {},
   "outputs": [],
   "source": [
    "from lightautoml.transformers.categorical import FreqEncoder as fe"
   ]
  },
  {
   "cell_type": "code",
   "execution_count": 41,
   "id": "76737227",
   "metadata": {},
   "outputs": [],
   "source": [
    "fe_ = fe()"
   ]
  },
  {
   "cell_type": "code",
   "execution_count": 42,
   "id": "456a1725",
   "metadata": {},
   "outputs": [
    {
     "data": {
      "text/plain": [
       "array([[8972., 8045.],\n",
       "       [8972., 8045.],\n",
       "       [1028., 8045.],\n",
       "       ...,\n",
       "       [1028., 8045.],\n",
       "       [8972., 8045.],\n",
       "       [8972.,  387.]], dtype=float32)"
      ]
     },
     "execution_count": 42,
     "metadata": {},
     "output_type": "execute_result"
    }
   ],
   "source": [
    "fe_.fit_transform(encoded_dataset.to_cudf().to_pandas())"
   ]
  },
  {
   "cell_type": "code",
   "execution_count": 43,
   "id": "da33e23e",
   "metadata": {},
   "outputs": [
    {
     "data": {
      "text/plain": [
       "True"
      ]
     },
     "execution_count": 43,
     "metadata": {},
     "output_type": "execute_result"
    }
   ],
   "source": [
    "(freq_enc.fit_transform(encoded_dataset).to_numpy().data ==\\\n",
    "fe_.fit_transform(encoded_dataset.to_cudf().to_pandas()).data).all()"
   ]
  },
  {
   "cell_type": "markdown",
   "id": "f8a3755d",
   "metadata": {},
   "source": [
    "## TargetEncoder transformer"
   ]
  },
  {
   "cell_type": "code",
   "execution_count": 44,
   "id": "1289af8b",
   "metadata": {},
   "outputs": [],
   "source": [
    "encoded_dataset.folds = cudf_dataset.folds\n",
    "encoded_dataset.target = cudf_dataset.target"
   ]
  },
  {
   "cell_type": "code",
   "execution_count": 45,
   "id": "66fb0f23",
   "metadata": {},
   "outputs": [],
   "source": [
    "target_enc = categorical_gpu.TargetEncoder()"
   ]
  },
  {
   "cell_type": "code",
   "execution_count": 46,
   "id": "cb295bba",
   "metadata": {},
   "outputs": [],
   "source": [
    "a = target_enc.fit_transform(encoded_dataset)"
   ]
  },
  {
   "cell_type": "code",
   "execution_count": 47,
   "id": "d7f5d2c7",
   "metadata": {},
   "outputs": [],
   "source": [
    "from lightautoml.transformers.categorical import TargetEncoder as te"
   ]
  },
  {
   "cell_type": "code",
   "execution_count": 48,
   "id": "cbe1208a",
   "metadata": {},
   "outputs": [],
   "source": [
    "target_cpu = te()\n",
    "\n",
    "encoded_cpu = encoded_dataset.to_cudf().to_pandas().to_numpy()\n",
    "encoded_cpu.folds = cp.asnumpy(encoded_dataset.folds)\n",
    "encoded_cpu.target = cp.asnumpy(encoded_dataset.target)\n",
    "b = target_cpu.fit_transform(encoded_cpu)"
   ]
  },
  {
   "cell_type": "code",
   "execution_count": 49,
   "id": "b6ede795",
   "metadata": {},
   "outputs": [
    {
     "data": {
      "text/plain": [
       "True"
      ]
     },
     "execution_count": 49,
     "metadata": {},
     "output_type": "execute_result"
    }
   ],
   "source": [
    "np.allclose(cp.asnumpy(a.data), b.data)"
   ]
  },
  {
   "cell_type": "markdown",
   "id": "f45bbe51",
   "metadata": {},
   "source": [
    "## Multiclass TargetEncoder transformer"
   ]
  },
  {
   "cell_type": "code",
   "execution_count": 50,
   "id": "1b8d99c0",
   "metadata": {},
   "outputs": [],
   "source": [
    "task = Task('multiclass')\n",
    "check_roles = {\n",
    "    CategoryRole(dtype=int): ['le__NAME_CONTRACT_TYPE', 'le__NAME_TYPE_SUITE'],\n",
    "}\n",
    "\n",
    "encoded_multiclass = CupyDataset(data=encoded_dataset.data.copy(),\n",
    "                        features=['le__NAME_CONTRACT_TYPE', 'le__NAME_TYPE_SUITE'],\n",
    "                        roles=roles_parser(check_roles),\n",
    "                        task=task)\n",
    "\n",
    "encoded_multiclass.target = cudf.Series(cp.random.randint(0,5,10000))"
   ]
  },
  {
   "cell_type": "code",
   "execution_count": 51,
   "id": "2ec7371c",
   "metadata": {},
   "outputs": [],
   "source": [
    "le = categorical_gpu.LabelEncoder()\n",
    "multi_te = categorical_gpu.MultiClassTargetEncoder()"
   ]
  },
  {
   "cell_type": "code",
   "execution_count": 52,
   "id": "754c82b7",
   "metadata": {},
   "outputs": [],
   "source": [
    "encoded_le = le.fit_transform(encoded_multiclass)\n",
    "encoded_le.target = encoded_multiclass.target\n",
    "encoded_le.folds = encoded_dataset.folds\n",
    "a = multi_te.fit_transform(encoded_le).data"
   ]
  },
  {
   "cell_type": "code",
   "execution_count": 53,
   "id": "57882ed7",
   "metadata": {},
   "outputs": [],
   "source": [
    "encoded_cpu = encoded_le.to_cudf().to_pandas().to_numpy()\n",
    "encoded_cpu.target = encoded_multiclass.target.to_pandas().values\n",
    "encoded_cpu.folds = encoded_dataset.folds.to_pandas().values"
   ]
  },
  {
   "cell_type": "code",
   "execution_count": 54,
   "id": "34d3ed9e",
   "metadata": {},
   "outputs": [],
   "source": [
    "from lightautoml.transformers.categorical import MultiClassTargetEncoder as MCTE"
   ]
  },
  {
   "cell_type": "code",
   "execution_count": 55,
   "id": "6386bbc8",
   "metadata": {},
   "outputs": [],
   "source": [
    "mlc = MCTE()"
   ]
  },
  {
   "cell_type": "code",
   "execution_count": 56,
   "id": "9740ff0b",
   "metadata": {},
   "outputs": [],
   "source": [
    "b = mlc.fit_transform(encoded_cpu).data"
   ]
  },
  {
   "cell_type": "code",
   "execution_count": 57,
   "id": "3692a5a3",
   "metadata": {},
   "outputs": [
    {
     "data": {
      "text/plain": [
       "array(True)"
      ]
     },
     "execution_count": 57,
     "metadata": {},
     "output_type": "execute_result"
    }
   ],
   "source": [
    "np.allclose(a, cp.asarray(b))"
   ]
  },
  {
   "cell_type": "code",
   "execution_count": 58,
   "id": "2faf9428",
   "metadata": {},
   "outputs": [
    {
     "data": {
      "text/plain": [
       "7.868959e-08"
      ]
     },
     "execution_count": 58,
     "metadata": {},
     "output_type": "execute_result"
    }
   ],
   "source": [
    "(np.abs(cp.asnumpy(a)-b).max()/np.abs(b)).max()"
   ]
  },
  {
   "cell_type": "markdown",
   "id": "c2ce3e5e",
   "metadata": {},
   "source": [
    "## CatIntersections transformer"
   ]
  },
  {
   "cell_type": "code",
   "execution_count": 59,
   "id": "6149196a",
   "metadata": {},
   "outputs": [],
   "source": [
    "cat_intersect_transformer = categorical_gpu.CatIntersectstions()\n",
    "a = cat_intersect_transformer.fit_transform(encoded_dataset).data"
   ]
  },
  {
   "cell_type": "code",
   "execution_count": 60,
   "id": "969675a6",
   "metadata": {},
   "outputs": [],
   "source": [
    "from lightautoml.transformers.categorical import CatIntersectstions as CI\n",
    "cat_int = CI()\n",
    "b = cat_int.fit_transform(encoded_dataset.to_cudf().to_pandas()).data"
   ]
  },
  {
   "cell_type": "code",
   "execution_count": 61,
   "id": "6b4d1fa9",
   "metadata": {},
   "outputs": [
    {
     "name": "stdout",
     "output_type": "stream",
     "text": [
      "0.9992\n"
     ]
    }
   ],
   "source": [
    "print((cp.asnumpy(a)==b).mean())"
   ]
  },
  {
   "cell_type": "markdown",
   "id": "36fbb4fa",
   "metadata": {},
   "source": [
    "## Ordinal Encoder transformer"
   ]
  },
  {
   "cell_type": "code",
   "execution_count": 62,
   "id": "540283f0",
   "metadata": {},
   "outputs": [],
   "source": [
    "ordinal_encoder = categorical_gpu.OrdinalEncoder()"
   ]
  },
  {
   "cell_type": "code",
   "execution_count": 63,
   "id": "fe40e504",
   "metadata": {},
   "outputs": [],
   "source": [
    "a = ordinal_encoder.fit_transform(categorical_dataset).data"
   ]
  },
  {
   "cell_type": "code",
   "execution_count": 64,
   "id": "1f218b48",
   "metadata": {},
   "outputs": [],
   "source": [
    "from lightautoml.transformers.categorical import OrdinalEncoder as OE"
   ]
  },
  {
   "cell_type": "code",
   "execution_count": 65,
   "id": "9e057ba6",
   "metadata": {},
   "outputs": [],
   "source": [
    "ordinal = OE()\n",
    "b = ordinal.fit_transform(categorical_dataset.to_cudf().to_pandas()).data"
   ]
  },
  {
   "cell_type": "code",
   "execution_count": 66,
   "id": "66b723d3",
   "metadata": {},
   "outputs": [
    {
     "data": {
      "text/plain": [
       "True"
      ]
     },
     "execution_count": 66,
     "metadata": {},
     "output_type": "execute_result"
    }
   ],
   "source": [
    "(cp.asnumpy(a) == b).all()"
   ]
  },
  {
   "cell_type": "markdown",
   "id": "2208f4b6",
   "metadata": {},
   "source": [
    "# Datetime transformers"
   ]
  },
  {
   "cell_type": "code",
   "execution_count": 67,
   "id": "b3123714",
   "metadata": {},
   "outputs": [],
   "source": [
    "check_roles = {\n",
    "    DatetimeRole(seasonality=['y', 'm', 'wd']): ['BIRTH_DATE', 'EMP_DATE'],\n",
    "}\n",
    "\n",
    "datetime_dataset = CudfDataset(data=cudf_dataset.data[['BIRTH_DATE',\\\n",
    "                                                      'EMP_DATE']].copy(),\n",
    "                        roles=roles_parser(check_roles),\n",
    "                        task=task)"
   ]
  },
  {
   "cell_type": "code",
   "execution_count": 68,
   "id": "46d38a3c",
   "metadata": {},
   "outputs": [
    {
     "data": {
      "text/html": [
       "<div>\n",
       "<style scoped>\n",
       "    .dataframe tbody tr th:only-of-type {\n",
       "        vertical-align: middle;\n",
       "    }\n",
       "\n",
       "    .dataframe tbody tr th {\n",
       "        vertical-align: top;\n",
       "    }\n",
       "\n",
       "    .dataframe thead th {\n",
       "        text-align: right;\n",
       "    }\n",
       "</style>\n",
       "<table border=\"1\" class=\"dataframe\">\n",
       "  <thead>\n",
       "    <tr style=\"text-align: right;\">\n",
       "      <th></th>\n",
       "      <th>BIRTH_DATE</th>\n",
       "      <th>EMP_DATE</th>\n",
       "    </tr>\n",
       "  </thead>\n",
       "  <tbody>\n",
       "    <tr>\n",
       "      <th>0</th>\n",
       "      <td>1967-02-08</td>\n",
       "      <td>2017-05-20</td>\n",
       "    </tr>\n",
       "    <tr>\n",
       "      <th>1</th>\n",
       "      <td>1962-05-19</td>\n",
       "      <td>2007-07-16</td>\n",
       "    </tr>\n",
       "    <tr>\n",
       "      <th>2</th>\n",
       "      <td>1991-11-14</td>\n",
       "      <td>2015-01-21</td>\n",
       "    </tr>\n",
       "    <tr>\n",
       "      <th>3</th>\n",
       "      <td>1986-09-25</td>\n",
       "      <td>2011-10-13</td>\n",
       "    </tr>\n",
       "    <tr>\n",
       "      <th>4</th>\n",
       "      <td>1981-11-08</td>\n",
       "      <td>2013-02-21</td>\n",
       "    </tr>\n",
       "    <tr>\n",
       "      <th>...</th>\n",
       "      <td>...</td>\n",
       "      <td>...</td>\n",
       "    </tr>\n",
       "    <tr>\n",
       "      <th>9995</th>\n",
       "      <td>1958-09-28</td>\n",
       "      <td>2018-01-01</td>\n",
       "    </tr>\n",
       "    <tr>\n",
       "      <th>9996</th>\n",
       "      <td>1984-02-09</td>\n",
       "      <td>2017-07-19</td>\n",
       "    </tr>\n",
       "    <tr>\n",
       "      <th>9997</th>\n",
       "      <td>1974-10-14</td>\n",
       "      <td>1997-01-12</td>\n",
       "    </tr>\n",
       "    <tr>\n",
       "      <th>9998</th>\n",
       "      <td>1961-01-02</td>\n",
       "      <td>2018-01-01</td>\n",
       "    </tr>\n",
       "    <tr>\n",
       "      <th>9999</th>\n",
       "      <td>1981-12-15</td>\n",
       "      <td>2015-06-23</td>\n",
       "    </tr>\n",
       "  </tbody>\n",
       "</table>\n",
       "<p>10000 rows × 2 columns</p>\n",
       "</div>"
      ],
      "text/plain": [
       "     BIRTH_DATE   EMP_DATE\n",
       "0    1967-02-08 2017-05-20\n",
       "1    1962-05-19 2007-07-16\n",
       "2    1991-11-14 2015-01-21\n",
       "3    1986-09-25 2011-10-13\n",
       "4    1981-11-08 2013-02-21\n",
       "...         ...        ...\n",
       "9995 1958-09-28 2018-01-01\n",
       "9996 1984-02-09 2017-07-19\n",
       "9997 1974-10-14 1997-01-12\n",
       "9998 1961-01-02 2018-01-01\n",
       "9999 1981-12-15 2015-06-23\n",
       "\n",
       "[10000 rows x 2 columns]"
      ]
     },
     "execution_count": 68,
     "metadata": {},
     "output_type": "execute_result"
    }
   ],
   "source": [
    "datetime_dataset.data"
   ]
  },
  {
   "cell_type": "markdown",
   "id": "1cf43fae",
   "metadata": {},
   "source": [
    "## TimeToNum transformer"
   ]
  },
  {
   "cell_type": "code",
   "execution_count": 69,
   "id": "6e29948f",
   "metadata": {},
   "outputs": [],
   "source": [
    "time_to_num = datetime_gpu.TimeToNum()"
   ]
  },
  {
   "cell_type": "code",
   "execution_count": 70,
   "id": "0086fe01",
   "metadata": {},
   "outputs": [
    {
     "data": {
      "text/plain": [
       "array([[-19320.,   -956.],\n",
       "       [-21046.,  -4552.],\n",
       "       [-10275.,  -1806.],\n",
       "       ...,\n",
       "       [-16515.,  -8389.],\n",
       "       [-21548.,   -730.],\n",
       "       [-13896.,  -1653.]], dtype=float32)"
      ]
     },
     "execution_count": 70,
     "metadata": {},
     "output_type": "execute_result"
    }
   ],
   "source": [
    "time_to_num.fit_transform(datetime_dataset)"
   ]
  },
  {
   "cell_type": "markdown",
   "id": "038e1dfd",
   "metadata": {},
   "source": [
    "## BaseDiff transformer"
   ]
  },
  {
   "cell_type": "code",
   "execution_count": 71,
   "id": "1b558f69",
   "metadata": {},
   "outputs": [],
   "source": [
    "basediff = datetime_gpu.BaseDiff(base_names=['EMP_DATE'], diff_names=['BIRTH_DATE'])"
   ]
  },
  {
   "cell_type": "code",
   "execution_count": 72,
   "id": "fcb12176",
   "metadata": {},
   "outputs": [
    {
     "data": {
      "text/plain": [
       "array([[-18364.],\n",
       "       [-16494.],\n",
       "       [ -8469.],\n",
       "       ...,\n",
       "       [ -8126.],\n",
       "       [-20818.],\n",
       "       [-12243.]], dtype=float32)"
      ]
     },
     "execution_count": 72,
     "metadata": {},
     "output_type": "execute_result"
    }
   ],
   "source": [
    "basediff.fit_transform(datetime_dataset)"
   ]
  },
  {
   "cell_type": "markdown",
   "id": "cbe6dab7",
   "metadata": {},
   "source": [
    "## DateSeasons transformer"
   ]
  },
  {
   "cell_type": "code",
   "execution_count": 73,
   "id": "2e1d617e",
   "metadata": {},
   "outputs": [
    {
     "data": {
      "text/plain": [
       "array([[1967,    2,    2, 2017,    5,    5],\n",
       "       [1962,    5,    5, 2007,    7,    0],\n",
       "       [1991,   11,    3, 2015,    1,    2],\n",
       "       ...,\n",
       "       [1974,   10,    0, 1997,    1,    6],\n",
       "       [1961,    1,    0, 2018,    1,    0],\n",
       "       [1981,   12,    1, 2015,    6,    1]], dtype=int32)"
      ]
     },
     "execution_count": 73,
     "metadata": {},
     "output_type": "execute_result"
    }
   ],
   "source": [
    "date_seasons = datetime_gpu.DateSeasons()\n",
    "\n",
    "date_seasons.fit_transform(datetime_dataset)"
   ]
  }
 ],
 "metadata": {
  "kernelspec": {
   "display_name": "Python 3",
   "language": "python",
   "name": "python3"
  },
  "language_info": {
   "codemirror_mode": {
    "name": "ipython",
    "version": 3
   },
   "file_extension": ".py",
   "mimetype": "text/x-python",
   "name": "python",
   "nbconvert_exporter": "python",
   "pygments_lexer": "ipython3",
   "version": "3.8.10"
  }
 },
 "nbformat": 4,
 "nbformat_minor": 5
}
